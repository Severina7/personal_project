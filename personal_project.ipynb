{
 "cells": [
  {
   "cell_type": "markdown",
   "id": "32da6d2a",
   "metadata": {},
   "source": [
    "# Personal Project main notebook"
   ]
  },
  {
   "cell_type": "code",
   "execution_count": 165,
   "id": "4f18b4e2",
   "metadata": {},
   "outputs": [],
   "source": [
    "# Ignoring warning messages from python\n",
    "import warnings\n",
    "warnings.filterwarnings('ignore')\n",
    "\n",
    "# General use imports\n",
    "import pandas as pd\n",
    "import numpy as np\n",
    "\n",
    "# Visualization imports\n",
    "import matplotlib.pyplot as plt\n",
    "import seaborn as sns\n",
    "import plotly.express as px\n",
    "\n",
    "# Modules and data\n",
    "import requests\n",
    "import acquire\n",
    "import prep\n",
    "from vega_datasets import data\n",
    "from datetime import datetime"
   ]
  },
  {
   "cell_type": "markdown",
   "id": "55976997",
   "metadata": {},
   "source": [
    "# I. Acquire"
   ]
  },
  {
   "cell_type": "code",
   "execution_count": 2,
   "id": "3596ff90",
   "metadata": {},
   "outputs": [
    {
     "data": {
      "text/html": [
       "<div>\n",
       "<style scoped>\n",
       "    .dataframe tbody tr th:only-of-type {\n",
       "        vertical-align: middle;\n",
       "    }\n",
       "\n",
       "    .dataframe tbody tr th {\n",
       "        vertical-align: top;\n",
       "    }\n",
       "\n",
       "    .dataframe thead th {\n",
       "        text-align: right;\n",
       "    }\n",
       "</style>\n",
       "<table border=\"1\" class=\"dataframe\">\n",
       "  <thead>\n",
       "    <tr style=\"text-align: right;\">\n",
       "      <th></th>\n",
       "      <th>Date</th>\n",
       "      <th>Description</th>\n",
       "      <th>Original Description</th>\n",
       "      <th>Amount</th>\n",
       "      <th>Transaction Type</th>\n",
       "      <th>Category</th>\n",
       "      <th>Account Name</th>\n",
       "      <th>Labels</th>\n",
       "      <th>Notes</th>\n",
       "    </tr>\n",
       "  </thead>\n",
       "  <tbody>\n",
       "    <tr>\n",
       "      <th>0</th>\n",
       "      <td>6/29/2022</td>\n",
       "      <td>DEPOSIT@MOBILE</td>\n",
       "      <td>DEPOSIT@MOBILE</td>\n",
       "      <td>206.25</td>\n",
       "      <td>credit</td>\n",
       "      <td>Transfer</td>\n",
       "      <td>Checkarama</td>\n",
       "      <td>NaN</td>\n",
       "      <td>NaN</td>\n",
       "    </tr>\n",
       "    <tr>\n",
       "      <th>1</th>\n",
       "      <td>6/28/2022</td>\n",
       "      <td>MATTHEWS VET SERVICES, P</td>\n",
       "      <td>MATTHEWS VET SERVICES, P</td>\n",
       "      <td>13.20</td>\n",
       "      <td>debit</td>\n",
       "      <td>Veterinary</td>\n",
       "      <td>CREDIT CARD</td>\n",
       "      <td>NaN</td>\n",
       "      <td>NaN</td>\n",
       "    </tr>\n",
       "    <tr>\n",
       "      <th>2</th>\n",
       "      <td>6/28/2022</td>\n",
       "      <td>STARBUCKS STORE 24306</td>\n",
       "      <td>STARBUCKS STORE 24306</td>\n",
       "      <td>5.57</td>\n",
       "      <td>debit</td>\n",
       "      <td>Coffee Shops</td>\n",
       "      <td>CREDIT CARD</td>\n",
       "      <td>NaN</td>\n",
       "      <td>NaN</td>\n",
       "    </tr>\n",
       "    <tr>\n",
       "      <th>3</th>\n",
       "      <td>6/28/2022</td>\n",
       "      <td>PAYPAL *HULU</td>\n",
       "      <td>PAYPAL *HULU</td>\n",
       "      <td>14.16</td>\n",
       "      <td>debit</td>\n",
       "      <td>Television</td>\n",
       "      <td>CREDIT CARD</td>\n",
       "      <td>NaN</td>\n",
       "      <td>NaN</td>\n",
       "    </tr>\n",
       "    <tr>\n",
       "      <th>4</th>\n",
       "      <td>6/28/2022</td>\n",
       "      <td>H-E-B #618</td>\n",
       "      <td>H-E-B #618</td>\n",
       "      <td>20.56</td>\n",
       "      <td>debit</td>\n",
       "      <td>Groceries</td>\n",
       "      <td>CREDIT CARD</td>\n",
       "      <td>NaN</td>\n",
       "      <td>NaN</td>\n",
       "    </tr>\n",
       "  </tbody>\n",
       "</table>\n",
       "</div>"
      ],
      "text/plain": [
       "        Date               Description      Original Description  Amount  \\\n",
       "0  6/29/2022            DEPOSIT@MOBILE            DEPOSIT@MOBILE  206.25   \n",
       "1  6/28/2022  MATTHEWS VET SERVICES, P  MATTHEWS VET SERVICES, P   13.20   \n",
       "2  6/28/2022     STARBUCKS STORE 24306     STARBUCKS STORE 24306    5.57   \n",
       "3  6/28/2022              PAYPAL *HULU              PAYPAL *HULU   14.16   \n",
       "4  6/28/2022                H-E-B #618                H-E-B #618   20.56   \n",
       "\n",
       "  Transaction Type      Category Account Name Labels Notes  \n",
       "0           credit      Transfer   Checkarama    NaN   NaN  \n",
       "1            debit    Veterinary  CREDIT CARD    NaN   NaN  \n",
       "2            debit  Coffee Shops  CREDIT CARD    NaN   NaN  \n",
       "3            debit    Television  CREDIT CARD    NaN   NaN  \n",
       "4            debit     Groceries  CREDIT CARD    NaN   NaN  "
      ]
     },
     "execution_count": 2,
     "metadata": {},
     "output_type": "execute_result"
    }
   ],
   "source": [
    "# Acquiring the data from the csv file and displaying first 5 rows\n",
    "\n",
    "transactions1 = acquire.get_local_transactions()\n",
    "transactions1.head()"
   ]
  },
  {
   "cell_type": "markdown",
   "id": "6cef91c5",
   "metadata": {},
   "source": [
    "# II. Clean & Prepare"
   ]
  },
  {
   "cell_type": "markdown",
   "id": "5857f669",
   "metadata": {},
   "source": [
    ">## High level exploration before Cleaning and preparation"
   ]
  },
  {
   "cell_type": "code",
   "execution_count": 3,
   "id": "5cb24fff",
   "metadata": {},
   "outputs": [
    {
     "data": {
      "text/plain": [
       "(7872, 9)"
      ]
     },
     "execution_count": 3,
     "metadata": {},
     "output_type": "execute_result"
    }
   ],
   "source": [
    "# Checking the number of rows and columns\n",
    "\n",
    "transactions1.shape"
   ]
  },
  {
   "cell_type": "code",
   "execution_count": 4,
   "id": "662e843d",
   "metadata": {
    "scrolled": false
   },
   "outputs": [
    {
     "data": {
      "text/html": [
       "<div>\n",
       "<style scoped>\n",
       "    .dataframe tbody tr th:only-of-type {\n",
       "        vertical-align: middle;\n",
       "    }\n",
       "\n",
       "    .dataframe tbody tr th {\n",
       "        vertical-align: top;\n",
       "    }\n",
       "\n",
       "    .dataframe thead th {\n",
       "        text-align: right;\n",
       "    }\n",
       "</style>\n",
       "<table border=\"1\" class=\"dataframe\">\n",
       "  <thead>\n",
       "    <tr style=\"text-align: right;\">\n",
       "      <th></th>\n",
       "      <th>Description</th>\n",
       "      <th>Original Description</th>\n",
       "    </tr>\n",
       "  </thead>\n",
       "  <tbody>\n",
       "    <tr>\n",
       "      <th>0</th>\n",
       "      <td>DEPOSIT@MOBILE</td>\n",
       "      <td>DEPOSIT@MOBILE</td>\n",
       "    </tr>\n",
       "    <tr>\n",
       "      <th>1</th>\n",
       "      <td>MATTHEWS VET SERVICES, P</td>\n",
       "      <td>MATTHEWS VET SERVICES, P</td>\n",
       "    </tr>\n",
       "    <tr>\n",
       "      <th>2</th>\n",
       "      <td>STARBUCKS STORE 24306</td>\n",
       "      <td>STARBUCKS STORE 24306</td>\n",
       "    </tr>\n",
       "    <tr>\n",
       "      <th>3</th>\n",
       "      <td>PAYPAL *HULU</td>\n",
       "      <td>PAYPAL *HULU</td>\n",
       "    </tr>\n",
       "    <tr>\n",
       "      <th>4</th>\n",
       "      <td>H-E-B #618</td>\n",
       "      <td>H-E-B #618</td>\n",
       "    </tr>\n",
       "    <tr>\n",
       "      <th>...</th>\n",
       "      <td>...</td>\n",
       "      <td>...</td>\n",
       "    </tr>\n",
       "    <tr>\n",
       "      <th>7867</th>\n",
       "      <td>Ultra Foods Qps</td>\n",
       "      <td>ULTRA FOODS #8761  QPS   LOMBARD</td>\n",
       "    </tr>\n",
       "    <tr>\n",
       "      <th>7868</th>\n",
       "      <td>Pennys Noodle Shop</td>\n",
       "      <td>PENNY'S NOODLE SHOPQPS   CHICAGO</td>\n",
       "    </tr>\n",
       "    <tr>\n",
       "      <th>7869</th>\n",
       "      <td>Amazon Music</td>\n",
       "      <td>MUSIC DWNLDS             866-216</td>\n",
       "    </tr>\n",
       "    <tr>\n",
       "      <th>7870</th>\n",
       "      <td>Calling Card</td>\n",
       "      <td>CALLINGCARDS/CONFERENC   (866)29</td>\n",
       "    </tr>\n",
       "    <tr>\n",
       "      <th>7871</th>\n",
       "      <td>Usaa Com Pmt</td>\n",
       "      <td>USAA.COM PMT-THANKS      SAN ANT</td>\n",
       "    </tr>\n",
       "  </tbody>\n",
       "</table>\n",
       "<p>7872 rows × 2 columns</p>\n",
       "</div>"
      ],
      "text/plain": [
       "                   Description              Original Description\n",
       "0               DEPOSIT@MOBILE                    DEPOSIT@MOBILE\n",
       "1     MATTHEWS VET SERVICES, P          MATTHEWS VET SERVICES, P\n",
       "2        STARBUCKS STORE 24306             STARBUCKS STORE 24306\n",
       "3                 PAYPAL *HULU                      PAYPAL *HULU\n",
       "4                   H-E-B #618                        H-E-B #618\n",
       "...                        ...                               ...\n",
       "7867           Ultra Foods Qps  ULTRA FOODS #8761  QPS   LOMBARD\n",
       "7868        Pennys Noodle Shop  PENNY'S NOODLE SHOPQPS   CHICAGO\n",
       "7869              Amazon Music  MUSIC DWNLDS             866-216\n",
       "7870              Calling Card  CALLINGCARDS/CONFERENC   (866)29\n",
       "7871              Usaa Com Pmt  USAA.COM PMT-THANKS      SAN ANT\n",
       "\n",
       "[7872 rows x 2 columns]"
      ]
     },
     "execution_count": 4,
     "metadata": {},
     "output_type": "execute_result"
    }
   ],
   "source": [
    "# Comparing the Description and the Original Description columns to see which is worth dropping\n",
    "\n",
    "transactions1[['Description', 'Original Description']]"
   ]
  },
  {
   "cell_type": "code",
   "execution_count": 5,
   "id": "9f3d6f78",
   "metadata": {},
   "outputs": [
    {
     "data": {
      "text/plain": [
       "Date                       0\n",
       "Description                0\n",
       "Original Description       0\n",
       "Amount                     0\n",
       "Transaction Type           0\n",
       "Category                   3\n",
       "Account Name               0\n",
       "Labels                  7870\n",
       "Notes                   7862\n",
       "dtype: int64"
      ]
     },
     "execution_count": 5,
     "metadata": {},
     "output_type": "execute_result"
    }
   ],
   "source": [
    "# Checking the df nulls\n",
    "\n",
    "transactions1.isnull().sum()"
   ]
  },
  {
   "cell_type": "code",
   "execution_count": 6,
   "id": "8a3a70b2",
   "metadata": {},
   "outputs": [
    {
     "data": {
      "text/html": [
       "<div>\n",
       "<style scoped>\n",
       "    .dataframe tbody tr th:only-of-type {\n",
       "        vertical-align: middle;\n",
       "    }\n",
       "\n",
       "    .dataframe tbody tr th {\n",
       "        vertical-align: top;\n",
       "    }\n",
       "\n",
       "    .dataframe thead th {\n",
       "        text-align: right;\n",
       "    }\n",
       "</style>\n",
       "<table border=\"1\" class=\"dataframe\">\n",
       "  <thead>\n",
       "    <tr style=\"text-align: right;\">\n",
       "      <th></th>\n",
       "      <th>Date</th>\n",
       "      <th>Description</th>\n",
       "      <th>Original Description</th>\n",
       "      <th>Amount</th>\n",
       "      <th>Transaction Type</th>\n",
       "      <th>Category</th>\n",
       "      <th>Account Name</th>\n",
       "      <th>Labels</th>\n",
       "      <th>Notes</th>\n",
       "    </tr>\n",
       "  </thead>\n",
       "  <tbody>\n",
       "    <tr>\n",
       "      <th>5996</th>\n",
       "      <td>3/02/2015</td>\n",
       "      <td>Payment</td>\n",
       "      <td>Payment</td>\n",
       "      <td>10.0</td>\n",
       "      <td>credit</td>\n",
       "      <td>NaN</td>\n",
       "      <td>Stafford Loans U.S. DEPARTMENT OF EDUCATION</td>\n",
       "      <td>NaN</td>\n",
       "      <td>NaN</td>\n",
       "    </tr>\n",
       "    <tr>\n",
       "      <th>5997</th>\n",
       "      <td>3/02/2015</td>\n",
       "      <td>Pending</td>\n",
       "      <td>Pending</td>\n",
       "      <td>10.0</td>\n",
       "      <td>credit</td>\n",
       "      <td>NaN</td>\n",
       "      <td>Stafford Loans U.S. DEPARTMENT OF EDUCATION</td>\n",
       "      <td>NaN</td>\n",
       "      <td>NaN</td>\n",
       "    </tr>\n",
       "    <tr>\n",
       "      <th>5998</th>\n",
       "      <td>2/28/2015</td>\n",
       "      <td>Payment</td>\n",
       "      <td>Payment</td>\n",
       "      <td>40.0</td>\n",
       "      <td>credit</td>\n",
       "      <td>NaN</td>\n",
       "      <td>Stafford Loans U.S. DEPARTMENT OF EDUCATION</td>\n",
       "      <td>NaN</td>\n",
       "      <td>NaN</td>\n",
       "    </tr>\n",
       "  </tbody>\n",
       "</table>\n",
       "</div>"
      ],
      "text/plain": [
       "           Date Description Original Description  Amount Transaction Type  \\\n",
       "5996  3/02/2015     Payment              Payment    10.0           credit   \n",
       "5997  3/02/2015     Pending              Pending    10.0           credit   \n",
       "5998  2/28/2015     Payment              Payment    40.0           credit   \n",
       "\n",
       "     Category                                 Account Name Labels Notes  \n",
       "5996      NaN  Stafford Loans U.S. DEPARTMENT OF EDUCATION    NaN   NaN  \n",
       "5997      NaN  Stafford Loans U.S. DEPARTMENT OF EDUCATION    NaN   NaN  \n",
       "5998      NaN  Stafford Loans U.S. DEPARTMENT OF EDUCATION    NaN   NaN  "
      ]
     },
     "execution_count": 6,
     "metadata": {},
     "output_type": "execute_result"
    }
   ],
   "source": [
    "# Checking the specific crows of the Category column\n",
    "\n",
    "transactions1[transactions1['Category'].isnull()]"
   ]
  },
  {
   "cell_type": "markdown",
   "id": "5d128382",
   "metadata": {},
   "source": [
    ">## Takeaways\n",
    "    - The df contains duplicates\n",
    "    - The df has nulls in great number in labels and Notes columns\n",
    "    - The df has much fewer nulls in the Category column\n",
    "    - The Description and the Original Description are duplicates\n",
    "    - These columns contain special characters\n",
    "    - There is a date column\n",
    ">## Actions\n",
    "    - Remove duplicates\n",
    "    - Drop Labels, Notes, and Original Description\n",
    "    - Remove special characters from Description\n",
    "    - Rename columns for readability\n",
    "    - Make Account Name and Description's content into lower case\n",
    "    - Set Date as INDEX"
   ]
  },
  {
   "cell_type": "markdown",
   "id": "f1294197",
   "metadata": {},
   "source": [
    ">## Cleaning"
   ]
  },
  {
   "cell_type": "code",
   "execution_count": 7,
   "id": "bc8b71e6",
   "metadata": {
    "scrolled": true
   },
   "outputs": [
    {
     "name": "stdout",
     "output_type": "stream",
     "text": [
      "['Date', 'Description', 'Original Description', 'Amount', 'Transaction Type', 'Category', 'Account Name', 'Labels', 'Notes']\n"
     ]
    }
   ],
   "source": [
    "# Printing the column names into a list without a line break\n",
    "\n",
    "a = transactions1.columns.tolist()\n",
    "print(a,)"
   ]
  },
  {
   "cell_type": "code",
   "execution_count": 8,
   "id": "7b6aa930",
   "metadata": {},
   "outputs": [],
   "source": [
    "# Assigning the list of columns to a variable\n",
    "\n",
    "columns = ['Date', 'Description', 'Original Description', 'Amount', 'Transaction Type', 'Category', 'Account Name', 'Labels', 'Notes']"
   ]
  },
  {
   "cell_type": "code",
   "execution_count": 10,
   "id": "77c20fd5",
   "metadata": {},
   "outputs": [
    {
     "data": {
      "text/html": [
       "<div>\n",
       "<style scoped>\n",
       "    .dataframe tbody tr th:only-of-type {\n",
       "        vertical-align: middle;\n",
       "    }\n",
       "\n",
       "    .dataframe tbody tr th {\n",
       "        vertical-align: top;\n",
       "    }\n",
       "\n",
       "    .dataframe thead th {\n",
       "        text-align: right;\n",
       "    }\n",
       "</style>\n",
       "<table border=\"1\" class=\"dataframe\">\n",
       "  <thead>\n",
       "    <tr style=\"text-align: right;\">\n",
       "      <th></th>\n",
       "      <th>num_rows_missing</th>\n",
       "      <th>pct_rows_missing</th>\n",
       "    </tr>\n",
       "  </thead>\n",
       "  <tbody>\n",
       "    <tr>\n",
       "      <th>Date</th>\n",
       "      <td>0</td>\n",
       "      <td>0.000000</td>\n",
       "    </tr>\n",
       "    <tr>\n",
       "      <th>Description</th>\n",
       "      <td>0</td>\n",
       "      <td>0.000000</td>\n",
       "    </tr>\n",
       "    <tr>\n",
       "      <th>Original Description</th>\n",
       "      <td>0</td>\n",
       "      <td>0.000000</td>\n",
       "    </tr>\n",
       "    <tr>\n",
       "      <th>Amount</th>\n",
       "      <td>0</td>\n",
       "      <td>0.000000</td>\n",
       "    </tr>\n",
       "    <tr>\n",
       "      <th>Transaction Type</th>\n",
       "      <td>0</td>\n",
       "      <td>0.000000</td>\n",
       "    </tr>\n",
       "    <tr>\n",
       "      <th>Category</th>\n",
       "      <td>3</td>\n",
       "      <td>0.038110</td>\n",
       "    </tr>\n",
       "    <tr>\n",
       "      <th>Account Name</th>\n",
       "      <td>0</td>\n",
       "      <td>0.000000</td>\n",
       "    </tr>\n",
       "    <tr>\n",
       "      <th>Labels</th>\n",
       "      <td>7870</td>\n",
       "      <td>99.974593</td>\n",
       "    </tr>\n",
       "    <tr>\n",
       "      <th>Notes</th>\n",
       "      <td>7862</td>\n",
       "      <td>99.872967</td>\n",
       "    </tr>\n",
       "  </tbody>\n",
       "</table>\n",
       "</div>"
      ],
      "text/plain": [
       "                      num_rows_missing  pct_rows_missing\n",
       "Date                                 0          0.000000\n",
       "Description                          0          0.000000\n",
       "Original Description                 0          0.000000\n",
       "Amount                               0          0.000000\n",
       "Transaction Type                     0          0.000000\n",
       "Category                             3          0.038110\n",
       "Account Name                         0          0.000000\n",
       "Labels                            7870         99.974593\n",
       "Notes                             7862         99.872967"
      ]
     },
     "execution_count": 10,
     "metadata": {},
     "output_type": "execute_result"
    }
   ],
   "source": [
    "# Displaying duplicate rows in count and percent\n",
    "\n",
    "prep.multi_frequency(transactions1, columns)"
   ]
  },
  {
   "cell_type": "code",
   "execution_count": 12,
   "id": "8226af55",
   "metadata": {},
   "outputs": [],
   "source": [
    "# Dropping dupicates and keeping the entries detected and reassigning the df to a new variable\n",
    "\n",
    "transactions2 = transactions1.drop_duplicates()"
   ]
  },
  {
   "cell_type": "code",
   "execution_count": 13,
   "id": "be8fe7ae",
   "metadata": {},
   "outputs": [
    {
     "data": {
      "text/plain": [
       "(7797, 9)"
      ]
     },
     "execution_count": 13,
     "metadata": {},
     "output_type": "execute_result"
    }
   ],
   "source": [
    "transactions2.shape"
   ]
  },
  {
   "cell_type": "code",
   "execution_count": 14,
   "id": "a57eb589",
   "metadata": {},
   "outputs": [],
   "source": [
    "# Dropping columns that are not useful\n",
    "\n",
    "transactions3 = transactions2.drop(['Account Name', 'Labels', 'Notes', 'Original Description'], axis = 1)"
   ]
  },
  {
   "cell_type": "code",
   "execution_count": 15,
   "id": "0bc0b339",
   "metadata": {},
   "outputs": [
    {
     "data": {
      "text/html": [
       "<div>\n",
       "<style scoped>\n",
       "    .dataframe tbody tr th:only-of-type {\n",
       "        vertical-align: middle;\n",
       "    }\n",
       "\n",
       "    .dataframe tbody tr th {\n",
       "        vertical-align: top;\n",
       "    }\n",
       "\n",
       "    .dataframe thead th {\n",
       "        text-align: right;\n",
       "    }\n",
       "</style>\n",
       "<table border=\"1\" class=\"dataframe\">\n",
       "  <thead>\n",
       "    <tr style=\"text-align: right;\">\n",
       "      <th></th>\n",
       "      <th>Date</th>\n",
       "      <th>Description</th>\n",
       "      <th>Amount</th>\n",
       "      <th>Transaction Type</th>\n",
       "      <th>Category</th>\n",
       "    </tr>\n",
       "  </thead>\n",
       "  <tbody>\n",
       "    <tr>\n",
       "      <th>0</th>\n",
       "      <td>6/29/2022</td>\n",
       "      <td>DEPOSIT@MOBILE</td>\n",
       "      <td>206.25</td>\n",
       "      <td>credit</td>\n",
       "      <td>Transfer</td>\n",
       "    </tr>\n",
       "    <tr>\n",
       "      <th>1</th>\n",
       "      <td>6/28/2022</td>\n",
       "      <td>MATTHEWS VET SERVICES, P</td>\n",
       "      <td>13.20</td>\n",
       "      <td>debit</td>\n",
       "      <td>Veterinary</td>\n",
       "    </tr>\n",
       "    <tr>\n",
       "      <th>2</th>\n",
       "      <td>6/28/2022</td>\n",
       "      <td>STARBUCKS STORE 24306</td>\n",
       "      <td>5.57</td>\n",
       "      <td>debit</td>\n",
       "      <td>Coffee Shops</td>\n",
       "    </tr>\n",
       "    <tr>\n",
       "      <th>3</th>\n",
       "      <td>6/28/2022</td>\n",
       "      <td>PAYPAL *HULU</td>\n",
       "      <td>14.16</td>\n",
       "      <td>debit</td>\n",
       "      <td>Television</td>\n",
       "    </tr>\n",
       "    <tr>\n",
       "      <th>4</th>\n",
       "      <td>6/28/2022</td>\n",
       "      <td>H-E-B #618</td>\n",
       "      <td>20.56</td>\n",
       "      <td>debit</td>\n",
       "      <td>Groceries</td>\n",
       "    </tr>\n",
       "  </tbody>\n",
       "</table>\n",
       "</div>"
      ],
      "text/plain": [
       "        Date               Description  Amount Transaction Type      Category\n",
       "0  6/29/2022            DEPOSIT@MOBILE  206.25           credit      Transfer\n",
       "1  6/28/2022  MATTHEWS VET SERVICES, P   13.20            debit    Veterinary\n",
       "2  6/28/2022     STARBUCKS STORE 24306    5.57            debit  Coffee Shops\n",
       "3  6/28/2022              PAYPAL *HULU   14.16            debit    Television\n",
       "4  6/28/2022                H-E-B #618   20.56            debit     Groceries"
      ]
     },
     "execution_count": 15,
     "metadata": {},
     "output_type": "execute_result"
    }
   ],
   "source": [
    "transactions3.head()"
   ]
  },
  {
   "cell_type": "code",
   "execution_count": 16,
   "id": "142dcaf7",
   "metadata": {},
   "outputs": [
    {
     "data": {
      "text/html": [
       "<div>\n",
       "<style scoped>\n",
       "    .dataframe tbody tr th:only-of-type {\n",
       "        vertical-align: middle;\n",
       "    }\n",
       "\n",
       "    .dataframe tbody tr th {\n",
       "        vertical-align: top;\n",
       "    }\n",
       "\n",
       "    .dataframe thead th {\n",
       "        text-align: right;\n",
       "    }\n",
       "</style>\n",
       "<table border=\"1\" class=\"dataframe\">\n",
       "  <thead>\n",
       "    <tr style=\"text-align: right;\">\n",
       "      <th></th>\n",
       "      <th>Date</th>\n",
       "      <th>Description</th>\n",
       "      <th>Amount</th>\n",
       "      <th>Transaction Type</th>\n",
       "      <th>Category</th>\n",
       "    </tr>\n",
       "  </thead>\n",
       "  <tbody>\n",
       "    <tr>\n",
       "      <th>5996</th>\n",
       "      <td>3/02/2015</td>\n",
       "      <td>Payment</td>\n",
       "      <td>10.0</td>\n",
       "      <td>credit</td>\n",
       "      <td>NaN</td>\n",
       "    </tr>\n",
       "    <tr>\n",
       "      <th>5997</th>\n",
       "      <td>3/02/2015</td>\n",
       "      <td>Pending</td>\n",
       "      <td>10.0</td>\n",
       "      <td>credit</td>\n",
       "      <td>NaN</td>\n",
       "    </tr>\n",
       "    <tr>\n",
       "      <th>5998</th>\n",
       "      <td>2/28/2015</td>\n",
       "      <td>Payment</td>\n",
       "      <td>40.0</td>\n",
       "      <td>credit</td>\n",
       "      <td>NaN</td>\n",
       "    </tr>\n",
       "  </tbody>\n",
       "</table>\n",
       "</div>"
      ],
      "text/plain": [
       "           Date Description  Amount Transaction Type Category\n",
       "5996  3/02/2015     Payment    10.0           credit      NaN\n",
       "5997  3/02/2015     Pending    10.0           credit      NaN\n",
       "5998  2/28/2015     Payment    40.0           credit      NaN"
      ]
     },
     "execution_count": 16,
     "metadata": {},
     "output_type": "execute_result"
    }
   ],
   "source": [
    "# Checking the nulls in the Category column\n",
    "\n",
    "transactions3[transactions3['Category'].isnull()]"
   ]
  },
  {
   "cell_type": "code",
   "execution_count": 17,
   "id": "a55198d9",
   "metadata": {},
   "outputs": [],
   "source": [
    "# Filling out the nulls with the category 'Education'\n",
    "\n",
    "transactions4 = prep.handle_missing_values(transactions3)"
   ]
  },
  {
   "cell_type": "code",
   "execution_count": 18,
   "id": "23c103e8",
   "metadata": {},
   "outputs": [
    {
     "name": "stdout",
     "output_type": "stream",
     "text": [
      "['Date', 'Description', 'Amount', 'Transaction Type', 'Category']\n"
     ]
    }
   ],
   "source": [
    "a = transactions4.columns.tolist()\n",
    "print(a,)"
   ]
  },
  {
   "cell_type": "code",
   "execution_count": 19,
   "id": "b1be1680",
   "metadata": {},
   "outputs": [],
   "source": [
    "# Assigning columns to a variable\n",
    "\n",
    "columns4 = ['Date', 'Description', 'Amount', 'Transaction Type', 'Category']"
   ]
  },
  {
   "cell_type": "code",
   "execution_count": 20,
   "id": "d135d41a",
   "metadata": {},
   "outputs": [
    {
     "data": {
      "text/html": [
       "<div>\n",
       "<style scoped>\n",
       "    .dataframe tbody tr th:only-of-type {\n",
       "        vertical-align: middle;\n",
       "    }\n",
       "\n",
       "    .dataframe tbody tr th {\n",
       "        vertical-align: top;\n",
       "    }\n",
       "\n",
       "    .dataframe thead th {\n",
       "        text-align: right;\n",
       "    }\n",
       "</style>\n",
       "<table border=\"1\" class=\"dataframe\">\n",
       "  <thead>\n",
       "    <tr style=\"text-align: right;\">\n",
       "      <th></th>\n",
       "      <th>num_rows_missing</th>\n",
       "      <th>pct_rows_missing</th>\n",
       "    </tr>\n",
       "  </thead>\n",
       "  <tbody>\n",
       "    <tr>\n",
       "      <th>Date</th>\n",
       "      <td>0</td>\n",
       "      <td>0.0</td>\n",
       "    </tr>\n",
       "    <tr>\n",
       "      <th>Description</th>\n",
       "      <td>0</td>\n",
       "      <td>0.0</td>\n",
       "    </tr>\n",
       "    <tr>\n",
       "      <th>Amount</th>\n",
       "      <td>0</td>\n",
       "      <td>0.0</td>\n",
       "    </tr>\n",
       "    <tr>\n",
       "      <th>Transaction Type</th>\n",
       "      <td>0</td>\n",
       "      <td>0.0</td>\n",
       "    </tr>\n",
       "    <tr>\n",
       "      <th>Category</th>\n",
       "      <td>0</td>\n",
       "      <td>0.0</td>\n",
       "    </tr>\n",
       "  </tbody>\n",
       "</table>\n",
       "</div>"
      ],
      "text/plain": [
       "                  num_rows_missing  pct_rows_missing\n",
       "Date                             0               0.0\n",
       "Description                      0               0.0\n",
       "Amount                           0               0.0\n",
       "Transaction Type                 0               0.0\n",
       "Category                         0               0.0"
      ]
     },
     "execution_count": 20,
     "metadata": {},
     "output_type": "execute_result"
    }
   ],
   "source": [
    "# Checking nulls\n",
    "\n",
    "prep.multi_frequency(transactions4, columns4)"
   ]
  },
  {
   "cell_type": "code",
   "execution_count": 317,
   "id": "eb98b507",
   "metadata": {},
   "outputs": [
    {
     "data": {
      "text/plain": [
       "1714"
      ]
     },
     "execution_count": 317,
     "metadata": {},
     "output_type": "execute_result"
    }
   ],
   "source": [
    "# Checking the number of unique entries in Description column\n",
    "\n",
    "transactions4['Description'].nunique()"
   ]
  },
  {
   "cell_type": "code",
   "execution_count": 318,
   "id": "3e8e7f1d",
   "metadata": {},
   "outputs": [
    {
     "data": {
      "text/plain": [
       "2"
      ]
     },
     "execution_count": 318,
     "metadata": {},
     "output_type": "execute_result"
    }
   ],
   "source": [
    "# Checking the number of unique entries in Transaction Type column (Debit and Credit)\n",
    "\n",
    "transactions4['Transaction Type'].nunique()"
   ]
  },
  {
   "cell_type": "code",
   "execution_count": 319,
   "id": "aff8fe9a",
   "metadata": {},
   "outputs": [
    {
     "data": {
      "text/plain": [
       "111"
      ]
     },
     "execution_count": 319,
     "metadata": {},
     "output_type": "execute_result"
    }
   ],
   "source": [
    "# Checking the number of unique entries in Category column\n",
    "\n",
    "transactions4['Category'].nunique()"
   ]
  },
  {
   "cell_type": "markdown",
   "id": "3783fbaa",
   "metadata": {},
   "source": [
    "### *Takeaways*\n",
    "\n",
    ">**Category and description can help define the type of purchases and their categories so I will keep them both**\n",
    "\n",
    ">**I will rename the columns and clean up Description. Then set date to a datetime type and an index column**"
   ]
  },
  {
   "cell_type": "code",
   "execution_count": 320,
   "id": "802b2a5b",
   "metadata": {},
   "outputs": [],
   "source": [
    "renamed = {\n",
    "    'Date': 'date',\n",
    "    'Description': 'description',\n",
    "    'Amount': 'amount',\n",
    "    'Transaction Type': 'transaction_type',\n",
    "    'Category': 'category'\n",
    "}"
   ]
  },
  {
   "cell_type": "code",
   "execution_count": 321,
   "id": "1d46e55d",
   "metadata": {
    "scrolled": false
   },
   "outputs": [
    {
     "data": {
      "text/html": [
       "<div>\n",
       "<style scoped>\n",
       "    .dataframe tbody tr th:only-of-type {\n",
       "        vertical-align: middle;\n",
       "    }\n",
       "\n",
       "    .dataframe tbody tr th {\n",
       "        vertical-align: top;\n",
       "    }\n",
       "\n",
       "    .dataframe thead th {\n",
       "        text-align: right;\n",
       "    }\n",
       "</style>\n",
       "<table border=\"1\" class=\"dataframe\">\n",
       "  <thead>\n",
       "    <tr style=\"text-align: right;\">\n",
       "      <th></th>\n",
       "      <th>date</th>\n",
       "      <th>description</th>\n",
       "      <th>amount</th>\n",
       "      <th>transaction_type</th>\n",
       "      <th>category</th>\n",
       "    </tr>\n",
       "  </thead>\n",
       "  <tbody>\n",
       "    <tr>\n",
       "      <th>0</th>\n",
       "      <td>6/29/2022</td>\n",
       "      <td>DEPOSIT@MOBILE</td>\n",
       "      <td>206.25</td>\n",
       "      <td>credit</td>\n",
       "      <td>Transfer</td>\n",
       "    </tr>\n",
       "    <tr>\n",
       "      <th>1</th>\n",
       "      <td>6/28/2022</td>\n",
       "      <td>MATTHEWS VET SERVICES, P</td>\n",
       "      <td>13.20</td>\n",
       "      <td>debit</td>\n",
       "      <td>Veterinary</td>\n",
       "    </tr>\n",
       "    <tr>\n",
       "      <th>2</th>\n",
       "      <td>6/28/2022</td>\n",
       "      <td>STARBUCKS STORE 24306</td>\n",
       "      <td>5.57</td>\n",
       "      <td>debit</td>\n",
       "      <td>Coffee Shops</td>\n",
       "    </tr>\n",
       "    <tr>\n",
       "      <th>3</th>\n",
       "      <td>6/28/2022</td>\n",
       "      <td>PAYPAL *HULU</td>\n",
       "      <td>14.16</td>\n",
       "      <td>debit</td>\n",
       "      <td>Television</td>\n",
       "    </tr>\n",
       "    <tr>\n",
       "      <th>4</th>\n",
       "      <td>6/28/2022</td>\n",
       "      <td>H-E-B #618</td>\n",
       "      <td>20.56</td>\n",
       "      <td>debit</td>\n",
       "      <td>Groceries</td>\n",
       "    </tr>\n",
       "  </tbody>\n",
       "</table>\n",
       "</div>"
      ],
      "text/plain": [
       "        date               description  amount transaction_type      category\n",
       "0  6/29/2022            DEPOSIT@MOBILE  206.25           credit      Transfer\n",
       "1  6/28/2022  MATTHEWS VET SERVICES, P   13.20            debit    Veterinary\n",
       "2  6/28/2022     STARBUCKS STORE 24306    5.57            debit  Coffee Shops\n",
       "3  6/28/2022              PAYPAL *HULU   14.16            debit    Television\n",
       "4  6/28/2022                H-E-B #618   20.56            debit     Groceries"
      ]
     },
     "execution_count": 321,
     "metadata": {},
     "output_type": "execute_result"
    }
   ],
   "source": [
    "transactions5 = transactions4.rename(columns=renamed)\n",
    "transactions5.head()"
   ]
  },
  {
   "cell_type": "code",
   "execution_count": 322,
   "id": "73996d6a",
   "metadata": {},
   "outputs": [
    {
     "data": {
      "text/html": [
       "<div>\n",
       "<style scoped>\n",
       "    .dataframe tbody tr th:only-of-type {\n",
       "        vertical-align: middle;\n",
       "    }\n",
       "\n",
       "    .dataframe tbody tr th {\n",
       "        vertical-align: top;\n",
       "    }\n",
       "\n",
       "    .dataframe thead th {\n",
       "        text-align: right;\n",
       "    }\n",
       "</style>\n",
       "<table border=\"1\" class=\"dataframe\">\n",
       "  <thead>\n",
       "    <tr style=\"text-align: right;\">\n",
       "      <th></th>\n",
       "      <th>date</th>\n",
       "      <th>description</th>\n",
       "      <th>amount</th>\n",
       "      <th>transaction_type</th>\n",
       "      <th>category</th>\n",
       "    </tr>\n",
       "  </thead>\n",
       "  <tbody>\n",
       "    <tr>\n",
       "      <th>21</th>\n",
       "      <td>6/23/2022</td>\n",
       "      <td>PAYPAL *DISNEY PLUS</td>\n",
       "      <td>7.63</td>\n",
       "      <td>debit</td>\n",
       "      <td>Travel</td>\n",
       "    </tr>\n",
       "    <tr>\n",
       "      <th>121</th>\n",
       "      <td>5/23/2022</td>\n",
       "      <td>PAYPAL *DISNEY PLUS</td>\n",
       "      <td>7.63</td>\n",
       "      <td>debit</td>\n",
       "      <td>Travel</td>\n",
       "    </tr>\n",
       "    <tr>\n",
       "      <th>205</th>\n",
       "      <td>4/24/2022</td>\n",
       "      <td>PAYPAL *DISNEY PLUS</td>\n",
       "      <td>7.63</td>\n",
       "      <td>debit</td>\n",
       "      <td>Travel</td>\n",
       "    </tr>\n",
       "    <tr>\n",
       "      <th>233</th>\n",
       "      <td>4/11/2022</td>\n",
       "      <td>TXTAG 888 468 9824</td>\n",
       "      <td>10.00</td>\n",
       "      <td>debit</td>\n",
       "      <td>Travel</td>\n",
       "    </tr>\n",
       "    <tr>\n",
       "      <th>828</th>\n",
       "      <td>3/12/2020</td>\n",
       "      <td>MERRY CHRISTMAS &amp; ALL</td>\n",
       "      <td>13.15</td>\n",
       "      <td>debit</td>\n",
       "      <td>Travel</td>\n",
       "    </tr>\n",
       "    <tr>\n",
       "      <th>889</th>\n",
       "      <td>2/23/2020</td>\n",
       "      <td>Disney</td>\n",
       "      <td>7.63</td>\n",
       "      <td>debit</td>\n",
       "      <td>Travel</td>\n",
       "    </tr>\n",
       "    <tr>\n",
       "      <th>916</th>\n",
       "      <td>2/10/2020</td>\n",
       "      <td>Princess</td>\n",
       "      <td>64.00</td>\n",
       "      <td>debit</td>\n",
       "      <td>Travel</td>\n",
       "    </tr>\n",
       "    <tr>\n",
       "      <th>960</th>\n",
       "      <td>1/23/2020</td>\n",
       "      <td>Disney</td>\n",
       "      <td>7.63</td>\n",
       "      <td>debit</td>\n",
       "      <td>Travel</td>\n",
       "    </tr>\n",
       "    <tr>\n",
       "      <th>1067</th>\n",
       "      <td>12/23/2019</td>\n",
       "      <td>Disney</td>\n",
       "      <td>7.63</td>\n",
       "      <td>debit</td>\n",
       "      <td>Travel</td>\n",
       "    </tr>\n",
       "    <tr>\n",
       "      <th>1161</th>\n",
       "      <td>11/19/2019</td>\n",
       "      <td>Princess</td>\n",
       "      <td>72.00</td>\n",
       "      <td>debit</td>\n",
       "      <td>Travel</td>\n",
       "    </tr>\n",
       "    <tr>\n",
       "      <th>1750</th>\n",
       "      <td>2/18/2019</td>\n",
       "      <td>Princess</td>\n",
       "      <td>42.00</td>\n",
       "      <td>debit</td>\n",
       "      <td>Travel</td>\n",
       "    </tr>\n",
       "    <tr>\n",
       "      <th>2827</th>\n",
       "      <td>1/21/2018</td>\n",
       "      <td>Loves Travel</td>\n",
       "      <td>16.63</td>\n",
       "      <td>debit</td>\n",
       "      <td>Travel</td>\n",
       "    </tr>\n",
       "    <tr>\n",
       "      <th>3587</th>\n",
       "      <td>6/08/2017</td>\n",
       "      <td>Itr Tolls</td>\n",
       "      <td>2.10</td>\n",
       "      <td>debit</td>\n",
       "      <td>Travel</td>\n",
       "    </tr>\n",
       "    <tr>\n",
       "      <th>3592</th>\n",
       "      <td>6/07/2017</td>\n",
       "      <td>Itr Tolls</td>\n",
       "      <td>2.10</td>\n",
       "      <td>debit</td>\n",
       "      <td>Travel</td>\n",
       "    </tr>\n",
       "    <tr>\n",
       "      <th>3593</th>\n",
       "      <td>6/07/2017</td>\n",
       "      <td>Itr Lake Station</td>\n",
       "      <td>0.90</td>\n",
       "      <td>debit</td>\n",
       "      <td>Travel</td>\n",
       "    </tr>\n",
       "    <tr>\n",
       "      <th>3779</th>\n",
       "      <td>4/14/2017</td>\n",
       "      <td>Costa</td>\n",
       "      <td>33.55</td>\n",
       "      <td>debit</td>\n",
       "      <td>Travel</td>\n",
       "    </tr>\n",
       "    <tr>\n",
       "      <th>5640</th>\n",
       "      <td>9/30/2015</td>\n",
       "      <td>E-Z Rent A Car</td>\n",
       "      <td>67.87</td>\n",
       "      <td>debit</td>\n",
       "      <td>Travel</td>\n",
       "    </tr>\n",
       "    <tr>\n",
       "      <th>5646</th>\n",
       "      <td>9/29/2015</td>\n",
       "      <td>United Pacific Denver</td>\n",
       "      <td>29.05</td>\n",
       "      <td>debit</td>\n",
       "      <td>Travel</td>\n",
       "    </tr>\n",
       "    <tr>\n",
       "      <th>5693</th>\n",
       "      <td>9/09/2015</td>\n",
       "      <td>Expedia</td>\n",
       "      <td>8.00</td>\n",
       "      <td>debit</td>\n",
       "      <td>Travel</td>\n",
       "    </tr>\n",
       "    <tr>\n",
       "      <th>5710</th>\n",
       "      <td>8/31/2015</td>\n",
       "      <td>Inst Xfer -Emma's Wedding</td>\n",
       "      <td>65.00</td>\n",
       "      <td>debit</td>\n",
       "      <td>Travel</td>\n",
       "    </tr>\n",
       "    <tr>\n",
       "      <th>5820</th>\n",
       "      <td>7/20/2015</td>\n",
       "      <td>Inst Xfer Com</td>\n",
       "      <td>124.00</td>\n",
       "      <td>debit</td>\n",
       "      <td>Travel</td>\n",
       "    </tr>\n",
       "    <tr>\n",
       "      <th>5838</th>\n",
       "      <td>7/10/2015</td>\n",
       "      <td>Rental</td>\n",
       "      <td>55.31</td>\n",
       "      <td>debit</td>\n",
       "      <td>Travel</td>\n",
       "    </tr>\n",
       "    <tr>\n",
       "      <th>5856</th>\n",
       "      <td>5/27/2015</td>\n",
       "      <td>Northside College Prep</td>\n",
       "      <td>60.00</td>\n",
       "      <td>debit</td>\n",
       "      <td>Travel</td>\n",
       "    </tr>\n",
       "    <tr>\n",
       "      <th>5946</th>\n",
       "      <td>4/01/2015</td>\n",
       "      <td>Coach</td>\n",
       "      <td>57.50</td>\n",
       "      <td>debit</td>\n",
       "      <td>Travel</td>\n",
       "    </tr>\n",
       "    <tr>\n",
       "      <th>6150</th>\n",
       "      <td>11/18/2014</td>\n",
       "      <td>Ventra Website Il</td>\n",
       "      <td>5.00</td>\n",
       "      <td>debit</td>\n",
       "      <td>Travel</td>\n",
       "    </tr>\n",
       "    <tr>\n",
       "      <th>6262</th>\n",
       "      <td>10/07/2014</td>\n",
       "      <td>Coachusa Megabus Nj</td>\n",
       "      <td>70.00</td>\n",
       "      <td>debit</td>\n",
       "      <td>Travel</td>\n",
       "    </tr>\n",
       "    <tr>\n",
       "      <th>6372</th>\n",
       "      <td>8/18/2014</td>\n",
       "      <td>Sncf Goussainvillefra</td>\n",
       "      <td>26.36</td>\n",
       "      <td>debit</td>\n",
       "      <td>Travel</td>\n",
       "    </tr>\n",
       "    <tr>\n",
       "      <th>6449</th>\n",
       "      <td>7/11/2014</td>\n",
       "      <td>USPS</td>\n",
       "      <td>2.32</td>\n",
       "      <td>debit</td>\n",
       "      <td>Travel</td>\n",
       "    </tr>\n",
       "    <tr>\n",
       "      <th>6452</th>\n",
       "      <td>7/11/2014</td>\n",
       "      <td>USPS</td>\n",
       "      <td>11.20</td>\n",
       "      <td>debit</td>\n",
       "      <td>Travel</td>\n",
       "    </tr>\n",
       "    <tr>\n",
       "      <th>6456</th>\n",
       "      <td>7/11/2014</td>\n",
       "      <td>Pai Iso-visa cash</td>\n",
       "      <td>142.00</td>\n",
       "      <td>debit</td>\n",
       "      <td>Travel</td>\n",
       "    </tr>\n",
       "    <tr>\n",
       "      <th>6788</th>\n",
       "      <td>9/03/2013</td>\n",
       "      <td>Bank</td>\n",
       "      <td>65.00</td>\n",
       "      <td>debit</td>\n",
       "      <td>Travel</td>\n",
       "    </tr>\n",
       "    <tr>\n",
       "      <th>7219</th>\n",
       "      <td>1/24/2013</td>\n",
       "      <td>Passport</td>\n",
       "      <td>110.00</td>\n",
       "      <td>debit</td>\n",
       "      <td>Travel</td>\n",
       "    </tr>\n",
       "    <tr>\n",
       "      <th>7346</th>\n",
       "      <td>11/26/2012</td>\n",
       "      <td>Check</td>\n",
       "      <td>75.00</td>\n",
       "      <td>debit</td>\n",
       "      <td>Travel</td>\n",
       "    </tr>\n",
       "    <tr>\n",
       "      <th>7452</th>\n",
       "      <td>10/06/2012</td>\n",
       "      <td>Four Brothers</td>\n",
       "      <td>30.02</td>\n",
       "      <td>debit</td>\n",
       "      <td>Travel</td>\n",
       "    </tr>\n",
       "    <tr>\n",
       "      <th>7529</th>\n",
       "      <td>9/09/2012</td>\n",
       "      <td>American</td>\n",
       "      <td>181.60</td>\n",
       "      <td>debit</td>\n",
       "      <td>Travel</td>\n",
       "    </tr>\n",
       "    <tr>\n",
       "      <th>7671</th>\n",
       "      <td>6/13/2011</td>\n",
       "      <td>Vanco 1798 Robson Street</td>\n",
       "      <td>41.28</td>\n",
       "      <td>debit</td>\n",
       "      <td>Travel</td>\n",
       "    </tr>\n",
       "    <tr>\n",
       "      <th>7672</th>\n",
       "      <td>6/10/2011</td>\n",
       "      <td>Cambie Hostel Gan</td>\n",
       "      <td>43.31</td>\n",
       "      <td>debit</td>\n",
       "      <td>Travel</td>\n",
       "    </tr>\n",
       "    <tr>\n",
       "      <th>7675</th>\n",
       "      <td>6/08/2011</td>\n",
       "      <td>Sea Tac Baggage</td>\n",
       "      <td>42.00</td>\n",
       "      <td>debit</td>\n",
       "      <td>Travel</td>\n",
       "    </tr>\n",
       "  </tbody>\n",
       "</table>\n",
       "</div>"
      ],
      "text/plain": [
       "            date                description  amount transaction_type category\n",
       "21     6/23/2022        PAYPAL *DISNEY PLUS    7.63            debit   Travel\n",
       "121    5/23/2022        PAYPAL *DISNEY PLUS    7.63            debit   Travel\n",
       "205    4/24/2022        PAYPAL *DISNEY PLUS    7.63            debit   Travel\n",
       "233    4/11/2022         TXTAG 888 468 9824   10.00            debit   Travel\n",
       "828    3/12/2020      MERRY CHRISTMAS & ALL   13.15            debit   Travel\n",
       "889    2/23/2020                     Disney    7.63            debit   Travel\n",
       "916    2/10/2020                   Princess   64.00            debit   Travel\n",
       "960    1/23/2020                     Disney    7.63            debit   Travel\n",
       "1067  12/23/2019                     Disney    7.63            debit   Travel\n",
       "1161  11/19/2019                   Princess   72.00            debit   Travel\n",
       "1750   2/18/2019                   Princess   42.00            debit   Travel\n",
       "2827   1/21/2018               Loves Travel   16.63            debit   Travel\n",
       "3587   6/08/2017                  Itr Tolls    2.10            debit   Travel\n",
       "3592   6/07/2017                  Itr Tolls    2.10            debit   Travel\n",
       "3593   6/07/2017           Itr Lake Station    0.90            debit   Travel\n",
       "3779   4/14/2017                      Costa   33.55            debit   Travel\n",
       "5640   9/30/2015             E-Z Rent A Car   67.87            debit   Travel\n",
       "5646   9/29/2015      United Pacific Denver   29.05            debit   Travel\n",
       "5693   9/09/2015                    Expedia    8.00            debit   Travel\n",
       "5710   8/31/2015  Inst Xfer -Emma's Wedding   65.00            debit   Travel\n",
       "5820   7/20/2015              Inst Xfer Com  124.00            debit   Travel\n",
       "5838   7/10/2015                     Rental   55.31            debit   Travel\n",
       "5856   5/27/2015     Northside College Prep   60.00            debit   Travel\n",
       "5946   4/01/2015                      Coach   57.50            debit   Travel\n",
       "6150  11/18/2014          Ventra Website Il    5.00            debit   Travel\n",
       "6262  10/07/2014        Coachusa Megabus Nj   70.00            debit   Travel\n",
       "6372   8/18/2014      Sncf Goussainvillefra   26.36            debit   Travel\n",
       "6449   7/11/2014                       USPS    2.32            debit   Travel\n",
       "6452   7/11/2014                       USPS   11.20            debit   Travel\n",
       "6456   7/11/2014          Pai Iso-visa cash  142.00            debit   Travel\n",
       "6788   9/03/2013                       Bank   65.00            debit   Travel\n",
       "7219   1/24/2013                   Passport  110.00            debit   Travel\n",
       "7346  11/26/2012                      Check   75.00            debit   Travel\n",
       "7452  10/06/2012              Four Brothers   30.02            debit   Travel\n",
       "7529   9/09/2012                   American  181.60            debit   Travel\n",
       "7671   6/13/2011   Vanco 1798 Robson Street   41.28            debit   Travel\n",
       "7672   6/10/2011          Cambie Hostel Gan   43.31            debit   Travel\n",
       "7675   6/08/2011            Sea Tac Baggage   42.00            debit   Travel"
      ]
     },
     "execution_count": 322,
     "metadata": {},
     "output_type": "execute_result"
    }
   ],
   "source": [
    "transactions5[transactions5.category == 'Travel']"
   ]
  },
  {
   "cell_type": "code",
   "execution_count": 323,
   "id": "a153a5e0",
   "metadata": {},
   "outputs": [],
   "source": [
    "transactions5['description'] = transactions5['description'].str.strip()"
   ]
  },
  {
   "cell_type": "code",
   "execution_count": 324,
   "id": "044c43ce",
   "metadata": {
    "scrolled": false
   },
   "outputs": [],
   "source": [
    "transactions5['description'] = transactions5['description'].str.replace('[#,@,&,*, ,]', '_').str.lower()"
   ]
  },
  {
   "cell_type": "code",
   "execution_count": 325,
   "id": "720cfec8",
   "metadata": {},
   "outputs": [
    {
     "data": {
      "text/html": [
       "<div>\n",
       "<style scoped>\n",
       "    .dataframe tbody tr th:only-of-type {\n",
       "        vertical-align: middle;\n",
       "    }\n",
       "\n",
       "    .dataframe tbody tr th {\n",
       "        vertical-align: top;\n",
       "    }\n",
       "\n",
       "    .dataframe thead th {\n",
       "        text-align: right;\n",
       "    }\n",
       "</style>\n",
       "<table border=\"1\" class=\"dataframe\">\n",
       "  <thead>\n",
       "    <tr style=\"text-align: right;\">\n",
       "      <th></th>\n",
       "      <th>date</th>\n",
       "      <th>description</th>\n",
       "      <th>amount</th>\n",
       "      <th>transaction_type</th>\n",
       "      <th>category</th>\n",
       "    </tr>\n",
       "  </thead>\n",
       "  <tbody>\n",
       "    <tr>\n",
       "      <th>0</th>\n",
       "      <td>6/29/2022</td>\n",
       "      <td>deposit_mobile</td>\n",
       "      <td>206.25</td>\n",
       "      <td>credit</td>\n",
       "      <td>Transfer</td>\n",
       "    </tr>\n",
       "    <tr>\n",
       "      <th>1</th>\n",
       "      <td>6/28/2022</td>\n",
       "      <td>matthews_vet_services__p</td>\n",
       "      <td>13.20</td>\n",
       "      <td>debit</td>\n",
       "      <td>Veterinary</td>\n",
       "    </tr>\n",
       "    <tr>\n",
       "      <th>2</th>\n",
       "      <td>6/28/2022</td>\n",
       "      <td>starbucks_store_24306</td>\n",
       "      <td>5.57</td>\n",
       "      <td>debit</td>\n",
       "      <td>Coffee Shops</td>\n",
       "    </tr>\n",
       "    <tr>\n",
       "      <th>3</th>\n",
       "      <td>6/28/2022</td>\n",
       "      <td>paypal__hulu</td>\n",
       "      <td>14.16</td>\n",
       "      <td>debit</td>\n",
       "      <td>Television</td>\n",
       "    </tr>\n",
       "    <tr>\n",
       "      <th>4</th>\n",
       "      <td>6/28/2022</td>\n",
       "      <td>h-e-b__618</td>\n",
       "      <td>20.56</td>\n",
       "      <td>debit</td>\n",
       "      <td>Groceries</td>\n",
       "    </tr>\n",
       "    <tr>\n",
       "      <th>...</th>\n",
       "      <td>...</td>\n",
       "      <td>...</td>\n",
       "      <td>...</td>\n",
       "      <td>...</td>\n",
       "      <td>...</td>\n",
       "    </tr>\n",
       "    <tr>\n",
       "      <th>7867</th>\n",
       "      <td>8/07/2010</td>\n",
       "      <td>ultra_foods_qps</td>\n",
       "      <td>17.84</td>\n",
       "      <td>debit</td>\n",
       "      <td>Food &amp; Dining</td>\n",
       "    </tr>\n",
       "    <tr>\n",
       "      <th>7868</th>\n",
       "      <td>8/07/2010</td>\n",
       "      <td>pennys_noodle_shop</td>\n",
       "      <td>26.42</td>\n",
       "      <td>debit</td>\n",
       "      <td>Restaurants</td>\n",
       "    </tr>\n",
       "    <tr>\n",
       "      <th>7869</th>\n",
       "      <td>8/05/2010</td>\n",
       "      <td>amazon_music</td>\n",
       "      <td>5.00</td>\n",
       "      <td>debit</td>\n",
       "      <td>Music</td>\n",
       "    </tr>\n",
       "    <tr>\n",
       "      <th>7870</th>\n",
       "      <td>8/05/2010</td>\n",
       "      <td>calling_card</td>\n",
       "      <td>20.00</td>\n",
       "      <td>debit</td>\n",
       "      <td>Gift</td>\n",
       "    </tr>\n",
       "    <tr>\n",
       "      <th>7871</th>\n",
       "      <td>7/31/2010</td>\n",
       "      <td>usaa_com_pmt</td>\n",
       "      <td>241.81</td>\n",
       "      <td>credit</td>\n",
       "      <td>Credit Card Payment</td>\n",
       "    </tr>\n",
       "  </tbody>\n",
       "</table>\n",
       "<p>7797 rows × 5 columns</p>\n",
       "</div>"
      ],
      "text/plain": [
       "           date               description  amount transaction_type  \\\n",
       "0     6/29/2022            deposit_mobile  206.25           credit   \n",
       "1     6/28/2022  matthews_vet_services__p   13.20            debit   \n",
       "2     6/28/2022     starbucks_store_24306    5.57            debit   \n",
       "3     6/28/2022              paypal__hulu   14.16            debit   \n",
       "4     6/28/2022                h-e-b__618   20.56            debit   \n",
       "...         ...                       ...     ...              ...   \n",
       "7867  8/07/2010           ultra_foods_qps   17.84            debit   \n",
       "7868  8/07/2010        pennys_noodle_shop   26.42            debit   \n",
       "7869  8/05/2010              amazon_music    5.00            debit   \n",
       "7870  8/05/2010              calling_card   20.00            debit   \n",
       "7871  7/31/2010              usaa_com_pmt  241.81           credit   \n",
       "\n",
       "                 category  \n",
       "0                Transfer  \n",
       "1              Veterinary  \n",
       "2            Coffee Shops  \n",
       "3              Television  \n",
       "4               Groceries  \n",
       "...                   ...  \n",
       "7867        Food & Dining  \n",
       "7868          Restaurants  \n",
       "7869                Music  \n",
       "7870                 Gift  \n",
       "7871  Credit Card Payment  \n",
       "\n",
       "[7797 rows x 5 columns]"
      ]
     },
     "execution_count": 325,
     "metadata": {},
     "output_type": "execute_result"
    }
   ],
   "source": [
    "transactions5"
   ]
  },
  {
   "cell_type": "code",
   "execution_count": 326,
   "id": "d0f130eb",
   "metadata": {},
   "outputs": [],
   "source": [
    "transactions5['description'] = transactions5['description'].str.replace('__', '_')"
   ]
  },
  {
   "cell_type": "code",
   "execution_count": 327,
   "id": "b3df935c",
   "metadata": {},
   "outputs": [
    {
     "data": {
      "text/html": [
       "<div>\n",
       "<style scoped>\n",
       "    .dataframe tbody tr th:only-of-type {\n",
       "        vertical-align: middle;\n",
       "    }\n",
       "\n",
       "    .dataframe tbody tr th {\n",
       "        vertical-align: top;\n",
       "    }\n",
       "\n",
       "    .dataframe thead th {\n",
       "        text-align: right;\n",
       "    }\n",
       "</style>\n",
       "<table border=\"1\" class=\"dataframe\">\n",
       "  <thead>\n",
       "    <tr style=\"text-align: right;\">\n",
       "      <th></th>\n",
       "      <th>date</th>\n",
       "      <th>description</th>\n",
       "      <th>amount</th>\n",
       "      <th>transaction_type</th>\n",
       "      <th>category</th>\n",
       "    </tr>\n",
       "  </thead>\n",
       "  <tbody>\n",
       "    <tr>\n",
       "      <th>0</th>\n",
       "      <td>6/29/2022</td>\n",
       "      <td>deposit_mobile</td>\n",
       "      <td>206.25</td>\n",
       "      <td>credit</td>\n",
       "      <td>Transfer</td>\n",
       "    </tr>\n",
       "    <tr>\n",
       "      <th>1</th>\n",
       "      <td>6/28/2022</td>\n",
       "      <td>matthews_vet_services_p</td>\n",
       "      <td>13.20</td>\n",
       "      <td>debit</td>\n",
       "      <td>Veterinary</td>\n",
       "    </tr>\n",
       "    <tr>\n",
       "      <th>2</th>\n",
       "      <td>6/28/2022</td>\n",
       "      <td>starbucks_store_24306</td>\n",
       "      <td>5.57</td>\n",
       "      <td>debit</td>\n",
       "      <td>Coffee Shops</td>\n",
       "    </tr>\n",
       "    <tr>\n",
       "      <th>3</th>\n",
       "      <td>6/28/2022</td>\n",
       "      <td>paypal_hulu</td>\n",
       "      <td>14.16</td>\n",
       "      <td>debit</td>\n",
       "      <td>Television</td>\n",
       "    </tr>\n",
       "    <tr>\n",
       "      <th>4</th>\n",
       "      <td>6/28/2022</td>\n",
       "      <td>h-e-b_618</td>\n",
       "      <td>20.56</td>\n",
       "      <td>debit</td>\n",
       "      <td>Groceries</td>\n",
       "    </tr>\n",
       "    <tr>\n",
       "      <th>...</th>\n",
       "      <td>...</td>\n",
       "      <td>...</td>\n",
       "      <td>...</td>\n",
       "      <td>...</td>\n",
       "      <td>...</td>\n",
       "    </tr>\n",
       "    <tr>\n",
       "      <th>7867</th>\n",
       "      <td>8/07/2010</td>\n",
       "      <td>ultra_foods_qps</td>\n",
       "      <td>17.84</td>\n",
       "      <td>debit</td>\n",
       "      <td>Food &amp; Dining</td>\n",
       "    </tr>\n",
       "    <tr>\n",
       "      <th>7868</th>\n",
       "      <td>8/07/2010</td>\n",
       "      <td>pennys_noodle_shop</td>\n",
       "      <td>26.42</td>\n",
       "      <td>debit</td>\n",
       "      <td>Restaurants</td>\n",
       "    </tr>\n",
       "    <tr>\n",
       "      <th>7869</th>\n",
       "      <td>8/05/2010</td>\n",
       "      <td>amazon_music</td>\n",
       "      <td>5.00</td>\n",
       "      <td>debit</td>\n",
       "      <td>Music</td>\n",
       "    </tr>\n",
       "    <tr>\n",
       "      <th>7870</th>\n",
       "      <td>8/05/2010</td>\n",
       "      <td>calling_card</td>\n",
       "      <td>20.00</td>\n",
       "      <td>debit</td>\n",
       "      <td>Gift</td>\n",
       "    </tr>\n",
       "    <tr>\n",
       "      <th>7871</th>\n",
       "      <td>7/31/2010</td>\n",
       "      <td>usaa_com_pmt</td>\n",
       "      <td>241.81</td>\n",
       "      <td>credit</td>\n",
       "      <td>Credit Card Payment</td>\n",
       "    </tr>\n",
       "  </tbody>\n",
       "</table>\n",
       "<p>7797 rows × 5 columns</p>\n",
       "</div>"
      ],
      "text/plain": [
       "           date              description  amount transaction_type  \\\n",
       "0     6/29/2022           deposit_mobile  206.25           credit   \n",
       "1     6/28/2022  matthews_vet_services_p   13.20            debit   \n",
       "2     6/28/2022    starbucks_store_24306    5.57            debit   \n",
       "3     6/28/2022              paypal_hulu   14.16            debit   \n",
       "4     6/28/2022                h-e-b_618   20.56            debit   \n",
       "...         ...                      ...     ...              ...   \n",
       "7867  8/07/2010          ultra_foods_qps   17.84            debit   \n",
       "7868  8/07/2010       pennys_noodle_shop   26.42            debit   \n",
       "7869  8/05/2010             amazon_music    5.00            debit   \n",
       "7870  8/05/2010             calling_card   20.00            debit   \n",
       "7871  7/31/2010             usaa_com_pmt  241.81           credit   \n",
       "\n",
       "                 category  \n",
       "0                Transfer  \n",
       "1              Veterinary  \n",
       "2            Coffee Shops  \n",
       "3              Television  \n",
       "4               Groceries  \n",
       "...                   ...  \n",
       "7867        Food & Dining  \n",
       "7868          Restaurants  \n",
       "7869                Music  \n",
       "7870                 Gift  \n",
       "7871  Credit Card Payment  \n",
       "\n",
       "[7797 rows x 5 columns]"
      ]
     },
     "execution_count": 327,
     "metadata": {},
     "output_type": "execute_result"
    }
   ],
   "source": [
    "transactions5"
   ]
  },
  {
   "cell_type": "code",
   "execution_count": 328,
   "id": "507c2b3c",
   "metadata": {
    "scrolled": false
   },
   "outputs": [
    {
     "data": {
      "text/plain": [
       "array(['Transfer', 'Veterinary', 'Coffee Shops', 'Television',\n",
       "       'Groceries', 'Shipping', 'Entertainment', 'Interest Income',\n",
       "       'Restaurants', 'Gas & Fuel', 'Vacation', 'Shopping', 'Fast Food',\n",
       "       'Charity', 'Travel', 'Business Services', 'Income',\n",
       "       'Auto Insurance', 'Utilities', 'Alcohol & Bars',\n",
       "       'Credit Card Payment', 'Newspapers & Magazines', 'Paycheck',\n",
       "       'Parking', 'Internet', 'Clothing', 'Cash & ATM',\n",
       "       'Electronics & Software', 'Air Travel', 'Pharmacy', 'Doctor',\n",
       "       'Mortgage & Rent', 'Health & Fitness', 'Check',\n",
       "       'Pet Food & Supplies', 'Books & Supplies', 'Uncategorized',\n",
       "       'Furnishings', 'Gifts & Donations', 'Life Insurance',\n",
       "       'Auto Payment', 'Rental Car & Taxi', 'Books', 'Laundry', 'Gift',\n",
       "       'Ride Share', 'Service & Parts', 'Mobile Phone', 'Federal Tax',\n",
       "       'Taxes', 'Education', 'Misc Expenses', 'Hotel',\n",
       "       'Bills & Utilities', 'Service Fee', 'ATM Fee', 'Fees & Charges',\n",
       "       'Tuition', 'Personal Care', 'Hobbies', 'Food & Dining', 'Gym',\n",
       "       'Financial', 'Hair', 'Loan Payment', 'Movies & DVDs', 'Dentist',\n",
       "       'Kids Activities', 'Loans', 'Spa & Massage',\n",
       "       'Public Transportation', 'Home Improvement', 'Home Phone',\n",
       "       'Office Supplies', 'Home Supplies', 'Investments', 'Bank Fee',\n",
       "       'Auto & Transport', 'Music', 'Legal', 'Arts', 'Loan Interest',\n",
       "       'Loan Principal', 'Sports', 'Lawn & Garden',\n",
       "       'Babysitter & Daycare', 'Reimbursement', 'State Tax',\n",
       "       'Sporting Goods', 'Student Loan', 'Wedding', 'Counseling',\n",
       "       'Taxi/Uber', 'Printing', 'Hide from Budgets & Trends', 'Amusement',\n",
       "       'Calling Card', 'CSA Membership', 'Arsene Allowance',\n",
       "       'Piano Lessons', 'Emily Allowance', 'Transfer for Cash Spending',\n",
       "       'Home Services', 'Home', 'Arsene', 'Finance Charge',\n",
       "       'Health Insurance', 'Beatrice', 'Spilt with Roommates', 'Deposit',\n",
       "       'Late Fee'], dtype=object)"
      ]
     },
     "execution_count": 328,
     "metadata": {},
     "output_type": "execute_result"
    }
   ],
   "source": [
    "# Displaying the list of unique values of category\n",
    "\n",
    "transactions5['category'].unique()"
   ]
  },
  {
   "cell_type": "markdown",
   "id": "34487868",
   "metadata": {},
   "source": [
    ">**Many categories can be grouped into one**\n",
    "\n",
    "        - Income and paycheck\n",
    "        - Rental Car & Taxi and Ride Share and Taxi/Uber\n",
    "        - Food & Dining and Restaurants\n",
    "        - Arsene Allowance and Emily Allowance and Uncategorized and Misc Expenses \n",
    "        - Cash & ATM and Transfer for Cash Spending and Transfer\n",
    "        - Late Fee and Fees & Charges and ATM Fee and Service Fee and Spilt with Roommates \n",
    "        - Federal Tax and Taxes\n",
    "        - Health & Fitness and Gym"
   ]
  },
  {
   "cell_type": "code",
   "execution_count": 329,
   "id": "cb1d6e6b",
   "metadata": {},
   "outputs": [],
   "source": [
    "transactions5.replace(to_replace=['Paycheck'], value='Income', inplace=True)\n",
    "transactions5.replace(to_replace=['Rental Car & Taxi', 'Ride Share', 'Taxi/Uber'], value='Taxi', inplace=True)\n",
    "transactions5.replace(to_replace=['Food & Dining'], value='Restaurants', inplace=True)\n",
    "transactions5.replace(to_replace=['Arsene Allowance',\n",
    "                                  'Emily Allowance',\n",
    "                                  'Uncategorized'], value='Miscellaneous', inplace=True)\n",
    "transactions5.replace(to_replace=['Cash & ATM',\n",
    "                                  'Transfer for Cash Spending', 'Transfer'], value='Cash', inplace=True)\n",
    "transactions5.replace(to_replace=['Late Fee',\n",
    "                                  'Fees & Charges',\n",
    "                                  'ATM Fee', 'Service Fee', 'Spilt with Roommates'], value='Fees', inplace=True)\n",
    "transactions5.replace(to_replace=['Federal Tax'], value='Taxes', inplace=True)\n",
    "transactions5.replace(to_replace=['Health & Fitness', 'Gym'], value='Health_and_Fitness', inplace=True)"
   ]
  },
  {
   "cell_type": "code",
   "execution_count": 330,
   "id": "d4cf0e51",
   "metadata": {},
   "outputs": [
    {
     "data": {
      "text/plain": [
       "97"
      ]
     },
     "execution_count": 330,
     "metadata": {},
     "output_type": "execute_result"
    }
   ],
   "source": [
    "transactions5['category'].nunique()"
   ]
  },
  {
   "cell_type": "code",
   "execution_count": 332,
   "id": "0418dfe3",
   "metadata": {},
   "outputs": [
    {
     "data": {
      "text/plain": [
       "array(['Cash', 'Veterinary', 'Coffee Shops', 'Television', 'Groceries',\n",
       "       'Shipping', 'Entertainment', 'Interest Income', 'Restaurants',\n",
       "       'Gas & Fuel', 'Vacation', 'Shopping', 'Fast Food', 'Charity',\n",
       "       'Travel', 'Business Services', 'Income', 'Auto Insurance',\n",
       "       'Utilities', 'Alcohol & Bars', 'Credit Card Payment',\n",
       "       'Newspapers & Magazines', 'Parking', 'Internet', 'Clothing',\n",
       "       'Electronics & Software', 'Air Travel', 'Pharmacy', 'Doctor',\n",
       "       'Mortgage & Rent', 'Health_and_Fitness', 'Check',\n",
       "       'Pet Food & Supplies', 'Books & Supplies', 'Miscellaneous',\n",
       "       'Furnishings', 'Gifts & Donations', 'Life Insurance',\n",
       "       'Auto Payment', 'Taxi', 'Books', 'Laundry', 'Gift',\n",
       "       'Service & Parts', 'Mobile Phone', 'Taxes', 'Education',\n",
       "       'Misc Expenses', 'Hotel', 'Bills & Utilities', 'Fees', 'Tuition',\n",
       "       'Personal Care', 'Hobbies', 'Financial', 'Hair', 'Loan Payment',\n",
       "       'Movies & DVDs', 'Dentist', 'Kids Activities', 'Loans',\n",
       "       'Spa & Massage', 'Public Transportation', 'Home Improvement',\n",
       "       'Home Phone', 'Office Supplies', 'Home Supplies', 'Investments',\n",
       "       'Bank Fee', 'Auto & Transport', 'Music', 'Legal', 'Arts',\n",
       "       'Loan Interest', 'Loan Principal', 'Sports', 'Lawn & Garden',\n",
       "       'Babysitter & Daycare', 'Reimbursement', 'State Tax',\n",
       "       'Sporting Goods', 'Student Loan', 'Wedding', 'Counseling',\n",
       "       'Printing', 'Hide from Budgets & Trends', 'Amusement',\n",
       "       'Calling Card', 'CSA Membership', 'Piano Lessons', 'Home Services',\n",
       "       'Home', 'Arsene', 'Finance Charge', 'Health Insurance', 'Beatrice',\n",
       "       'Deposit'], dtype=object)"
      ]
     },
     "execution_count": 332,
     "metadata": {},
     "output_type": "execute_result"
    }
   ],
   "source": [
    "transactions5['category'].unique()"
   ]
  },
  {
   "cell_type": "markdown",
   "id": "75ff59da",
   "metadata": {},
   "source": [
    ">**More groupings are possible**\n",
    "\n",
    "        - Entertainment and Hobbies and Movies & DVDs and Amusement and Music and Art and CSA Membership and Piano Lessons and Sports and Television and Sporting Goods\n",
    "        - Kids Activities and Babysitter & Daycare and Gifts & Donations and Charity and Arsene and Gift and Beatrice\n",
    "        - Hide from Budgets & Trends and Fees and Business Services and Bank Fee and Finance Charge and Financial and Check and Shipping and Printing and Electronics & Software\n",
    "        - Air Travel and Vacation and Hotel\n",
    "        - Pharmacy and Dentist and Doctor and Counseling and Health Insurance\n",
    "        - Auto & Transport and Service & Parts and Parking\n",
    "        - Lawn & Garden and Home Improvement and Home Supplies and Home Services and Home and Furnishings\n",
    "        - Alcohol & Bars and Restaurants and Coffee Shops and Fast Food\n",
    "        - Books and Newspapers & Magazines and Books & Supplies\n",
    "        - Bills & Utilities and Utilities and Calling Card and Mobile Phone and Home Phone and Internet\n",
    "        - Pet Food & Supplies and Veterinary\n",
    "        - Clothing and Shopping and Hair and Personal Care and Laundry\n",
    "        - Tuition and Education\n",
    "        - Misc Expenses and Miscellaneous\n",
    "        - Loan Payment and Loans and Loan Interest and Loan Principal and Student Loan"
   ]
  },
  {
   "cell_type": "code",
   "execution_count": 333,
   "id": "b36700d3",
   "metadata": {},
   "outputs": [],
   "source": [
    "transactions5.replace(to_replace=['Entertainment',\n",
    "                                  'Hobbies',\n",
    "                                  'Movies & DVDs',\n",
    "                                  'Amusement',\n",
    "                                  'Music',\n",
    "                                  'Art',\n",
    "                                  'CSA Membership',\n",
    "                                  'Piano Lessons',\n",
    "                                  'Sports',\n",
    "                                  'Television', 'Sporting Goods'],\n",
    "                                  value='Entertainment_and_Sports', inplace=True)\n",
    "transactions5.replace(to_replace=['Kids Activities',\n",
    "                                  'Babysitter & Daycare',\n",
    "                                  'Gifts & Donations',\n",
    "                                  'Charity',\n",
    "                                  'Arsene',\n",
    "                                  'Gift', 'Beatrice'], value='Donations_and_Gifts', inplace=True)\n",
    "transactions5.replace(to_replace=['Hide from Budgets & Trends',\n",
    "                                  'Business Services',\n",
    "                                  'Bank Fee',\n",
    "                                  'Legal',\n",
    "                                  'Finance Charge',\n",
    "                                  'Financial', 'Check',\n",
    "                                  'Electronics & Software',\n",
    "                                  'Printing', 'Shipping'], value='Services_Fees', inplace=True)\n",
    "transactions5.replace(to_replace=['Air Travel', 'Hotel'], value='Vacation', inplace=True)\n",
    "transactions5.replace(to_replace=['Pharmacy',\n",
    "                                  'Dentist',\n",
    "                                  'Doctor',\n",
    "                                  'Counseling',\n",
    "                                  'Health Insurance'], value='Health', inplace=True)\n",
    "transactions5.replace(to_replace=['Auto & Transport',\n",
    "                                  'Service & Parts', 'Parking'], value='Auto_Fees', inplace=True)\n",
    "transactions5.replace(to_replace=['Lawn & Garden',\n",
    "                                  'Home Improvement',\n",
    "                                  'Home Supplies',\n",
    "                                  'Home Services',\n",
    "                                  'Home', 'Furnishings'], value='Home_Improvement', inplace=True)\n",
    "transactions5.replace(to_replace=['Alcohol & Bars',\n",
    "                                  'Restaurants',\n",
    "                                  'Coffee Shops', 'Fast Food'], value='Outings', inplace=True)\n",
    "transactions5.replace(to_replace=['Books',\n",
    "                                  'Newspapers & Magazines',\n",
    "                                  'Books & Supplies'], value='Books_and_Newspapers', inplace=True)\n",
    "transactions5.replace(to_replace=['Bills & Utilities',\n",
    "                                  'Utilities',\n",
    "                                  'Calling Card',\n",
    "                                  'Mobile Phone',\n",
    "                                  'Home Phone', 'Internet'], value='Bills_and_Utilities', inplace=True)\n",
    "transactions5.replace(to_replace=['Pet Food & Supplies',\n",
    "                                  'Veterinary'], value='Pet', inplace=True)\n",
    "transactions5.replace(to_replace=['Clothing',\n",
    "                                  'Shopping',\n",
    "                                  'Hair',\n",
    "                                  'Personal Care',\n",
    "                                  'Laundry'], value='Care_and_Shopping', inplace=True)\n",
    "transactions5.replace(to_replace=['Tuition'], value='Education', inplace=True)\n",
    "transactions5.replace(to_replace=['Misc Expenses'], value='Miscellaneous', inplace=True)\n",
    "transactions5.replace(to_replace=['Loan Payment',\n",
    "                                  'Loan Interest',\n",
    "                                  'Loan Principal',\n",
    "                                  'Student Loan'], value='Loans', inplace=True)"
   ]
  },
  {
   "cell_type": "code",
   "execution_count": 334,
   "id": "a436ce11",
   "metadata": {},
   "outputs": [
    {
     "data": {
      "text/plain": [
       "39"
      ]
     },
     "execution_count": 334,
     "metadata": {},
     "output_type": "execute_result"
    }
   ],
   "source": [
    "transactions5['category'].nunique()"
   ]
  },
  {
   "cell_type": "code",
   "execution_count": 335,
   "id": "4011a1b2",
   "metadata": {},
   "outputs": [
    {
     "data": {
      "text/plain": [
       "array(['Cash', 'Pet', 'Outings', 'Entertainment_and_Sports', 'Groceries',\n",
       "       'Services_Fees', 'Interest Income', 'Gas & Fuel', 'Vacation',\n",
       "       'Care_and_Shopping', 'Donations_and_Gifts', 'Travel', 'Income',\n",
       "       'Auto Insurance', 'Bills_and_Utilities', 'Credit Card Payment',\n",
       "       'Books_and_Newspapers', 'Auto_Fees', 'Health', 'Mortgage & Rent',\n",
       "       'Health_and_Fitness', 'Miscellaneous', 'Home_Improvement',\n",
       "       'Life Insurance', 'Auto Payment', 'Taxi', 'Taxes', 'Education',\n",
       "       'Fees', 'Loans', 'Spa & Massage', 'Public Transportation',\n",
       "       'Office Supplies', 'Investments', 'Arts', 'Reimbursement',\n",
       "       'State Tax', 'Wedding', 'Deposit'], dtype=object)"
      ]
     },
     "execution_count": 335,
     "metadata": {},
     "output_type": "execute_result"
    }
   ],
   "source": [
    "transactions5['category'].unique()"
   ]
  },
  {
   "cell_type": "code",
   "execution_count": 336,
   "id": "61bf427f",
   "metadata": {},
   "outputs": [],
   "source": [
    "transactions5.replace(to_replace=['Auto Insurance', 'Auto Payment'], value='Auto_Payments', inplace=True)\n",
    "transactions5.replace(to_replace=['Spa & Massage'], value='Care_and_Shopping', inplace=True)\n",
    "transactions5.replace(to_replace=['Office Supplies',\n",
    "                                  'Books_and_Newspapers'], value='Books_and_Supplies', inplace=True)\n",
    "transactions5.replace(to_replace=['Arts'], value='Entertainment_and_Sports', inplace=True)\n",
    "transactions5.replace(to_replace=['State Tax'], value='Taxes', inplace=True)\n",
    "transactions5.replace(to_replace=['Vacation'], value='Travel', inplace=True)\n",
    "transactions5.replace(to_replace=['Gas & Fuel'], value='Gas', inplace=True)"
   ]
  },
  {
   "cell_type": "code",
   "execution_count": 337,
   "id": "48f31069",
   "metadata": {},
   "outputs": [
    {
     "data": {
      "text/plain": [
       "33"
      ]
     },
     "execution_count": 337,
     "metadata": {},
     "output_type": "execute_result"
    }
   ],
   "source": [
    "transactions5['category'].nunique()"
   ]
  },
  {
   "cell_type": "code",
   "execution_count": 338,
   "id": "544b02c4",
   "metadata": {},
   "outputs": [
    {
     "data": {
      "text/plain": [
       "array(['Cash', 'Pet', 'Outings', 'Entertainment_and_Sports', 'Groceries',\n",
       "       'Services_Fees', 'Interest Income', 'Gas', 'Travel',\n",
       "       'Care_and_Shopping', 'Donations_and_Gifts', 'Income',\n",
       "       'Auto_Payments', 'Bills_and_Utilities', 'Credit Card Payment',\n",
       "       'Books_and_Supplies', 'Auto_Fees', 'Health', 'Mortgage & Rent',\n",
       "       'Health_and_Fitness', 'Miscellaneous', 'Home_Improvement',\n",
       "       'Life Insurance', 'Taxi', 'Taxes', 'Education', 'Fees', 'Loans',\n",
       "       'Public Transportation', 'Investments', 'Reimbursement', 'Wedding',\n",
       "       'Deposit'], dtype=object)"
      ]
     },
     "execution_count": 338,
     "metadata": {},
     "output_type": "execute_result"
    }
   ],
   "source": [
    "transactions5['category'].unique()"
   ]
  },
  {
   "cell_type": "code",
   "execution_count": 339,
   "id": "ef3f4ce5",
   "metadata": {
    "scrolled": true
   },
   "outputs": [
    {
     "data": {
      "text/html": [
       "<div>\n",
       "<style scoped>\n",
       "    .dataframe tbody tr th:only-of-type {\n",
       "        vertical-align: middle;\n",
       "    }\n",
       "\n",
       "    .dataframe tbody tr th {\n",
       "        vertical-align: top;\n",
       "    }\n",
       "\n",
       "    .dataframe thead th {\n",
       "        text-align: right;\n",
       "    }\n",
       "</style>\n",
       "<table border=\"1\" class=\"dataframe\">\n",
       "  <thead>\n",
       "    <tr style=\"text-align: right;\">\n",
       "      <th></th>\n",
       "      <th>date</th>\n",
       "      <th>description</th>\n",
       "      <th>amount</th>\n",
       "      <th>transaction_type</th>\n",
       "      <th>category</th>\n",
       "    </tr>\n",
       "  </thead>\n",
       "  <tbody>\n",
       "    <tr>\n",
       "      <th>0</th>\n",
       "      <td>6/29/2022</td>\n",
       "      <td>deposit_mobile</td>\n",
       "      <td>206.25</td>\n",
       "      <td>credit</td>\n",
       "      <td>Cash</td>\n",
       "    </tr>\n",
       "    <tr>\n",
       "      <th>1</th>\n",
       "      <td>6/28/2022</td>\n",
       "      <td>matthews_vet_services_p</td>\n",
       "      <td>13.20</td>\n",
       "      <td>debit</td>\n",
       "      <td>Pet</td>\n",
       "    </tr>\n",
       "    <tr>\n",
       "      <th>2</th>\n",
       "      <td>6/28/2022</td>\n",
       "      <td>starbucks_store_24306</td>\n",
       "      <td>5.57</td>\n",
       "      <td>debit</td>\n",
       "      <td>Outings</td>\n",
       "    </tr>\n",
       "    <tr>\n",
       "      <th>3</th>\n",
       "      <td>6/28/2022</td>\n",
       "      <td>paypal_hulu</td>\n",
       "      <td>14.16</td>\n",
       "      <td>debit</td>\n",
       "      <td>Entertainment_and_Sports</td>\n",
       "    </tr>\n",
       "    <tr>\n",
       "      <th>4</th>\n",
       "      <td>6/28/2022</td>\n",
       "      <td>h-e-b_618</td>\n",
       "      <td>20.56</td>\n",
       "      <td>debit</td>\n",
       "      <td>Groceries</td>\n",
       "    </tr>\n",
       "  </tbody>\n",
       "</table>\n",
       "</div>"
      ],
      "text/plain": [
       "        date              description  amount transaction_type  \\\n",
       "0  6/29/2022           deposit_mobile  206.25           credit   \n",
       "1  6/28/2022  matthews_vet_services_p   13.20            debit   \n",
       "2  6/28/2022    starbucks_store_24306    5.57            debit   \n",
       "3  6/28/2022              paypal_hulu   14.16            debit   \n",
       "4  6/28/2022                h-e-b_618   20.56            debit   \n",
       "\n",
       "                   category  \n",
       "0                      Cash  \n",
       "1                       Pet  \n",
       "2                   Outings  \n",
       "3  Entertainment_and_Sports  \n",
       "4                 Groceries  "
      ]
     },
     "execution_count": 339,
     "metadata": {},
     "output_type": "execute_result"
    }
   ],
   "source": [
    "transactions5.head()"
   ]
  },
  {
   "cell_type": "code",
   "execution_count": 341,
   "id": "537e8933",
   "metadata": {},
   "outputs": [
    {
     "data": {
      "text/html": [
       "<div>\n",
       "<style scoped>\n",
       "    .dataframe tbody tr th:only-of-type {\n",
       "        vertical-align: middle;\n",
       "    }\n",
       "\n",
       "    .dataframe tbody tr th {\n",
       "        vertical-align: top;\n",
       "    }\n",
       "\n",
       "    .dataframe thead th {\n",
       "        text-align: right;\n",
       "    }\n",
       "</style>\n",
       "<table border=\"1\" class=\"dataframe\">\n",
       "  <thead>\n",
       "    <tr style=\"text-align: right;\">\n",
       "      <th></th>\n",
       "      <th>date</th>\n",
       "      <th>description</th>\n",
       "      <th>amount</th>\n",
       "      <th>transaction_type</th>\n",
       "      <th>category</th>\n",
       "    </tr>\n",
       "  </thead>\n",
       "  <tbody>\n",
       "  </tbody>\n",
       "</table>\n",
       "</div>"
      ],
      "text/plain": [
       "Empty DataFrame\n",
       "Columns: [date, description, amount, transaction_type, category]\n",
       "Index: []"
      ]
     },
     "execution_count": 341,
     "metadata": {},
     "output_type": "execute_result"
    }
   ],
   "source": [
    "transactions5[transactions5.index.duplicated()]"
   ]
  },
  {
   "cell_type": "code",
   "execution_count": 227,
   "id": "70b49780",
   "metadata": {},
   "outputs": [],
   "source": [
    "# Setting the date column to a datetime type\n",
    "\n",
    "transactions5.date = pd.to_datetime(transactions5.date)"
   ]
  },
  {
   "cell_type": "markdown",
   "id": "50dfa26e",
   "metadata": {},
   "source": [
    "***"
   ]
  },
  {
   "cell_type": "markdown",
   "id": "c02b4611",
   "metadata": {},
   "source": [
    "# Explore"
   ]
  },
  {
   "cell_type": "markdown",
   "id": "9d57deeb",
   "metadata": {},
   "source": [
    ">### Because I am not going to model I will not split my data yet. I will plot different variable over time\n",
    "\n",
    ">### List of plots:\n",
    "    - Categories over time\n",
    "    - Expenses only over time\n",
    "    - Income from 2017 to 2022 (Monthly DF)\n",
    "    - Expenses monthly from 2017 to 2022\n",
    "    - Categories from lowest to highest\n",
    "    - Expenses weekly for last 3 Months\n",
    "    - TTM (Trailing Twelve Months) for categories\n",
    "    - TTM for expenses"
   ]
  },
  {
   "cell_type": "code",
   "execution_count": 303,
   "id": "2c8e3b2d",
   "metadata": {},
   "outputs": [],
   "source": [
    "transactions = transactions5.set_index('date').sort_index()"
   ]
  },
  {
   "cell_type": "code",
   "execution_count": 304,
   "id": "50115bb8",
   "metadata": {
    "scrolled": true
   },
   "outputs": [
    {
     "data": {
      "text/html": [
       "<div>\n",
       "<style scoped>\n",
       "    .dataframe tbody tr th:only-of-type {\n",
       "        vertical-align: middle;\n",
       "    }\n",
       "\n",
       "    .dataframe tbody tr th {\n",
       "        vertical-align: top;\n",
       "    }\n",
       "\n",
       "    .dataframe thead th {\n",
       "        text-align: right;\n",
       "    }\n",
       "</style>\n",
       "<table border=\"1\" class=\"dataframe\">\n",
       "  <thead>\n",
       "    <tr style=\"text-align: right;\">\n",
       "      <th></th>\n",
       "      <th>description</th>\n",
       "      <th>amount</th>\n",
       "      <th>transaction_type</th>\n",
       "      <th>category</th>\n",
       "    </tr>\n",
       "    <tr>\n",
       "      <th>date</th>\n",
       "      <th></th>\n",
       "      <th></th>\n",
       "      <th></th>\n",
       "      <th></th>\n",
       "    </tr>\n",
       "  </thead>\n",
       "  <tbody>\n",
       "    <tr>\n",
       "      <th>2010-07-31</th>\n",
       "      <td>usaa_com_pmt</td>\n",
       "      <td>241.81</td>\n",
       "      <td>credit</td>\n",
       "      <td>Credit Card Payment</td>\n",
       "    </tr>\n",
       "    <tr>\n",
       "      <th>2010-08-05</th>\n",
       "      <td>calling_card</td>\n",
       "      <td>20.00</td>\n",
       "      <td>debit</td>\n",
       "      <td>Donations_and_Gifts</td>\n",
       "    </tr>\n",
       "    <tr>\n",
       "      <th>2010-08-05</th>\n",
       "      <td>amazon_music</td>\n",
       "      <td>5.00</td>\n",
       "      <td>debit</td>\n",
       "      <td>Entertainment_and_Sports</td>\n",
       "    </tr>\n",
       "    <tr>\n",
       "      <th>2010-08-07</th>\n",
       "      <td>marathon</td>\n",
       "      <td>12.01</td>\n",
       "      <td>debit</td>\n",
       "      <td>Gas</td>\n",
       "    </tr>\n",
       "    <tr>\n",
       "      <th>2010-08-07</th>\n",
       "      <td>pennys_noodle_shop</td>\n",
       "      <td>26.42</td>\n",
       "      <td>debit</td>\n",
       "      <td>Outings</td>\n",
       "    </tr>\n",
       "  </tbody>\n",
       "</table>\n",
       "</div>"
      ],
      "text/plain": [
       "                   description  amount transaction_type  \\\n",
       "date                                                      \n",
       "2010-07-31        usaa_com_pmt  241.81           credit   \n",
       "2010-08-05        calling_card   20.00            debit   \n",
       "2010-08-05        amazon_music    5.00            debit   \n",
       "2010-08-07            marathon   12.01            debit   \n",
       "2010-08-07  pennys_noodle_shop   26.42            debit   \n",
       "\n",
       "                            category  \n",
       "date                                  \n",
       "2010-07-31       Credit Card Payment  \n",
       "2010-08-05       Donations_and_Gifts  \n",
       "2010-08-05  Entertainment_and_Sports  \n",
       "2010-08-07                       Gas  \n",
       "2010-08-07                   Outings  "
      ]
     },
     "execution_count": 304,
     "metadata": {},
     "output_type": "execute_result"
    }
   ],
   "source": [
    "transactions.head()"
   ]
  },
  {
   "cell_type": "code",
   "execution_count": 301,
   "id": "5c58df64",
   "metadata": {},
   "outputs": [
    {
     "data": {
      "text/html": [
       "<div>\n",
       "<style scoped>\n",
       "    .dataframe tbody tr th:only-of-type {\n",
       "        vertical-align: middle;\n",
       "    }\n",
       "\n",
       "    .dataframe tbody tr th {\n",
       "        vertical-align: top;\n",
       "    }\n",
       "\n",
       "    .dataframe thead th {\n",
       "        text-align: right;\n",
       "    }\n",
       "</style>\n",
       "<table border=\"1\" class=\"dataframe\">\n",
       "  <thead>\n",
       "    <tr style=\"text-align: right;\">\n",
       "      <th></th>\n",
       "      <th>count</th>\n",
       "      <th>mean</th>\n",
       "      <th>std</th>\n",
       "      <th>min</th>\n",
       "      <th>25%</th>\n",
       "      <th>50%</th>\n",
       "      <th>75%</th>\n",
       "      <th>max</th>\n",
       "    </tr>\n",
       "  </thead>\n",
       "  <tbody>\n",
       "    <tr>\n",
       "      <th>amount</th>\n",
       "      <td>7797.0</td>\n",
       "      <td>163.039633</td>\n",
       "      <td>601.329106</td>\n",
       "      <td>0.01</td>\n",
       "      <td>7.45</td>\n",
       "      <td>18.99</td>\n",
       "      <td>50.0</td>\n",
       "      <td>15000.0</td>\n",
       "    </tr>\n",
       "  </tbody>\n",
       "</table>\n",
       "</div>"
      ],
      "text/plain": [
       "         count        mean         std   min   25%    50%   75%      max\n",
       "amount  7797.0  163.039633  601.329106  0.01  7.45  18.99  50.0  15000.0"
      ]
     },
     "execution_count": 301,
     "metadata": {},
     "output_type": "execute_result"
    }
   ],
   "source": [
    "transactions.describe().T"
   ]
  },
  {
   "cell_type": "code",
   "execution_count": 296,
   "id": "a1e01fa5",
   "metadata": {},
   "outputs": [],
   "source": [
    "transactions.index.strftime('%b %d, %Y')"
   ]
  },
  {
   "cell_type": "code",
   "execution_count": 305,
   "id": "f1bbaa69",
   "metadata": {},
   "outputs": [
    {
     "data": {
      "text/html": [
       "<div>\n",
       "<style scoped>\n",
       "    .dataframe tbody tr th:only-of-type {\n",
       "        vertical-align: middle;\n",
       "    }\n",
       "\n",
       "    .dataframe tbody tr th {\n",
       "        vertical-align: top;\n",
       "    }\n",
       "\n",
       "    .dataframe thead th {\n",
       "        text-align: right;\n",
       "    }\n",
       "</style>\n",
       "<table border=\"1\" class=\"dataframe\">\n",
       "  <thead>\n",
       "    <tr style=\"text-align: right;\">\n",
       "      <th></th>\n",
       "      <th>description</th>\n",
       "      <th>amount</th>\n",
       "      <th>transaction_type</th>\n",
       "      <th>category</th>\n",
       "    </tr>\n",
       "    <tr>\n",
       "      <th>date</th>\n",
       "      <th></th>\n",
       "      <th></th>\n",
       "      <th></th>\n",
       "      <th></th>\n",
       "    </tr>\n",
       "  </thead>\n",
       "  <tbody>\n",
       "    <tr>\n",
       "      <th>2010-07-31</th>\n",
       "      <td>usaa_com_pmt</td>\n",
       "      <td>241.81</td>\n",
       "      <td>credit</td>\n",
       "      <td>Credit Card Payment</td>\n",
       "    </tr>\n",
       "    <tr>\n",
       "      <th>2010-08-05</th>\n",
       "      <td>calling_card</td>\n",
       "      <td>20.00</td>\n",
       "      <td>debit</td>\n",
       "      <td>Donations_and_Gifts</td>\n",
       "    </tr>\n",
       "    <tr>\n",
       "      <th>2010-08-05</th>\n",
       "      <td>amazon_music</td>\n",
       "      <td>5.00</td>\n",
       "      <td>debit</td>\n",
       "      <td>Entertainment_and_Sports</td>\n",
       "    </tr>\n",
       "    <tr>\n",
       "      <th>2010-08-07</th>\n",
       "      <td>marathon</td>\n",
       "      <td>12.01</td>\n",
       "      <td>debit</td>\n",
       "      <td>Gas</td>\n",
       "    </tr>\n",
       "    <tr>\n",
       "      <th>2010-08-07</th>\n",
       "      <td>pennys_noodle_shop</td>\n",
       "      <td>26.42</td>\n",
       "      <td>debit</td>\n",
       "      <td>Outings</td>\n",
       "    </tr>\n",
       "  </tbody>\n",
       "</table>\n",
       "</div>"
      ],
      "text/plain": [
       "                   description  amount transaction_type  \\\n",
       "date                                                      \n",
       "2010-07-31        usaa_com_pmt  241.81           credit   \n",
       "2010-08-05        calling_card   20.00            debit   \n",
       "2010-08-05        amazon_music    5.00            debit   \n",
       "2010-08-07            marathon   12.01            debit   \n",
       "2010-08-07  pennys_noodle_shop   26.42            debit   \n",
       "\n",
       "                            category  \n",
       "date                                  \n",
       "2010-07-31       Credit Card Payment  \n",
       "2010-08-05       Donations_and_Gifts  \n",
       "2010-08-05  Entertainment_and_Sports  \n",
       "2010-08-07                       Gas  \n",
       "2010-08-07                   Outings  "
      ]
     },
     "execution_count": 305,
     "metadata": {},
     "output_type": "execute_result"
    }
   ],
   "source": [
    "transactions.head()"
   ]
  },
  {
   "cell_type": "code",
   "execution_count": 306,
   "id": "ab8e1d35",
   "metadata": {},
   "outputs": [
    {
     "data": {
      "text/plain": [
       "<AxesSubplot:xlabel='date'>"
      ]
     },
     "execution_count": 306,
     "metadata": {},
     "output_type": "execute_result"
    },
    {
     "data": {
      "image/png": "[encoded data removed]",
      "text/plain": [
       "<Figure size 1224x504 with 1 Axes>"
      ]
     },
     "metadata": {},
     "output_type": "display_data"
    }
   ],
   "source": [
    "# Plotting categories overtime by month\n",
    "\n",
    "transactions.resample('M').sum().plot(figsize=(17,7))"
   ]
  },
  {
   "cell_type": "code",
   "execution_count": 308,
   "id": "fc318057",
   "metadata": {},
   "outputs": [],
   "source": [
    "transactions['month'] = transactions.index.strftime('%b %d, %Y')"
   ]
  },
  {
   "cell_type": "code",
   "execution_count": 309,
   "id": "d0c68f70",
   "metadata": {},
   "outputs": [
    {
     "data": {
      "text/html": [
       "<div>\n",
       "<style scoped>\n",
       "    .dataframe tbody tr th:only-of-type {\n",
       "        vertical-align: middle;\n",
       "    }\n",
       "\n",
       "    .dataframe tbody tr th {\n",
       "        vertical-align: top;\n",
       "    }\n",
       "\n",
       "    .dataframe thead th {\n",
       "        text-align: right;\n",
       "    }\n",
       "</style>\n",
       "<table border=\"1\" class=\"dataframe\">\n",
       "  <thead>\n",
       "    <tr style=\"text-align: right;\">\n",
       "      <th></th>\n",
       "      <th>description</th>\n",
       "      <th>amount</th>\n",
       "      <th>transaction_type</th>\n",
       "      <th>category</th>\n",
       "      <th>month</th>\n",
       "    </tr>\n",
       "    <tr>\n",
       "      <th>date</th>\n",
       "      <th></th>\n",
       "      <th></th>\n",
       "      <th></th>\n",
       "      <th></th>\n",
       "      <th></th>\n",
       "    </tr>\n",
       "  </thead>\n",
       "  <tbody>\n",
       "    <tr>\n",
       "      <th>2010-07-31</th>\n",
       "      <td>usaa_com_pmt</td>\n",
       "      <td>241.81</td>\n",
       "      <td>credit</td>\n",
       "      <td>Credit Card Payment</td>\n",
       "      <td>Jul 31, 2010</td>\n",
       "    </tr>\n",
       "    <tr>\n",
       "      <th>2010-08-05</th>\n",
       "      <td>calling_card</td>\n",
       "      <td>20.00</td>\n",
       "      <td>debit</td>\n",
       "      <td>Donations_and_Gifts</td>\n",
       "      <td>Aug 05, 2010</td>\n",
       "    </tr>\n",
       "    <tr>\n",
       "      <th>2010-08-05</th>\n",
       "      <td>amazon_music</td>\n",
       "      <td>5.00</td>\n",
       "      <td>debit</td>\n",
       "      <td>Entertainment_and_Sports</td>\n",
       "      <td>Aug 05, 2010</td>\n",
       "    </tr>\n",
       "    <tr>\n",
       "      <th>2010-08-07</th>\n",
       "      <td>marathon</td>\n",
       "      <td>12.01</td>\n",
       "      <td>debit</td>\n",
       "      <td>Gas</td>\n",
       "      <td>Aug 07, 2010</td>\n",
       "    </tr>\n",
       "    <tr>\n",
       "      <th>2010-08-07</th>\n",
       "      <td>pennys_noodle_shop</td>\n",
       "      <td>26.42</td>\n",
       "      <td>debit</td>\n",
       "      <td>Outings</td>\n",
       "      <td>Aug 07, 2010</td>\n",
       "    </tr>\n",
       "  </tbody>\n",
       "</table>\n",
       "</div>"
      ],
      "text/plain": [
       "                   description  amount transaction_type  \\\n",
       "date                                                      \n",
       "2010-07-31        usaa_com_pmt  241.81           credit   \n",
       "2010-08-05        calling_card   20.00            debit   \n",
       "2010-08-05        amazon_music    5.00            debit   \n",
       "2010-08-07            marathon   12.01            debit   \n",
       "2010-08-07  pennys_noodle_shop   26.42            debit   \n",
       "\n",
       "                            category         month  \n",
       "date                                                \n",
       "2010-07-31       Credit Card Payment  Jul 31, 2010  \n",
       "2010-08-05       Donations_and_Gifts  Aug 05, 2010  \n",
       "2010-08-05  Entertainment_and_Sports  Aug 05, 2010  \n",
       "2010-08-07                       Gas  Aug 07, 2010  \n",
       "2010-08-07                   Outings  Aug 07, 2010  "
      ]
     },
     "execution_count": 309,
     "metadata": {},
     "output_type": "execute_result"
    }
   ],
   "source": [
    "transactions.head()"
   ]
  },
  {
   "cell_type": "code",
   "execution_count": 314,
   "id": "e31d8a75",
   "metadata": {},
   "outputs": [
    {
     "data": {
      "text/plain": [
       "month\n",
       "Jul 29, 2013    0.01\n",
       "Sep 26, 2013    0.01\n",
       "Jun 26, 2013    0.01\n",
       "Mar 28, 2013    0.01\n",
       "May 29, 2013    0.01\n",
       "Name: amount, dtype: float64"
      ]
     },
     "execution_count": 314,
     "metadata": {},
     "output_type": "execute_result"
    }
   ],
   "source": [
    "transactions.groupby('month').amount.sum().sort_values().head()"
   ]
  },
  {
   "cell_type": "code",
   "execution_count": null,
   "id": "54ae2d26",
   "metadata": {},
   "outputs": [],
   "source": []
  },
  {
   "cell_type": "code",
   "execution_count": 269,
   "id": "129f2b3b",
   "metadata": {},
   "outputs": [],
   "source": [
    "income = transactions.loc[transactions['category'].str.contains('Income', case=False)]"
   ]
  },
  {
   "cell_type": "code",
   "execution_count": 270,
   "id": "1ec3632f",
   "metadata": {},
   "outputs": [
    {
     "data": {
      "text/html": [
       "<div>\n",
       "<style scoped>\n",
       "    .dataframe tbody tr th:only-of-type {\n",
       "        vertical-align: middle;\n",
       "    }\n",
       "\n",
       "    .dataframe tbody tr th {\n",
       "        vertical-align: top;\n",
       "    }\n",
       "\n",
       "    .dataframe thead th {\n",
       "        text-align: right;\n",
       "    }\n",
       "</style>\n",
       "<table border=\"1\" class=\"dataframe\">\n",
       "  <thead>\n",
       "    <tr style=\"text-align: right;\">\n",
       "      <th></th>\n",
       "      <th>description</th>\n",
       "      <th>amount</th>\n",
       "      <th>transaction_type</th>\n",
       "      <th>category</th>\n",
       "    </tr>\n",
       "    <tr>\n",
       "      <th>date</th>\n",
       "      <th></th>\n",
       "      <th></th>\n",
       "      <th></th>\n",
       "      <th></th>\n",
       "    </tr>\n",
       "  </thead>\n",
       "  <tbody>\n",
       "    <tr>\n",
       "      <th>2010-09-21</th>\n",
       "      <td>deposit</td>\n",
       "      <td>25.00</td>\n",
       "      <td>credit</td>\n",
       "      <td>Income</td>\n",
       "    </tr>\n",
       "    <tr>\n",
       "      <th>2010-09-30</th>\n",
       "      <td>interest_paid</td>\n",
       "      <td>0.33</td>\n",
       "      <td>credit</td>\n",
       "      <td>Interest Income</td>\n",
       "    </tr>\n",
       "    <tr>\n",
       "      <th>2010-10-18</th>\n",
       "      <td>mail_deposit</td>\n",
       "      <td>99.00</td>\n",
       "      <td>credit</td>\n",
       "      <td>Income</td>\n",
       "    </tr>\n",
       "    <tr>\n",
       "      <th>2010-10-28</th>\n",
       "      <td>exodus_world_ser</td>\n",
       "      <td>429.41</td>\n",
       "      <td>credit</td>\n",
       "      <td>Income</td>\n",
       "    </tr>\n",
       "    <tr>\n",
       "      <th>2010-10-29</th>\n",
       "      <td>interest_paid</td>\n",
       "      <td>0.21</td>\n",
       "      <td>credit</td>\n",
       "      <td>Interest Income</td>\n",
       "    </tr>\n",
       "    <tr>\n",
       "      <th>...</th>\n",
       "      <td>...</td>\n",
       "      <td>...</td>\n",
       "      <td>...</td>\n",
       "      <td>...</td>\n",
       "    </tr>\n",
       "    <tr>\n",
       "      <th>2022-06-13</th>\n",
       "      <td>venmo_cashout______7395</td>\n",
       "      <td>575.00</td>\n",
       "      <td>credit</td>\n",
       "      <td>Income</td>\n",
       "    </tr>\n",
       "    <tr>\n",
       "      <th>2022-06-14</th>\n",
       "      <td>varsity_tutors_l_dirdepdd______8777</td>\n",
       "      <td>32.50</td>\n",
       "      <td>credit</td>\n",
       "      <td>Income</td>\n",
       "    </tr>\n",
       "    <tr>\n",
       "      <th>2022-06-17</th>\n",
       "      <td>varsity_tutors_l_dirdepdd______8777</td>\n",
       "      <td>32.50</td>\n",
       "      <td>credit</td>\n",
       "      <td>Income</td>\n",
       "    </tr>\n",
       "    <tr>\n",
       "      <th>2022-06-23</th>\n",
       "      <td>vhs_acquisition_ach_entry_______922</td>\n",
       "      <td>2222.07</td>\n",
       "      <td>credit</td>\n",
       "      <td>Income</td>\n",
       "    </tr>\n",
       "    <tr>\n",
       "      <th>2022-06-28</th>\n",
       "      <td>interest_paid</td>\n",
       "      <td>0.07</td>\n",
       "      <td>credit</td>\n",
       "      <td>Interest Income</td>\n",
       "    </tr>\n",
       "  </tbody>\n",
       "</table>\n",
       "<p>617 rows × 4 columns</p>\n",
       "</div>"
      ],
      "text/plain": [
       "                                    description   amount transaction_type  \\\n",
       "date                                                                        \n",
       "2010-09-21                              deposit    25.00           credit   \n",
       "2010-09-30                        interest_paid     0.33           credit   \n",
       "2010-10-18                         mail_deposit    99.00           credit   \n",
       "2010-10-28                     exodus_world_ser   429.41           credit   \n",
       "2010-10-29                        interest_paid     0.21           credit   \n",
       "...                                         ...      ...              ...   \n",
       "2022-06-13              venmo_cashout______7395   575.00           credit   \n",
       "2022-06-14  varsity_tutors_l_dirdepdd______8777    32.50           credit   \n",
       "2022-06-17  varsity_tutors_l_dirdepdd______8777    32.50           credit   \n",
       "2022-06-23  vhs_acquisition_ach_entry_______922  2222.07           credit   \n",
       "2022-06-28                        interest_paid     0.07           credit   \n",
       "\n",
       "                   category  \n",
       "date                         \n",
       "2010-09-21           Income  \n",
       "2010-09-30  Interest Income  \n",
       "2010-10-18           Income  \n",
       "2010-10-28           Income  \n",
       "2010-10-29  Interest Income  \n",
       "...                     ...  \n",
       "2022-06-13           Income  \n",
       "2022-06-14           Income  \n",
       "2022-06-17           Income  \n",
       "2022-06-23           Income  \n",
       "2022-06-28  Interest Income  \n",
       "\n",
       "[617 rows x 4 columns]"
      ]
     },
     "execution_count": 270,
     "metadata": {},
     "output_type": "execute_result"
    }
   ],
   "source": [
    "income"
   ]
  },
  {
   "cell_type": "code",
   "execution_count": 271,
   "id": "8aad1f49",
   "metadata": {},
   "outputs": [
    {
     "data": {
      "text/html": [
       "<div>\n",
       "<style scoped>\n",
       "    .dataframe tbody tr th:only-of-type {\n",
       "        vertical-align: middle;\n",
       "    }\n",
       "\n",
       "    .dataframe tbody tr th {\n",
       "        vertical-align: top;\n",
       "    }\n",
       "\n",
       "    .dataframe thead th {\n",
       "        text-align: right;\n",
       "    }\n",
       "</style>\n",
       "<table border=\"1\" class=\"dataframe\">\n",
       "  <thead>\n",
       "    <tr style=\"text-align: right;\">\n",
       "      <th></th>\n",
       "      <th>amount</th>\n",
       "    </tr>\n",
       "  </thead>\n",
       "  <tbody>\n",
       "    <tr>\n",
       "      <th>count</th>\n",
       "      <td>617.000000</td>\n",
       "    </tr>\n",
       "    <tr>\n",
       "      <th>mean</th>\n",
       "      <td>574.842545</td>\n",
       "    </tr>\n",
       "    <tr>\n",
       "      <th>std</th>\n",
       "      <td>955.736925</td>\n",
       "    </tr>\n",
       "    <tr>\n",
       "      <th>min</th>\n",
       "      <td>0.010000</td>\n",
       "    </tr>\n",
       "    <tr>\n",
       "      <th>25%</th>\n",
       "      <td>0.100000</td>\n",
       "    </tr>\n",
       "    <tr>\n",
       "      <th>50%</th>\n",
       "      <td>65.390000</td>\n",
       "    </tr>\n",
       "    <tr>\n",
       "      <th>75%</th>\n",
       "      <td>957.370000</td>\n",
       "    </tr>\n",
       "    <tr>\n",
       "      <th>max</th>\n",
       "      <td>10000.000000</td>\n",
       "    </tr>\n",
       "  </tbody>\n",
       "</table>\n",
       "</div>"
      ],
      "text/plain": [
       "             amount\n",
       "count    617.000000\n",
       "mean     574.842545\n",
       "std      955.736925\n",
       "min        0.010000\n",
       "25%        0.100000\n",
       "50%       65.390000\n",
       "75%      957.370000\n",
       "max    10000.000000"
      ]
     },
     "execution_count": 271,
     "metadata": {},
     "output_type": "execute_result"
    }
   ],
   "source": [
    "income.describe()"
   ]
  },
  {
   "cell_type": "code",
   "execution_count": 275,
   "id": "5022d92f",
   "metadata": {},
   "outputs": [
    {
     "data": {
      "text/plain": [
       "<AxesSubplot:xlabel='date'>"
      ]
     },
     "execution_count": 275,
     "metadata": {},
     "output_type": "execute_result"
    },
    {
     "data": {
      "image/png": "[encoded data removed]",
      "text/plain": [
       "<Figure size 1224x504 with 1 Axes>"
      ]
     },
     "metadata": {},
     "output_type": "display_data"
    }
   ],
   "source": [
    "income.resample('M').sum().plot(figsize=(17,7))"
   ]
  },
  {
   "cell_type": "code",
   "execution_count": 372,
   "id": "bf3fa611",
   "metadata": {},
   "outputs": [],
   "source": [
    "income['month'] = income.index.strftime('%b, %Y')"
   ]
  },
  {
   "cell_type": "code",
   "execution_count": 373,
   "id": "52d059c2",
   "metadata": {},
   "outputs": [
    {
     "data": {
      "text/html": [
       "<div>\n",
       "<style scoped>\n",
       "    .dataframe tbody tr th:only-of-type {\n",
       "        vertical-align: middle;\n",
       "    }\n",
       "\n",
       "    .dataframe tbody tr th {\n",
       "        vertical-align: top;\n",
       "    }\n",
       "\n",
       "    .dataframe thead th {\n",
       "        text-align: right;\n",
       "    }\n",
       "</style>\n",
       "<table border=\"1\" class=\"dataframe\">\n",
       "  <thead>\n",
       "    <tr style=\"text-align: right;\">\n",
       "      <th></th>\n",
       "      <th>description</th>\n",
       "      <th>amount</th>\n",
       "      <th>transaction_type</th>\n",
       "      <th>category</th>\n",
       "      <th>month</th>\n",
       "    </tr>\n",
       "    <tr>\n",
       "      <th>date</th>\n",
       "      <th></th>\n",
       "      <th></th>\n",
       "      <th></th>\n",
       "      <th></th>\n",
       "      <th></th>\n",
       "    </tr>\n",
       "  </thead>\n",
       "  <tbody>\n",
       "    <tr>\n",
       "      <th>2010-09-21</th>\n",
       "      <td>deposit</td>\n",
       "      <td>25.00</td>\n",
       "      <td>credit</td>\n",
       "      <td>Income</td>\n",
       "      <td>Sep, 2010</td>\n",
       "    </tr>\n",
       "    <tr>\n",
       "      <th>2010-09-30</th>\n",
       "      <td>interest_paid</td>\n",
       "      <td>0.33</td>\n",
       "      <td>credit</td>\n",
       "      <td>Interest Income</td>\n",
       "      <td>Sep, 2010</td>\n",
       "    </tr>\n",
       "    <tr>\n",
       "      <th>2010-10-18</th>\n",
       "      <td>mail_deposit</td>\n",
       "      <td>99.00</td>\n",
       "      <td>credit</td>\n",
       "      <td>Income</td>\n",
       "      <td>Oct, 2010</td>\n",
       "    </tr>\n",
       "    <tr>\n",
       "      <th>2010-10-28</th>\n",
       "      <td>exodus_world_ser</td>\n",
       "      <td>429.41</td>\n",
       "      <td>credit</td>\n",
       "      <td>Income</td>\n",
       "      <td>Oct, 2010</td>\n",
       "    </tr>\n",
       "    <tr>\n",
       "      <th>2010-10-29</th>\n",
       "      <td>interest_paid</td>\n",
       "      <td>0.21</td>\n",
       "      <td>credit</td>\n",
       "      <td>Interest Income</td>\n",
       "      <td>Oct, 2010</td>\n",
       "    </tr>\n",
       "  </tbody>\n",
       "</table>\n",
       "</div>"
      ],
      "text/plain": [
       "                 description  amount transaction_type         category  \\\n",
       "date                                                                     \n",
       "2010-09-21           deposit   25.00           credit           Income   \n",
       "2010-09-30     interest_paid    0.33           credit  Interest Income   \n",
       "2010-10-18      mail_deposit   99.00           credit           Income   \n",
       "2010-10-28  exodus_world_ser  429.41           credit           Income   \n",
       "2010-10-29     interest_paid    0.21           credit  Interest Income   \n",
       "\n",
       "                month  \n",
       "date                   \n",
       "2010-09-21  Sep, 2010  \n",
       "2010-09-30  Sep, 2010  \n",
       "2010-10-18  Oct, 2010  \n",
       "2010-10-28  Oct, 2010  \n",
       "2010-10-29  Oct, 2010  "
      ]
     },
     "execution_count": 373,
     "metadata": {},
     "output_type": "execute_result"
    }
   ],
   "source": [
    "income.head()"
   ]
  },
  {
   "cell_type": "code",
   "execution_count": 386,
   "id": "22ee7eed",
   "metadata": {},
   "outputs": [
    {
     "data": {
      "text/plain": [
       "<AxesSubplot:xlabel='month'>"
      ]
     },
     "execution_count": 386,
     "metadata": {},
     "output_type": "execute_result"
    },
    {
     "data": {
      "image/png": "[encoded data removed]",
      "text/plain": [
       "<Figure size 1008x504 with 1 Axes>"
      ]
     },
     "metadata": {},
     "output_type": "display_data"
    }
   ],
   "source": [
    "income.loc['Jan, 2018':'Jun, 2022'].groupby('month', sort=False).amount.sum().plot(kind='bar',\n",
    "                                                             figsize=(14, 7),\n",
    "                                                             legend=True,\n",
    "                                                             rot=65)"
   ]
  },
  {
   "cell_type": "code",
   "execution_count": 387,
   "id": "95459df2",
   "metadata": {},
   "outputs": [
    {
     "data": {
      "text/html": [
       "<div>\n",
       "<style scoped>\n",
       "    .dataframe tbody tr th:only-of-type {\n",
       "        vertical-align: middle;\n",
       "    }\n",
       "\n",
       "    .dataframe tbody tr th {\n",
       "        vertical-align: top;\n",
       "    }\n",
       "\n",
       "    .dataframe thead th {\n",
       "        text-align: right;\n",
       "    }\n",
       "</style>\n",
       "<table border=\"1\" class=\"dataframe\">\n",
       "  <thead>\n",
       "    <tr style=\"text-align: right;\">\n",
       "      <th></th>\n",
       "      <th>description</th>\n",
       "      <th>amount</th>\n",
       "      <th>transaction_type</th>\n",
       "      <th>category</th>\n",
       "      <th>month</th>\n",
       "    </tr>\n",
       "    <tr>\n",
       "      <th>date</th>\n",
       "      <th></th>\n",
       "      <th></th>\n",
       "      <th></th>\n",
       "      <th></th>\n",
       "      <th></th>\n",
       "    </tr>\n",
       "  </thead>\n",
       "  <tbody>\n",
       "    <tr>\n",
       "      <th>2020-12-02</th>\n",
       "      <td>northshore_unive_payroll______9687</td>\n",
       "      <td>2409.43</td>\n",
       "      <td>credit</td>\n",
       "      <td>Income</td>\n",
       "      <td>Dec, 2020</td>\n",
       "    </tr>\n",
       "    <tr>\n",
       "      <th>2020-12-10</th>\n",
       "      <td>usaa_autodiv_p</td>\n",
       "      <td>31.79</td>\n",
       "      <td>credit</td>\n",
       "      <td>Income</td>\n",
       "      <td>Dec, 2020</td>\n",
       "    </tr>\n",
       "    <tr>\n",
       "      <th>2020-12-10</th>\n",
       "      <td>deposit_mobile</td>\n",
       "      <td>355.00</td>\n",
       "      <td>credit</td>\n",
       "      <td>Income</td>\n",
       "      <td>Dec, 2020</td>\n",
       "    </tr>\n",
       "    <tr>\n",
       "      <th>2020-12-15</th>\n",
       "      <td>living_wo_dir_dep_______219</td>\n",
       "      <td>398.55</td>\n",
       "      <td>credit</td>\n",
       "      <td>Income</td>\n",
       "      <td>Dec, 2020</td>\n",
       "    </tr>\n",
       "    <tr>\n",
       "      <th>2020-12-16</th>\n",
       "      <td>deposit_mobile</td>\n",
       "      <td>30.77</td>\n",
       "      <td>credit</td>\n",
       "      <td>Income</td>\n",
       "      <td>Dec, 2020</td>\n",
       "    </tr>\n",
       "    <tr>\n",
       "      <th>2020-12-16</th>\n",
       "      <td>northshore_unive_payroll______7158</td>\n",
       "      <td>2256.10</td>\n",
       "      <td>credit</td>\n",
       "      <td>Income</td>\n",
       "      <td>Dec, 2020</td>\n",
       "    </tr>\n",
       "    <tr>\n",
       "      <th>2020-12-29</th>\n",
       "      <td>interest_paid</td>\n",
       "      <td>0.11</td>\n",
       "      <td>credit</td>\n",
       "      <td>Interest Income</td>\n",
       "      <td>Dec, 2020</td>\n",
       "    </tr>\n",
       "    <tr>\n",
       "      <th>2020-12-30</th>\n",
       "      <td>northshore_unive_payroll______2660</td>\n",
       "      <td>2256.10</td>\n",
       "      <td>credit</td>\n",
       "      <td>Income</td>\n",
       "      <td>Dec, 2020</td>\n",
       "    </tr>\n",
       "    <tr>\n",
       "      <th>2020-12-30</th>\n",
       "      <td>living_wo_dir_dep_______219</td>\n",
       "      <td>398.55</td>\n",
       "      <td>credit</td>\n",
       "      <td>Income</td>\n",
       "      <td>Dec, 2020</td>\n",
       "    </tr>\n",
       "    <tr>\n",
       "      <th>2020-12-31</th>\n",
       "      <td>wire_in</td>\n",
       "      <td>10000.00</td>\n",
       "      <td>credit</td>\n",
       "      <td>Income</td>\n",
       "      <td>Dec, 2020</td>\n",
       "    </tr>\n",
       "    <tr>\n",
       "      <th>2020-12-31</th>\n",
       "      <td>interest_paid</td>\n",
       "      <td>0.30</td>\n",
       "      <td>credit</td>\n",
       "      <td>Interest Income</td>\n",
       "      <td>Dec, 2020</td>\n",
       "    </tr>\n",
       "  </tbody>\n",
       "</table>\n",
       "</div>"
      ],
      "text/plain": [
       "                                   description    amount transaction_type  \\\n",
       "date                                                                        \n",
       "2020-12-02  northshore_unive_payroll______9687   2409.43           credit   \n",
       "2020-12-10                      usaa_autodiv_p     31.79           credit   \n",
       "2020-12-10                      deposit_mobile    355.00           credit   \n",
       "2020-12-15         living_wo_dir_dep_______219    398.55           credit   \n",
       "2020-12-16                      deposit_mobile     30.77           credit   \n",
       "2020-12-16  northshore_unive_payroll______7158   2256.10           credit   \n",
       "2020-12-29                       interest_paid      0.11           credit   \n",
       "2020-12-30  northshore_unive_payroll______2660   2256.10           credit   \n",
       "2020-12-30         living_wo_dir_dep_______219    398.55           credit   \n",
       "2020-12-31                             wire_in  10000.00           credit   \n",
       "2020-12-31                       interest_paid      0.30           credit   \n",
       "\n",
       "                   category      month  \n",
       "date                                    \n",
       "2020-12-02           Income  Dec, 2020  \n",
       "2020-12-10           Income  Dec, 2020  \n",
       "2020-12-10           Income  Dec, 2020  \n",
       "2020-12-15           Income  Dec, 2020  \n",
       "2020-12-16           Income  Dec, 2020  \n",
       "2020-12-16           Income  Dec, 2020  \n",
       "2020-12-29  Interest Income  Dec, 2020  \n",
       "2020-12-30           Income  Dec, 2020  \n",
       "2020-12-30           Income  Dec, 2020  \n",
       "2020-12-31           Income  Dec, 2020  \n",
       "2020-12-31  Interest Income  Dec, 2020  "
      ]
     },
     "execution_count": 387,
     "metadata": {},
     "output_type": "execute_result"
    }
   ],
   "source": [
    "income.loc['Dec, 2020']"
   ]
  },
  {
   "cell_type": "code",
   "execution_count": 388,
   "id": "c19ea2bf",
   "metadata": {},
   "outputs": [
    {
     "data": {
      "text/plain": [
       "<AxesSubplot:title={'center':'Trailing Twelve Month Income'}, xlabel='month'>"
      ]
     },
     "execution_count": 388,
     "metadata": {},
     "output_type": "execute_result"
    },
    {
     "data": {
      "image/png": "[encoded data removed]",
      "text/plain": [
       "<Figure size 1008x504 with 1 Axes>"
      ]
     },
     "metadata": {},
     "output_type": "display_data"
    }
   ],
   "source": [
    "income.loc['Jun, 2021':'May, 2022'].groupby('month', sort=False).amount.sum().plot(kind='bar',\n",
    "                                                             figsize=(14, 7),\n",
    "                                                             legend=True,\n",
    "                                                             rot=65,\n",
    "                                                             title='Trailing Twelve Month Income')"
   ]
  },
  {
   "cell_type": "code",
   "execution_count": 281,
   "id": "dba7cca9",
   "metadata": {
    "collapsed": true
   },
   "outputs": [
    {
     "ename": "ValueError",
     "evalue": "name is not a valid palette name",
     "output_type": "error",
     "traceback": [
      "\u001b[0;31m---------------------------------------------------------------------------\u001b[0m",
      "\u001b[0;31mValueError\u001b[0m                                Traceback (most recent call last)",
      "\u001b[0;32m/opt/homebrew/anaconda3/lib/python3.9/site-packages/seaborn/palettes.py\u001b[0m in \u001b[0;36mcolor_palette\u001b[0;34m(palette, n_colors, desat, as_cmap)\u001b[0m\n\u001b[1;32m    205\u001b[0m                 \u001b[0;31m# Perhaps a named matplotlib colormap?\u001b[0m\u001b[0;34m\u001b[0m\u001b[0;34m\u001b[0m\u001b[0m\n\u001b[0;32m--> 206\u001b[0;31m                 \u001b[0mpalette\u001b[0m \u001b[0;34m=\u001b[0m \u001b[0mmpl_palette\u001b[0m\u001b[0;34m(\u001b[0m\u001b[0mpalette\u001b[0m\u001b[0;34m,\u001b[0m \u001b[0mn_colors\u001b[0m\u001b[0;34m,\u001b[0m \u001b[0mas_cmap\u001b[0m\u001b[0;34m=\u001b[0m\u001b[0mas_cmap\u001b[0m\u001b[0;34m)\u001b[0m\u001b[0;34m\u001b[0m\u001b[0;34m\u001b[0m\u001b[0m\n\u001b[0m\u001b[1;32m    207\u001b[0m             \u001b[0;32mexcept\u001b[0m \u001b[0mValueError\u001b[0m\u001b[0;34m:\u001b[0m\u001b[0;34m\u001b[0m\u001b[0;34m\u001b[0m\u001b[0m\n",
      "\u001b[0;32m/opt/homebrew/anaconda3/lib/python3.9/site-packages/seaborn/palettes.py\u001b[0m in \u001b[0;36mmpl_palette\u001b[0;34m(name, n_colors, as_cmap)\u001b[0m\n\u001b[1;32m    442\u001b[0m     \u001b[0;32melse\u001b[0m\u001b[0;34m:\u001b[0m\u001b[0;34m\u001b[0m\u001b[0;34m\u001b[0m\u001b[0m\n\u001b[0;32m--> 443\u001b[0;31m         \u001b[0mcmap\u001b[0m \u001b[0;34m=\u001b[0m \u001b[0mmpl\u001b[0m\u001b[0;34m.\u001b[0m\u001b[0mcm\u001b[0m\u001b[0;34m.\u001b[0m\u001b[0mget_cmap\u001b[0m\u001b[0;34m(\u001b[0m\u001b[0mname\u001b[0m\u001b[0;34m)\u001b[0m\u001b[0;34m\u001b[0m\u001b[0;34m\u001b[0m\u001b[0m\n\u001b[0m\u001b[1;32m    444\u001b[0m \u001b[0;34m\u001b[0m\u001b[0m\n",
      "\u001b[0;32m/opt/homebrew/anaconda3/lib/python3.9/site-packages/matplotlib/cm.py\u001b[0m in \u001b[0;36mget_cmap\u001b[0;34m(name, lut)\u001b[0m\n\u001b[1;32m    189\u001b[0m         \u001b[0;32mreturn\u001b[0m \u001b[0mname\u001b[0m\u001b[0;34m\u001b[0m\u001b[0;34m\u001b[0m\u001b[0m\n\u001b[0;32m--> 190\u001b[0;31m     \u001b[0m_api\u001b[0m\u001b[0;34m.\u001b[0m\u001b[0mcheck_in_list\u001b[0m\u001b[0;34m(\u001b[0m\u001b[0msorted\u001b[0m\u001b[0;34m(\u001b[0m\u001b[0m_cmap_registry\u001b[0m\u001b[0;34m)\u001b[0m\u001b[0;34m,\u001b[0m \u001b[0mname\u001b[0m\u001b[0;34m=\u001b[0m\u001b[0mname\u001b[0m\u001b[0;34m)\u001b[0m\u001b[0;34m\u001b[0m\u001b[0;34m\u001b[0m\u001b[0m\n\u001b[0m\u001b[1;32m    191\u001b[0m     \u001b[0;32mif\u001b[0m \u001b[0mlut\u001b[0m \u001b[0;32mis\u001b[0m \u001b[0;32mNone\u001b[0m\u001b[0;34m:\u001b[0m\u001b[0;34m\u001b[0m\u001b[0;34m\u001b[0m\u001b[0m\n",
      "\u001b[0;32m/opt/homebrew/anaconda3/lib/python3.9/site-packages/matplotlib/_api/__init__.py\u001b[0m in \u001b[0;36mcheck_in_list\u001b[0;34m(_values, _print_supported_values, **kwargs)\u001b[0m\n\u001b[1;32m    125\u001b[0m             \u001b[0;32mif\u001b[0m \u001b[0m_print_supported_values\u001b[0m\u001b[0;34m:\u001b[0m\u001b[0;34m\u001b[0m\u001b[0;34m\u001b[0m\u001b[0m\n\u001b[0;32m--> 126\u001b[0;31m                 raise ValueError(\n\u001b[0m\u001b[1;32m    127\u001b[0m                     \u001b[0;34mf\"{val!r} is not a valid value for {key}; \"\u001b[0m\u001b[0;34m\u001b[0m\u001b[0;34m\u001b[0m\u001b[0m\n",
      "\u001b[0;31mValueError\u001b[0m: 'name' is not a valid value for name; supported values are 'Accent', 'Accent_r', 'Blues', 'Blues_r', 'BrBG', 'BrBG_r', 'BuGn', 'BuGn_r', 'BuPu', 'BuPu_r', 'CMRmap', 'CMRmap_r', 'Dark2', 'Dark2_r', 'GnBu', 'GnBu_r', 'Greens', 'Greens_r', 'Greys', 'Greys_r', 'OrRd', 'OrRd_r', 'Oranges', 'Oranges_r', 'PRGn', 'PRGn_r', 'Paired', 'Paired_r', 'Pastel1', 'Pastel1_r', 'Pastel2', 'Pastel2_r', 'PiYG', 'PiYG_r', 'PuBu', 'PuBuGn', 'PuBuGn_r', 'PuBu_r', 'PuOr', 'PuOr_r', 'PuRd', 'PuRd_r', 'Purples', 'Purples_r', 'RdBu', 'RdBu_r', 'RdGy', 'RdGy_r', 'RdPu', 'RdPu_r', 'RdYlBu', 'RdYlBu_r', 'RdYlGn', 'RdYlGn_r', 'Reds', 'Reds_r', 'Set1', 'Set1_r', 'Set2', 'Set2_r', 'Set3', 'Set3_r', 'Spectral', 'Spectral_r', 'Wistia', 'Wistia_r', 'YlGn', 'YlGnBu', 'YlGnBu_r', 'YlGn_r', 'YlOrBr', 'YlOrBr_r', 'YlOrRd', 'YlOrRd_r', 'afmhot', 'afmhot_r', 'autumn', 'autumn_r', 'binary', 'binary_r', 'bone', 'bone_r', 'brg', 'brg_r', 'bwr', 'bwr_r', 'cividis', 'cividis_r', 'cool', 'cool_r', 'coolwarm', 'coolwarm_r', 'copper', 'copper_r', 'crest', 'crest_r', 'cubehelix', 'cubehelix_r', 'flag', 'flag_r', 'flare', 'flare_r', 'gist_earth', 'gist_earth_r', 'gist_gray', 'gist_gray_r', 'gist_heat', 'gist_heat_r', 'gist_ncar', 'gist_ncar_r', 'gist_rainbow', 'gist_rainbow_r', 'gist_stern', 'gist_stern_r', 'gist_yarg', 'gist_yarg_r', 'gnuplot', 'gnuplot2', 'gnuplot2_r', 'gnuplot_r', 'gray', 'gray_r', 'hot', 'hot_r', 'hsv', 'hsv_r', 'icefire', 'icefire_r', 'inferno', 'inferno_r', 'jet', 'jet_r', 'magma', 'magma_r', 'mako', 'mako_r', 'nipy_spectral', 'nipy_spectral_r', 'ocean', 'ocean_r', 'pink', 'pink_r', 'plasma', 'plasma_r', 'prism', 'prism_r', 'rainbow', 'rainbow_r', 'rocket', 'rocket_r', 'seismic', 'seismic_r', 'spring', 'spring_r', 'summer', 'summer_r', 'tab10', 'tab10_r', 'tab20', 'tab20_r', 'tab20b', 'tab20b_r', 'tab20c', 'tab20c_r', 'terrain', 'terrain_r', 'turbo', 'turbo_r', 'twilight', 'twilight_r', 'twilight_shifted', 'twilight_shifted_r', 'viridis', 'viridis_r', 'vlag', 'vlag_r', 'winter', 'winter_r'",
      "\nDuring handling of the above exception, another exception occurred:\n",
      "\u001b[0;31mValueError\u001b[0m                                Traceback (most recent call last)",
      "\u001b[0;32m/var/folders/5k/zptdym41293159jft7y2b6cm0000gp/T/ipykernel_22770/731587787.py\u001b[0m in \u001b[0;36m<module>\u001b[0;34m\u001b[0m\n\u001b[0;32m----> 1\u001b[0;31m \u001b[0msns\u001b[0m\u001b[0;34m.\u001b[0m\u001b[0mcolor_palette\u001b[0m\u001b[0;34m(\u001b[0m\u001b[0;34m'name'\u001b[0m\u001b[0;34m)\u001b[0m\u001b[0;34m\u001b[0m\u001b[0;34m\u001b[0m\u001b[0m\n\u001b[0m",
      "\u001b[0;32m/opt/homebrew/anaconda3/lib/python3.9/site-packages/seaborn/palettes.py\u001b[0m in \u001b[0;36mcolor_palette\u001b[0;34m(palette, n_colors, desat, as_cmap)\u001b[0m\n\u001b[1;32m    206\u001b[0m                 \u001b[0mpalette\u001b[0m \u001b[0;34m=\u001b[0m \u001b[0mmpl_palette\u001b[0m\u001b[0;34m(\u001b[0m\u001b[0mpalette\u001b[0m\u001b[0;34m,\u001b[0m \u001b[0mn_colors\u001b[0m\u001b[0;34m,\u001b[0m \u001b[0mas_cmap\u001b[0m\u001b[0;34m=\u001b[0m\u001b[0mas_cmap\u001b[0m\u001b[0;34m)\u001b[0m\u001b[0;34m\u001b[0m\u001b[0;34m\u001b[0m\u001b[0m\n\u001b[1;32m    207\u001b[0m             \u001b[0;32mexcept\u001b[0m \u001b[0mValueError\u001b[0m\u001b[0;34m:\u001b[0m\u001b[0;34m\u001b[0m\u001b[0;34m\u001b[0m\u001b[0m\n\u001b[0;32m--> 208\u001b[0;31m                 \u001b[0;32mraise\u001b[0m \u001b[0mValueError\u001b[0m\u001b[0;34m(\u001b[0m\u001b[0;34m\"%s is not a valid palette name\"\u001b[0m \u001b[0;34m%\u001b[0m \u001b[0mpalette\u001b[0m\u001b[0;34m)\u001b[0m\u001b[0;34m\u001b[0m\u001b[0;34m\u001b[0m\u001b[0m\n\u001b[0m\u001b[1;32m    209\u001b[0m \u001b[0;34m\u001b[0m\u001b[0m\n\u001b[1;32m    210\u001b[0m     \u001b[0;32mif\u001b[0m \u001b[0mdesat\u001b[0m \u001b[0;32mis\u001b[0m \u001b[0;32mnot\u001b[0m \u001b[0;32mNone\u001b[0m\u001b[0;34m:\u001b[0m\u001b[0;34m\u001b[0m\u001b[0;34m\u001b[0m\u001b[0m\n",
      "\u001b[0;31mValueError\u001b[0m: name is not a valid palette name"
     ]
    }
   ],
   "source": [
    "sns.color_palette('name')"
   ]
  },
  {
   "cell_type": "code",
   "execution_count": 272,
   "id": "765a6515",
   "metadata": {},
   "outputs": [],
   "source": [
    "expenses = transactions.loc[~transactions['category'].str.contains('Income', case=False)]"
   ]
  },
  {
   "cell_type": "code",
   "execution_count": 273,
   "id": "af7e01e9",
   "metadata": {},
   "outputs": [
    {
     "data": {
      "text/html": [
       "<div>\n",
       "<style scoped>\n",
       "    .dataframe tbody tr th:only-of-type {\n",
       "        vertical-align: middle;\n",
       "    }\n",
       "\n",
       "    .dataframe tbody tr th {\n",
       "        vertical-align: top;\n",
       "    }\n",
       "\n",
       "    .dataframe thead th {\n",
       "        text-align: right;\n",
       "    }\n",
       "</style>\n",
       "<table border=\"1\" class=\"dataframe\">\n",
       "  <thead>\n",
       "    <tr style=\"text-align: right;\">\n",
       "      <th></th>\n",
       "      <th>description</th>\n",
       "      <th>amount</th>\n",
       "      <th>transaction_type</th>\n",
       "      <th>category</th>\n",
       "    </tr>\n",
       "    <tr>\n",
       "      <th>date</th>\n",
       "      <th></th>\n",
       "      <th></th>\n",
       "      <th></th>\n",
       "      <th></th>\n",
       "    </tr>\n",
       "  </thead>\n",
       "  <tbody>\n",
       "    <tr>\n",
       "      <th>2010-07-31</th>\n",
       "      <td>usaa_com_pmt</td>\n",
       "      <td>241.81</td>\n",
       "      <td>credit</td>\n",
       "      <td>Credit Card Payment</td>\n",
       "    </tr>\n",
       "    <tr>\n",
       "      <th>2010-08-05</th>\n",
       "      <td>calling_card</td>\n",
       "      <td>20.00</td>\n",
       "      <td>debit</td>\n",
       "      <td>Donations_and_Gifts</td>\n",
       "    </tr>\n",
       "    <tr>\n",
       "      <th>2010-08-05</th>\n",
       "      <td>amazon_music</td>\n",
       "      <td>5.00</td>\n",
       "      <td>debit</td>\n",
       "      <td>Entertainment_and_Sports</td>\n",
       "    </tr>\n",
       "    <tr>\n",
       "      <th>2010-08-07</th>\n",
       "      <td>marathon</td>\n",
       "      <td>12.01</td>\n",
       "      <td>debit</td>\n",
       "      <td>Gas</td>\n",
       "    </tr>\n",
       "    <tr>\n",
       "      <th>2010-08-07</th>\n",
       "      <td>pennys_noodle_shop</td>\n",
       "      <td>26.42</td>\n",
       "      <td>debit</td>\n",
       "      <td>Outings</td>\n",
       "    </tr>\n",
       "  </tbody>\n",
       "</table>\n",
       "</div>"
      ],
      "text/plain": [
       "                   description  amount transaction_type  \\\n",
       "date                                                      \n",
       "2010-07-31        usaa_com_pmt  241.81           credit   \n",
       "2010-08-05        calling_card   20.00            debit   \n",
       "2010-08-05        amazon_music    5.00            debit   \n",
       "2010-08-07            marathon   12.01            debit   \n",
       "2010-08-07  pennys_noodle_shop   26.42            debit   \n",
       "\n",
       "                            category  \n",
       "date                                  \n",
       "2010-07-31       Credit Card Payment  \n",
       "2010-08-05       Donations_and_Gifts  \n",
       "2010-08-05  Entertainment_and_Sports  \n",
       "2010-08-07                       Gas  \n",
       "2010-08-07                   Outings  "
      ]
     },
     "execution_count": 273,
     "metadata": {},
     "output_type": "execute_result"
    }
   ],
   "source": [
    "expenses.head()"
   ]
  },
  {
   "cell_type": "code",
   "execution_count": 274,
   "id": "5b5436a5",
   "metadata": {},
   "outputs": [
    {
     "data": {
      "text/html": [
       "<div>\n",
       "<style scoped>\n",
       "    .dataframe tbody tr th:only-of-type {\n",
       "        vertical-align: middle;\n",
       "    }\n",
       "\n",
       "    .dataframe tbody tr th {\n",
       "        vertical-align: top;\n",
       "    }\n",
       "\n",
       "    .dataframe thead th {\n",
       "        text-align: right;\n",
       "    }\n",
       "</style>\n",
       "<table border=\"1\" class=\"dataframe\">\n",
       "  <thead>\n",
       "    <tr style=\"text-align: right;\">\n",
       "      <th></th>\n",
       "      <th>amount</th>\n",
       "    </tr>\n",
       "  </thead>\n",
       "  <tbody>\n",
       "    <tr>\n",
       "      <th>count</th>\n",
       "      <td>7180.000000</td>\n",
       "    </tr>\n",
       "    <tr>\n",
       "      <th>mean</th>\n",
       "      <td>127.652113</td>\n",
       "    </tr>\n",
       "    <tr>\n",
       "      <th>std</th>\n",
       "      <td>546.323277</td>\n",
       "    </tr>\n",
       "    <tr>\n",
       "      <th>min</th>\n",
       "      <td>0.010000</td>\n",
       "    </tr>\n",
       "    <tr>\n",
       "      <th>25%</th>\n",
       "      <td>7.975000</td>\n",
       "    </tr>\n",
       "    <tr>\n",
       "      <th>50%</th>\n",
       "      <td>18.460000</td>\n",
       "    </tr>\n",
       "    <tr>\n",
       "      <th>75%</th>\n",
       "      <td>45.462500</td>\n",
       "    </tr>\n",
       "    <tr>\n",
       "      <th>max</th>\n",
       "      <td>15000.000000</td>\n",
       "    </tr>\n",
       "  </tbody>\n",
       "</table>\n",
       "</div>"
      ],
      "text/plain": [
       "             amount\n",
       "count   7180.000000\n",
       "mean     127.652113\n",
       "std      546.323277\n",
       "min        0.010000\n",
       "25%        7.975000\n",
       "50%       18.460000\n",
       "75%       45.462500\n",
       "max    15000.000000"
      ]
     },
     "execution_count": 274,
     "metadata": {},
     "output_type": "execute_result"
    }
   ],
   "source": [
    "expenses.describe()"
   ]
  },
  {
   "cell_type": "code",
   "execution_count": 288,
   "id": "90077559",
   "metadata": {},
   "outputs": [
    {
     "data": {
      "text/plain": [
       "<AxesSubplot:xlabel='date'>"
      ]
     },
     "execution_count": 288,
     "metadata": {},
     "output_type": "execute_result"
    },
    {
     "data": {
      "image/png": "[encoded data removed]",
      "text/plain": [
       "<Figure size 1224x504 with 1 Axes>"
      ]
     },
     "metadata": {},
     "output_type": "display_data"
    }
   ],
   "source": [
    "expenses.resample('M').sum().plot(figsize=(17,7))"
   ]
  },
  {
   "cell_type": "code",
   "execution_count": 292,
   "id": "62997205",
   "metadata": {},
   "outputs": [
    {
     "data": {
      "text/plain": [
       "<matplotlib.legend.Legend at 0x7f7d2fc4a100>"
      ]
     },
     "execution_count": 292,
     "metadata": {},
     "output_type": "execute_result"
    },
    {
     "data": {
      "image/png": "[encoded data removed]",
      "text/plain": [
       "<Figure size 1224x504 with 1 Axes>"
      ]
     },
     "metadata": {},
     "output_type": "display_data"
    }
   ],
   "source": [
    "# Overlaying the income and expenses curves to see how they correspond and if it is useful to display\n",
    "\n",
    "ax = income.resample('M').sum().plot(figsize=(17,7))\n",
    "expenses.resample('M').sum().plot(figsize=(17,7), ax=ax)\n",
    "plt.legend(labels=['Income','Expenses'])"
   ]
  },
  {
   "cell_type": "code",
   "execution_count": null,
   "id": "03c8f4ce",
   "metadata": {},
   "outputs": [],
   "source": []
  },
  {
   "cell_type": "markdown",
   "id": "b8ebbfa7",
   "metadata": {},
   "source": [
    ", 'Donations_and_Gifts', 'Entertainment_and_Sports', 'Gas', 'Outings', 'Care_and_Shopping', 'Travel', 'Miscellaneous', 'Services_Fees', 'Auto_Payments','Cash', 'Loans', 'Fees', 'Auto_Fees','Public Transportation', 'Books_and_Supplies', 'Mortgage & Rent','Bills_and_Utilities', 'Health_and_Fitness', 'Groceries', 'Taxes','Home_Improvement', 'Education', 'Health', 'Deposit', 'Taxi','Investments', 'Wedding', 'Life Insurance', 'Reimbursement', 'Pet'"
   ]
  },
  {
   "cell_type": "code",
   "execution_count": 342,
   "id": "8c3859c2",
   "metadata": {},
   "outputs": [
    {
     "data": {
      "text/html": [
       "<div>\n",
       "<style scoped>\n",
       "    .dataframe tbody tr th:only-of-type {\n",
       "        vertical-align: middle;\n",
       "    }\n",
       "\n",
       "    .dataframe tbody tr th {\n",
       "        vertical-align: top;\n",
       "    }\n",
       "\n",
       "    .dataframe thead th {\n",
       "        text-align: right;\n",
       "    }\n",
       "</style>\n",
       "<table border=\"1\" class=\"dataframe\">\n",
       "  <thead>\n",
       "    <tr style=\"text-align: right;\">\n",
       "      <th></th>\n",
       "      <th>description</th>\n",
       "      <th>amount</th>\n",
       "      <th>transaction_type</th>\n",
       "      <th>category</th>\n",
       "      <th>month</th>\n",
       "    </tr>\n",
       "    <tr>\n",
       "      <th>date</th>\n",
       "      <th></th>\n",
       "      <th></th>\n",
       "      <th></th>\n",
       "      <th></th>\n",
       "      <th></th>\n",
       "    </tr>\n",
       "  </thead>\n",
       "  <tbody>\n",
       "    <tr>\n",
       "      <th>2010-07-31</th>\n",
       "      <td>usaa_com_pmt</td>\n",
       "      <td>241.81</td>\n",
       "      <td>credit</td>\n",
       "      <td>Credit Card Payment</td>\n",
       "      <td>Jul 31, 2010</td>\n",
       "    </tr>\n",
       "    <tr>\n",
       "      <th>2010-08-05</th>\n",
       "      <td>calling_card</td>\n",
       "      <td>20.00</td>\n",
       "      <td>debit</td>\n",
       "      <td>Donations_and_Gifts</td>\n",
       "      <td>Aug 05, 2010</td>\n",
       "    </tr>\n",
       "    <tr>\n",
       "      <th>2010-08-05</th>\n",
       "      <td>amazon_music</td>\n",
       "      <td>5.00</td>\n",
       "      <td>debit</td>\n",
       "      <td>Entertainment_and_Sports</td>\n",
       "      <td>Aug 05, 2010</td>\n",
       "    </tr>\n",
       "    <tr>\n",
       "      <th>2010-08-07</th>\n",
       "      <td>marathon</td>\n",
       "      <td>12.01</td>\n",
       "      <td>debit</td>\n",
       "      <td>Gas</td>\n",
       "      <td>Aug 07, 2010</td>\n",
       "    </tr>\n",
       "    <tr>\n",
       "      <th>2010-08-07</th>\n",
       "      <td>pennys_noodle_shop</td>\n",
       "      <td>26.42</td>\n",
       "      <td>debit</td>\n",
       "      <td>Outings</td>\n",
       "      <td>Aug 07, 2010</td>\n",
       "    </tr>\n",
       "  </tbody>\n",
       "</table>\n",
       "</div>"
      ],
      "text/plain": [
       "                   description  amount transaction_type  \\\n",
       "date                                                      \n",
       "2010-07-31        usaa_com_pmt  241.81           credit   \n",
       "2010-08-05        calling_card   20.00            debit   \n",
       "2010-08-05        amazon_music    5.00            debit   \n",
       "2010-08-07            marathon   12.01            debit   \n",
       "2010-08-07  pennys_noodle_shop   26.42            debit   \n",
       "\n",
       "                            category         month  \n",
       "date                                                \n",
       "2010-07-31       Credit Card Payment  Jul 31, 2010  \n",
       "2010-08-05       Donations_and_Gifts  Aug 05, 2010  \n",
       "2010-08-05  Entertainment_and_Sports  Aug 05, 2010  \n",
       "2010-08-07                       Gas  Aug 07, 2010  \n",
       "2010-08-07                   Outings  Aug 07, 2010  "
      ]
     },
     "execution_count": 342,
     "metadata": {},
     "output_type": "execute_result"
    }
   ],
   "source": [
    "transactions.head()"
   ]
  },
  {
   "cell_type": "code",
   "execution_count": null,
   "id": "3198a098",
   "metadata": {},
   "outputs": [],
   "source": []
  },
  {
   "cell_type": "code",
   "execution_count": null,
   "id": "bde28f6a",
   "metadata": {},
   "outputs": [],
   "source": []
  },
  {
   "cell_type": "raw",
   "id": "46da7bce",
   "metadata": {},
   "source": []
  },
  {
   "cell_type": "code",
   "execution_count": null,
   "id": "029f3b04",
   "metadata": {},
   "outputs": [],
   "source": [
    "plt.rcParams[\"figure.figsize\"] = [17, 7]\n",
    "plt.rcParams[\"figure.autolayout\"] = True\n",
    "\n",
    "monthsFmt = mdates.DateFormatter('%B')\n",
    "yearsFmt = mdates.DateFormatter('\\n%Y')"
   ]
  },
  {
   "cell_type": "code",
   "execution_count": 134,
   "id": "1e3bdba3",
   "metadata": {},
   "outputs": [
    {
     "data": {
      "text/plain": [
       "<AxesSubplot:xlabel='amount', ylabel='category'>"
      ]
     },
     "execution_count": 134,
     "metadata": {},
     "output_type": "execute_result"
    },
    {
     "data": {
      "image/png": "[encoded data removed]",
      "text/plain": [
       "<Figure size 1224x1440 with 1 Axes>"
      ]
     },
     "metadata": {},
     "output_type": "display_data"
    }
   ],
   "source": [
    "# Plotting categories and their occurence in the dataset\n",
    "plt.figure(figsize=(17, 20))\n",
    "\n",
    "sns.set_style(\"whitegrid\") \n",
    "sns.barplot(x=transactions., y='category', data=transactions, orient= \"h\")"
   ]
  },
  {
   "cell_type": "code",
   "execution_count": 188,
   "id": "f44c8032",
   "metadata": {
    "scrolled": false
   },
   "outputs": [
    {
     "data": {
      "text/html": [
       "<div>\n",
       "<style scoped>\n",
       "    .dataframe tbody tr th:only-of-type {\n",
       "        vertical-align: middle;\n",
       "    }\n",
       "\n",
       "    .dataframe tbody tr th {\n",
       "        vertical-align: top;\n",
       "    }\n",
       "\n",
       "    .dataframe thead th {\n",
       "        text-align: right;\n",
       "    }\n",
       "</style>\n",
       "<table border=\"1\" class=\"dataframe\">\n",
       "  <thead>\n",
       "    <tr style=\"text-align: right;\">\n",
       "      <th></th>\n",
       "      <th></th>\n",
       "      <th>amount</th>\n",
       "    </tr>\n",
       "    <tr>\n",
       "      <th>month</th>\n",
       "      <th>category</th>\n",
       "      <th></th>\n",
       "    </tr>\n",
       "  </thead>\n",
       "  <tbody>\n",
       "    <tr>\n",
       "      <th rowspan=\"5\" valign=\"top\">1</th>\n",
       "      <th>Auto_Fees</th>\n",
       "      <td>251.92</td>\n",
       "    </tr>\n",
       "    <tr>\n",
       "      <th>Auto_Payments</th>\n",
       "      <td>229.78</td>\n",
       "    </tr>\n",
       "    <tr>\n",
       "      <th>Bills_and_Utilities</th>\n",
       "      <td>1254.66</td>\n",
       "    </tr>\n",
       "    <tr>\n",
       "      <th>Books_and_Supplies</th>\n",
       "      <td>71.73</td>\n",
       "    </tr>\n",
       "    <tr>\n",
       "      <th>Care_and_Shopping</th>\n",
       "      <td>1738.96</td>\n",
       "    </tr>\n",
       "    <tr>\n",
       "      <th>...</th>\n",
       "      <th>...</th>\n",
       "      <td>...</td>\n",
       "    </tr>\n",
       "    <tr>\n",
       "      <th rowspan=\"5\" valign=\"top\">12</th>\n",
       "      <th>Services_Fees</th>\n",
       "      <td>5690.82</td>\n",
       "    </tr>\n",
       "    <tr>\n",
       "      <th>Taxes</th>\n",
       "      <td>1200.00</td>\n",
       "    </tr>\n",
       "    <tr>\n",
       "      <th>Taxi</th>\n",
       "      <td>84.30</td>\n",
       "    </tr>\n",
       "    <tr>\n",
       "      <th>Travel</th>\n",
       "      <td>1064.49</td>\n",
       "    </tr>\n",
       "    <tr>\n",
       "      <th>Wedding</th>\n",
       "      <td>3100.23</td>\n",
       "    </tr>\n",
       "  </tbody>\n",
       "</table>\n",
       "<p>352 rows × 1 columns</p>\n",
       "</div>"
      ],
      "text/plain": [
       "                            amount\n",
       "month category                    \n",
       "1     Auto_Fees             251.92\n",
       "      Auto_Payments         229.78\n",
       "      Bills_and_Utilities  1254.66\n",
       "      Books_and_Supplies     71.73\n",
       "      Care_and_Shopping    1738.96\n",
       "...                            ...\n",
       "12    Services_Fees        5690.82\n",
       "      Taxes                1200.00\n",
       "      Taxi                   84.30\n",
       "      Travel               1064.49\n",
       "      Wedding              3100.23\n",
       "\n",
       "[352 rows x 1 columns]"
      ]
     },
     "execution_count": 188,
     "metadata": {},
     "output_type": "execute_result"
    }
   ],
   "source": [
    "transactions.reset_index(inplace=True)\n",
    "transactions['month'] = transactions.date.dt.month\n",
    "transactions.groupby(['month','category']).agg('sum')"
   ]
  },
  {
   "cell_type": "code",
   "execution_count": 398,
   "id": "7d38493e",
   "metadata": {},
   "outputs": [
    {
     "data": {
      "text/html": [
       "<div>\n",
       "<style scoped>\n",
       "    .dataframe tbody tr th:only-of-type {\n",
       "        vertical-align: middle;\n",
       "    }\n",
       "\n",
       "    .dataframe tbody tr th {\n",
       "        vertical-align: top;\n",
       "    }\n",
       "\n",
       "    .dataframe thead th {\n",
       "        text-align: right;\n",
       "    }\n",
       "</style>\n",
       "<table border=\"1\" class=\"dataframe\">\n",
       "  <thead>\n",
       "    <tr style=\"text-align: right;\">\n",
       "      <th></th>\n",
       "      <th>description</th>\n",
       "      <th>amount</th>\n",
       "      <th>transaction_type</th>\n",
       "      <th>category</th>\n",
       "    </tr>\n",
       "    <tr>\n",
       "      <th>date</th>\n",
       "      <th></th>\n",
       "      <th></th>\n",
       "      <th></th>\n",
       "      <th></th>\n",
       "    </tr>\n",
       "  </thead>\n",
       "  <tbody>\n",
       "    <tr>\n",
       "      <th>2010-07-31</th>\n",
       "      <td>usaa_com_pmt</td>\n",
       "      <td>241.81</td>\n",
       "      <td>credit</td>\n",
       "      <td>Credit Card Payment</td>\n",
       "    </tr>\n",
       "    <tr>\n",
       "      <th>2010-08-05</th>\n",
       "      <td>calling_card</td>\n",
       "      <td>20.00</td>\n",
       "      <td>debit</td>\n",
       "      <td>Donations_and_Gifts</td>\n",
       "    </tr>\n",
       "    <tr>\n",
       "      <th>2010-08-05</th>\n",
       "      <td>amazon_music</td>\n",
       "      <td>5.00</td>\n",
       "      <td>debit</td>\n",
       "      <td>Entertainment_and_Sports</td>\n",
       "    </tr>\n",
       "    <tr>\n",
       "      <th>2010-08-07</th>\n",
       "      <td>marathon</td>\n",
       "      <td>12.01</td>\n",
       "      <td>debit</td>\n",
       "      <td>Gas</td>\n",
       "    </tr>\n",
       "    <tr>\n",
       "      <th>2010-08-07</th>\n",
       "      <td>pennys_noodle_shop</td>\n",
       "      <td>26.42</td>\n",
       "      <td>debit</td>\n",
       "      <td>Outings</td>\n",
       "    </tr>\n",
       "  </tbody>\n",
       "</table>\n",
       "</div>"
      ],
      "text/plain": [
       "                   description  amount transaction_type  \\\n",
       "date                                                      \n",
       "2010-07-31        usaa_com_pmt  241.81           credit   \n",
       "2010-08-05        calling_card   20.00            debit   \n",
       "2010-08-05        amazon_music    5.00            debit   \n",
       "2010-08-07            marathon   12.01            debit   \n",
       "2010-08-07  pennys_noodle_shop   26.42            debit   \n",
       "\n",
       "                            category  \n",
       "date                                  \n",
       "2010-07-31       Credit Card Payment  \n",
       "2010-08-05       Donations_and_Gifts  \n",
       "2010-08-05  Entertainment_and_Sports  \n",
       "2010-08-07                       Gas  \n",
       "2010-08-07                   Outings  "
      ]
     },
     "execution_count": 398,
     "metadata": {},
     "output_type": "execute_result"
    }
   ],
   "source": [
    "expenses.head()"
   ]
  },
  {
   "cell_type": "code",
   "execution_count": 412,
   "id": "13e018a0",
   "metadata": {},
   "outputs": [],
   "source": [
    "expenses['month'] = expenses.index.strftime('%b, %Y')"
   ]
  },
  {
   "cell_type": "code",
   "execution_count": 414,
   "id": "197f89a3",
   "metadata": {},
   "outputs": [
    {
     "data": {
      "text/plain": [
       "<AxesSubplot:title={'center':'Sum of Categories of expenses by month'}, xlabel='month,category'>"
      ]
     },
     "execution_count": 414,
     "metadata": {},
     "output_type": "execute_result"
    },
    {
     "data": {
      "image/png": "[encoded data removed]",
      "text/plain": [
       "<Figure size 1008x504 with 1 Axes>"
      ]
     },
     "metadata": {},
     "output_type": "display_data"
    }
   ],
   "source": [
    "expenses.loc['Jan, 2022':'Mar, 2022'].groupby(['month', 'category'], sort=False).agg('sum').plot(kind='bar',\n",
    "                                                           figsize=(14, 7),\n",
    "                                                           legend=True,\n",
    "                                                           rot=65,\n",
    "                                                           title='Sum of Categories of expenses by month')"
   ]
  },
  {
   "cell_type": "code",
   "execution_count": null,
   "id": "d26f81a3",
   "metadata": {},
   "outputs": [],
   "source": [
    "fig, axs = plt.subplots(2)\n",
    "fig.suptitle('Vertically stacked subplots')\n",
    "axs[0].plot(x, y)\n",
    "axs[1].plot(x, -y)"
   ]
  },
  {
   "cell_type": "code",
   "execution_count": 418,
   "id": "86efadb5",
   "metadata": {},
   "outputs": [
    {
     "data": {
      "text/plain": [
       "array([<AxesSubplot:title={'center':'amount'}, xlabel='month,category'>],\n",
       "      dtype=object)"
      ]
     },
     "execution_count": 418,
     "metadata": {},
     "output_type": "execute_result"
    },
    {
     "data": {
      "image/png": "[encoded data removed]",
      "text/plain": [
       "<Figure size 1008x504 with 1 Axes>"
      ]
     },
     "metadata": {},
     "output_type": "display_data"
    }
   ],
   "source": [
    "expenses.loc['Apr, 2022':'May, 2022'].groupby(['month', 'category'], sort=False).agg('sum').plot(kind='bar',\n",
    "                                                           figsize=(14, 7),\n",
    "                                                           subplots=True,\n",
    "                                                           legend=True,\n",
    "                                                           rot=65,\n",
    "                                                           title='Sum of Categories of expenses by month')"
   ]
  },
  {
   "cell_type": "code",
   "execution_count": 210,
   "id": "26c5319e",
   "metadata": {},
   "outputs": [
    {
     "data": {
      "text/plain": [
       "<AxesSubplot:xlabel='category'>"
      ]
     },
     "execution_count": 210,
     "metadata": {},
     "output_type": "execute_result"
    },
    {
     "data": {
      "image/png": "[encoded data removed]",
      "text/plain": [
       "<Figure size 432x288 with 1 Axes>"
      ]
     },
     "metadata": {},
     "output_type": "display_data"
    }
   ],
   "source": [
    "transactions.groupby(['category']).agg('sum').plot()"
   ]
  },
  {
   "cell_type": "code",
   "execution_count": 192,
   "id": "e671eb2b",
   "metadata": {},
   "outputs": [
    {
     "data": {
      "text/plain": [
       "<AxesSubplot:xlabel='category'>"
      ]
     },
     "execution_count": 192,
     "metadata": {},
     "output_type": "execute_result"
    },
    {
     "data": {
      "image/png": "[encoded data removed]",
      "text/plain": [
       "<Figure size 1008x504 with 1 Axes>"
      ]
     },
     "metadata": {},
     "output_type": "display_data"
    }
   ],
   "source": [
    "b = transactions.groupby(['category']).agg('sum')\n",
    "b.plot(figsize=(14,7))"
   ]
  },
  {
   "cell_type": "code",
   "execution_count": null,
   "id": "26182010",
   "metadata": {},
   "outputs": [],
   "source": []
  },
  {
   "cell_type": "code",
   "execution_count": 189,
   "id": "c76c037b",
   "metadata": {},
   "outputs": [
    {
     "data": {
      "text/html": [
       "<div>\n",
       "<style scoped>\n",
       "    .dataframe tbody tr th:only-of-type {\n",
       "        vertical-align: middle;\n",
       "    }\n",
       "\n",
       "    .dataframe tbody tr th {\n",
       "        vertical-align: top;\n",
       "    }\n",
       "\n",
       "    .dataframe thead th {\n",
       "        text-align: right;\n",
       "    }\n",
       "</style>\n",
       "<table border=\"1\" class=\"dataframe\">\n",
       "  <thead>\n",
       "    <tr style=\"text-align: right;\">\n",
       "      <th></th>\n",
       "      <th></th>\n",
       "      <th>amount</th>\n",
       "      <th>month</th>\n",
       "    </tr>\n",
       "    <tr>\n",
       "      <th>year</th>\n",
       "      <th>category</th>\n",
       "      <th></th>\n",
       "      <th></th>\n",
       "    </tr>\n",
       "  </thead>\n",
       "  <tbody>\n",
       "    <tr>\n",
       "      <th rowspan=\"5\" valign=\"top\">1</th>\n",
       "      <th>Auto_Fees</th>\n",
       "      <td>251.92</td>\n",
       "      <td>20</td>\n",
       "    </tr>\n",
       "    <tr>\n",
       "      <th>Auto_Payments</th>\n",
       "      <td>229.78</td>\n",
       "      <td>6</td>\n",
       "    </tr>\n",
       "    <tr>\n",
       "      <th>Bills_and_Utilities</th>\n",
       "      <td>1254.66</td>\n",
       "      <td>39</td>\n",
       "    </tr>\n",
       "    <tr>\n",
       "      <th>Books_and_Supplies</th>\n",
       "      <td>71.73</td>\n",
       "      <td>7</td>\n",
       "    </tr>\n",
       "    <tr>\n",
       "      <th>Care_and_Shopping</th>\n",
       "      <td>1738.96</td>\n",
       "      <td>49</td>\n",
       "    </tr>\n",
       "    <tr>\n",
       "      <th>...</th>\n",
       "      <th>...</th>\n",
       "      <td>...</td>\n",
       "      <td>...</td>\n",
       "    </tr>\n",
       "    <tr>\n",
       "      <th rowspan=\"5\" valign=\"top\">12</th>\n",
       "      <th>Services_Fees</th>\n",
       "      <td>5690.82</td>\n",
       "      <td>348</td>\n",
       "    </tr>\n",
       "    <tr>\n",
       "      <th>Taxes</th>\n",
       "      <td>1200.00</td>\n",
       "      <td>12</td>\n",
       "    </tr>\n",
       "    <tr>\n",
       "      <th>Taxi</th>\n",
       "      <td>84.30</td>\n",
       "      <td>120</td>\n",
       "    </tr>\n",
       "    <tr>\n",
       "      <th>Travel</th>\n",
       "      <td>1064.49</td>\n",
       "      <td>72</td>\n",
       "    </tr>\n",
       "    <tr>\n",
       "      <th>Wedding</th>\n",
       "      <td>3100.23</td>\n",
       "      <td>252</td>\n",
       "    </tr>\n",
       "  </tbody>\n",
       "</table>\n",
       "<p>352 rows × 2 columns</p>\n",
       "</div>"
      ],
      "text/plain": [
       "                           amount  month\n",
       "year category                           \n",
       "1    Auto_Fees             251.92     20\n",
       "     Auto_Payments         229.78      6\n",
       "     Bills_and_Utilities  1254.66     39\n",
       "     Books_and_Supplies     71.73      7\n",
       "     Care_and_Shopping    1738.96     49\n",
       "...                           ...    ...\n",
       "12   Services_Fees        5690.82    348\n",
       "     Taxes                1200.00     12\n",
       "     Taxi                   84.30    120\n",
       "     Travel               1064.49     72\n",
       "     Wedding              3100.23    252\n",
       "\n",
       "[352 rows x 2 columns]"
      ]
     },
     "execution_count": 189,
     "metadata": {},
     "output_type": "execute_result"
    }
   ],
   "source": [
    "transactions['year'] = transactions.date.dt.month\n",
    "transactions.groupby(['year','category']).agg('sum')"
   ]
  },
  {
   "cell_type": "code",
   "execution_count": 208,
   "id": "2b721617",
   "metadata": {},
   "outputs": [
    {
     "data": {
      "text/plain": [
       "<AxesSubplot:xlabel='category'>"
      ]
     },
     "execution_count": 208,
     "metadata": {},
     "output_type": "execute_result"
    },
    {
     "data": {
      "image/png": "[encoded data removed]",
      "text/plain": [
       "<Figure size 432x288 with 1 Axes>"
      ]
     },
     "metadata": {},
     "output_type": "display_data"
    }
   ],
   "source": [
    "transactions.groupby(['category']).agg('sum').plot()"
   ]
  },
  {
   "cell_type": "code",
   "execution_count": null,
   "id": "70eb400f",
   "metadata": {},
   "outputs": [],
   "source": []
  }
 ],
 "metadata": {
  "kernelspec": {
   "display_name": "Python 3 (ipykernel)",
   "language": "python",
   "name": "python3"
  },
  "language_info": {
   "codemirror_mode": {
    "name": "ipython",
    "version": 3
   },
   "file_extension": ".py",
   "mimetype": "text/x-python",
   "name": "python",
   "nbconvert_exporter": "python",
   "pygments_lexer": "ipython3",
   "version": "3.9.7"
  }
 },
 "nbformat": 4,
 "nbformat_minor": 5
}
