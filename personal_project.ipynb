{
 "cells": [
  {
   "cell_type": "markdown",
   "id": "a96e8221",
   "metadata": {},
   "source": [
    "# Personal Project main notebook"
   ]
  },
  {
   "cell_type": "code",
   "execution_count": 1,
   "id": "3f48e9c1",
   "metadata": {},
   "outputs": [],
   "source": [
    "# Ignoring warning messages from python\n",
    "import warnings\n",
    "warnings.filterwarnings('ignore')\n",
    "\n",
    "# General use imports\n",
    "import pandas as pd\n",
    "import numpy as np\n",
    "\n",
    "# Visualization imports\n",
    "import matplotlib.pyplot as plt\n",
    "import seaborn as sns\n",
    "\n",
    "# Modules and data\n",
    "import requests\n",
    "import acquire\n",
    "import prep\n",
    "from vega_datasets import data\n",
    "from datetime import datetime"
   ]
  },
  {
   "cell_type": "markdown",
   "id": "1143b237",
   "metadata": {},
   "source": [
    "# Acquire"
   ]
  },
  {
   "cell_type": "code",
   "execution_count": 2,
   "id": "5fd9013c",
   "metadata": {},
   "outputs": [
    {
     "data": {
      "text/html": [
       "<div>\n",
       "<style scoped>\n",
       "    .dataframe tbody tr th:only-of-type {\n",
       "        vertical-align: middle;\n",
       "    }\n",
       "\n",
       "    .dataframe tbody tr th {\n",
       "        vertical-align: top;\n",
       "    }\n",
       "\n",
       "    .dataframe thead th {\n",
       "        text-align: right;\n",
       "    }\n",
       "</style>\n",
       "<table border=\"1\" class=\"dataframe\">\n",
       "  <thead>\n",
       "    <tr style=\"text-align: right;\">\n",
       "      <th></th>\n",
       "      <th>Date</th>\n",
       "      <th>Description</th>\n",
       "      <th>Original Description</th>\n",
       "      <th>Amount</th>\n",
       "      <th>Transaction Type</th>\n",
       "      <th>Category</th>\n",
       "      <th>Account Name</th>\n",
       "      <th>Labels</th>\n",
       "      <th>Notes</th>\n",
       "    </tr>\n",
       "  </thead>\n",
       "  <tbody>\n",
       "    <tr>\n",
       "      <th>0</th>\n",
       "      <td>6/29/2022</td>\n",
       "      <td>DEPOSIT@MOBILE</td>\n",
       "      <td>DEPOSIT@MOBILE</td>\n",
       "      <td>206.25</td>\n",
       "      <td>credit</td>\n",
       "      <td>Transfer</td>\n",
       "      <td>Checkarama</td>\n",
       "      <td>NaN</td>\n",
       "      <td>NaN</td>\n",
       "    </tr>\n",
       "    <tr>\n",
       "      <th>1</th>\n",
       "      <td>6/28/2022</td>\n",
       "      <td>MATTHEWS VET SERVICES, P</td>\n",
       "      <td>MATTHEWS VET SERVICES, P</td>\n",
       "      <td>13.20</td>\n",
       "      <td>debit</td>\n",
       "      <td>Veterinary</td>\n",
       "      <td>CREDIT CARD</td>\n",
       "      <td>NaN</td>\n",
       "      <td>NaN</td>\n",
       "    </tr>\n",
       "    <tr>\n",
       "      <th>2</th>\n",
       "      <td>6/28/2022</td>\n",
       "      <td>STARBUCKS STORE 24306</td>\n",
       "      <td>STARBUCKS STORE 24306</td>\n",
       "      <td>5.57</td>\n",
       "      <td>debit</td>\n",
       "      <td>Coffee Shops</td>\n",
       "      <td>CREDIT CARD</td>\n",
       "      <td>NaN</td>\n",
       "      <td>NaN</td>\n",
       "    </tr>\n",
       "    <tr>\n",
       "      <th>3</th>\n",
       "      <td>6/28/2022</td>\n",
       "      <td>PAYPAL *HULU</td>\n",
       "      <td>PAYPAL *HULU</td>\n",
       "      <td>14.16</td>\n",
       "      <td>debit</td>\n",
       "      <td>Television</td>\n",
       "      <td>CREDIT CARD</td>\n",
       "      <td>NaN</td>\n",
       "      <td>NaN</td>\n",
       "    </tr>\n",
       "    <tr>\n",
       "      <th>4</th>\n",
       "      <td>6/28/2022</td>\n",
       "      <td>H-E-B #618</td>\n",
       "      <td>H-E-B #618</td>\n",
       "      <td>20.56</td>\n",
       "      <td>debit</td>\n",
       "      <td>Groceries</td>\n",
       "      <td>CREDIT CARD</td>\n",
       "      <td>NaN</td>\n",
       "      <td>NaN</td>\n",
       "    </tr>\n",
       "  </tbody>\n",
       "</table>\n",
       "</div>"
      ],
      "text/plain": [
       "        Date               Description      Original Description  Amount  \\\n",
       "0  6/29/2022            DEPOSIT@MOBILE            DEPOSIT@MOBILE  206.25   \n",
       "1  6/28/2022  MATTHEWS VET SERVICES, P  MATTHEWS VET SERVICES, P   13.20   \n",
       "2  6/28/2022     STARBUCKS STORE 24306     STARBUCKS STORE 24306    5.57   \n",
       "3  6/28/2022              PAYPAL *HULU              PAYPAL *HULU   14.16   \n",
       "4  6/28/2022                H-E-B #618                H-E-B #618   20.56   \n",
       "\n",
       "  Transaction Type      Category Account Name Labels Notes  \n",
       "0           credit      Transfer   Checkarama    NaN   NaN  \n",
       "1            debit    Veterinary  CREDIT CARD    NaN   NaN  \n",
       "2            debit  Coffee Shops  CREDIT CARD    NaN   NaN  \n",
       "3            debit    Television  CREDIT CARD    NaN   NaN  \n",
       "4            debit     Groceries  CREDIT CARD    NaN   NaN  "
      ]
     },
     "execution_count": 2,
     "metadata": {},
     "output_type": "execute_result"
    }
   ],
   "source": [
    "# Acquiring the data from the csv file and displaying first 5 rows\n",
    "\n",
    "transactions = acquire.get_local_transactions()\n",
    "transactions.head()"
   ]
  },
  {
   "cell_type": "markdown",
   "id": "4985b67f",
   "metadata": {},
   "source": [
    "# CLEAN & PREPARE"
   ]
  },
  {
   "cell_type": "markdown",
   "id": "8a2dadd2",
   "metadata": {},
   "source": [
    ">## High level exploration before Cleaning and preparation"
   ]
  },
  {
   "cell_type": "code",
   "execution_count": 3,
   "id": "bfd8b157",
   "metadata": {},
   "outputs": [
    {
     "data": {
      "text/plain": [
       "(7872, 9)"
      ]
     },
     "execution_count": 3,
     "metadata": {},
     "output_type": "execute_result"
    }
   ],
   "source": [
    "# Checking the number of rows and columns\n",
    "\n",
    "transactions.shape"
   ]
  },
  {
   "cell_type": "code",
   "execution_count": 4,
   "id": "c6285f5e",
   "metadata": {
    "scrolled": false
   },
   "outputs": [
    {
     "data": {
      "text/html": [
       "<div>\n",
       "<style scoped>\n",
       "    .dataframe tbody tr th:only-of-type {\n",
       "        vertical-align: middle;\n",
       "    }\n",
       "\n",
       "    .dataframe tbody tr th {\n",
       "        vertical-align: top;\n",
       "    }\n",
       "\n",
       "    .dataframe thead th {\n",
       "        text-align: right;\n",
       "    }\n",
       "</style>\n",
       "<table border=\"1\" class=\"dataframe\">\n",
       "  <thead>\n",
       "    <tr style=\"text-align: right;\">\n",
       "      <th></th>\n",
       "      <th>Description</th>\n",
       "      <th>Original Description</th>\n",
       "    </tr>\n",
       "  </thead>\n",
       "  <tbody>\n",
       "    <tr>\n",
       "      <th>0</th>\n",
       "      <td>DEPOSIT@MOBILE</td>\n",
       "      <td>DEPOSIT@MOBILE</td>\n",
       "    </tr>\n",
       "    <tr>\n",
       "      <th>1</th>\n",
       "      <td>MATTHEWS VET SERVICES, P</td>\n",
       "      <td>MATTHEWS VET SERVICES, P</td>\n",
       "    </tr>\n",
       "    <tr>\n",
       "      <th>2</th>\n",
       "      <td>STARBUCKS STORE 24306</td>\n",
       "      <td>STARBUCKS STORE 24306</td>\n",
       "    </tr>\n",
       "    <tr>\n",
       "      <th>3</th>\n",
       "      <td>PAYPAL *HULU</td>\n",
       "      <td>PAYPAL *HULU</td>\n",
       "    </tr>\n",
       "    <tr>\n",
       "      <th>4</th>\n",
       "      <td>H-E-B #618</td>\n",
       "      <td>H-E-B #618</td>\n",
       "    </tr>\n",
       "    <tr>\n",
       "      <th>...</th>\n",
       "      <td>...</td>\n",
       "      <td>...</td>\n",
       "    </tr>\n",
       "    <tr>\n",
       "      <th>7867</th>\n",
       "      <td>Ultra Foods Qps</td>\n",
       "      <td>ULTRA FOODS #8761  QPS   LOMBARD</td>\n",
       "    </tr>\n",
       "    <tr>\n",
       "      <th>7868</th>\n",
       "      <td>Pennys Noodle Shop</td>\n",
       "      <td>PENNY'S NOODLE SHOPQPS   CHICAGO</td>\n",
       "    </tr>\n",
       "    <tr>\n",
       "      <th>7869</th>\n",
       "      <td>Amazon Music</td>\n",
       "      <td>MUSIC DWNLDS             866-216</td>\n",
       "    </tr>\n",
       "    <tr>\n",
       "      <th>7870</th>\n",
       "      <td>Calling Card</td>\n",
       "      <td>CALLINGCARDS/CONFERENC   (866)29</td>\n",
       "    </tr>\n",
       "    <tr>\n",
       "      <th>7871</th>\n",
       "      <td>Usaa Com Pmt</td>\n",
       "      <td>USAA.COM PMT-THANKS      SAN ANT</td>\n",
       "    </tr>\n",
       "  </tbody>\n",
       "</table>\n",
       "<p>7872 rows × 2 columns</p>\n",
       "</div>"
      ],
      "text/plain": [
       "                   Description              Original Description\n",
       "0               DEPOSIT@MOBILE                    DEPOSIT@MOBILE\n",
       "1     MATTHEWS VET SERVICES, P          MATTHEWS VET SERVICES, P\n",
       "2        STARBUCKS STORE 24306             STARBUCKS STORE 24306\n",
       "3                 PAYPAL *HULU                      PAYPAL *HULU\n",
       "4                   H-E-B #618                        H-E-B #618\n",
       "...                        ...                               ...\n",
       "7867           Ultra Foods Qps  ULTRA FOODS #8761  QPS   LOMBARD\n",
       "7868        Pennys Noodle Shop  PENNY'S NOODLE SHOPQPS   CHICAGO\n",
       "7869              Amazon Music  MUSIC DWNLDS             866-216\n",
       "7870              Calling Card  CALLINGCARDS/CONFERENC   (866)29\n",
       "7871              Usaa Com Pmt  USAA.COM PMT-THANKS      SAN ANT\n",
       "\n",
       "[7872 rows x 2 columns]"
      ]
     },
     "execution_count": 4,
     "metadata": {},
     "output_type": "execute_result"
    }
   ],
   "source": [
    "# Comparing the Description and the Original Description columns to see which is worth dropping\n",
    "\n",
    "transactions[['Description', 'Original Description']]"
   ]
  },
  {
   "cell_type": "code",
   "execution_count": 5,
   "id": "a5616fab",
   "metadata": {},
   "outputs": [
    {
     "data": {
      "text/plain": [
       "Date                       0\n",
       "Description                0\n",
       "Original Description       0\n",
       "Amount                     0\n",
       "Transaction Type           0\n",
       "Category                   3\n",
       "Account Name               0\n",
       "Labels                  7870\n",
       "Notes                   7862\n",
       "dtype: int64"
      ]
     },
     "execution_count": 5,
     "metadata": {},
     "output_type": "execute_result"
    }
   ],
   "source": [
    "# Checking the df nulls\n",
    "\n",
    "transactions.isnull().sum()"
   ]
  },
  {
   "cell_type": "code",
   "execution_count": 6,
   "id": "247f3857",
   "metadata": {},
   "outputs": [
    {
     "data": {
      "text/html": [
       "<div>\n",
       "<style scoped>\n",
       "    .dataframe tbody tr th:only-of-type {\n",
       "        vertical-align: middle;\n",
       "    }\n",
       "\n",
       "    .dataframe tbody tr th {\n",
       "        vertical-align: top;\n",
       "    }\n",
       "\n",
       "    .dataframe thead th {\n",
       "        text-align: right;\n",
       "    }\n",
       "</style>\n",
       "<table border=\"1\" class=\"dataframe\">\n",
       "  <thead>\n",
       "    <tr style=\"text-align: right;\">\n",
       "      <th></th>\n",
       "      <th>Date</th>\n",
       "      <th>Description</th>\n",
       "      <th>Original Description</th>\n",
       "      <th>Amount</th>\n",
       "      <th>Transaction Type</th>\n",
       "      <th>Category</th>\n",
       "      <th>Account Name</th>\n",
       "      <th>Labels</th>\n",
       "      <th>Notes</th>\n",
       "    </tr>\n",
       "  </thead>\n",
       "  <tbody>\n",
       "    <tr>\n",
       "      <th>5996</th>\n",
       "      <td>3/02/2015</td>\n",
       "      <td>Payment</td>\n",
       "      <td>Payment</td>\n",
       "      <td>10.0</td>\n",
       "      <td>credit</td>\n",
       "      <td>NaN</td>\n",
       "      <td>Stafford Loans U.S. DEPARTMENT OF EDUCATION</td>\n",
       "      <td>NaN</td>\n",
       "      <td>NaN</td>\n",
       "    </tr>\n",
       "    <tr>\n",
       "      <th>5997</th>\n",
       "      <td>3/02/2015</td>\n",
       "      <td>Pending</td>\n",
       "      <td>Pending</td>\n",
       "      <td>10.0</td>\n",
       "      <td>credit</td>\n",
       "      <td>NaN</td>\n",
       "      <td>Stafford Loans U.S. DEPARTMENT OF EDUCATION</td>\n",
       "      <td>NaN</td>\n",
       "      <td>NaN</td>\n",
       "    </tr>\n",
       "    <tr>\n",
       "      <th>5998</th>\n",
       "      <td>2/28/2015</td>\n",
       "      <td>Payment</td>\n",
       "      <td>Payment</td>\n",
       "      <td>40.0</td>\n",
       "      <td>credit</td>\n",
       "      <td>NaN</td>\n",
       "      <td>Stafford Loans U.S. DEPARTMENT OF EDUCATION</td>\n",
       "      <td>NaN</td>\n",
       "      <td>NaN</td>\n",
       "    </tr>\n",
       "  </tbody>\n",
       "</table>\n",
       "</div>"
      ],
      "text/plain": [
       "           Date Description Original Description  Amount Transaction Type  \\\n",
       "5996  3/02/2015     Payment              Payment    10.0           credit   \n",
       "5997  3/02/2015     Pending              Pending    10.0           credit   \n",
       "5998  2/28/2015     Payment              Payment    40.0           credit   \n",
       "\n",
       "     Category                                 Account Name Labels Notes  \n",
       "5996      NaN  Stafford Loans U.S. DEPARTMENT OF EDUCATION    NaN   NaN  \n",
       "5997      NaN  Stafford Loans U.S. DEPARTMENT OF EDUCATION    NaN   NaN  \n",
       "5998      NaN  Stafford Loans U.S. DEPARTMENT OF EDUCATION    NaN   NaN  "
      ]
     },
     "execution_count": 6,
     "metadata": {},
     "output_type": "execute_result"
    }
   ],
   "source": [
    "# Checking the specific crows of the Category column\n",
    "\n",
    "transactions[transactions['Category'].isnull()]"
   ]
  },
  {
   "cell_type": "markdown",
   "id": "82c8337a",
   "metadata": {},
   "source": [
    ">## Takeaways\n",
    "    - The df contains duplicates\n",
    "    - The df has nulls in great number in labels and Notes columns\n",
    "    - The df has much fewer nulls in the Category column\n",
    "    - The Description and the Original Description are duplicates\n",
    "    - These columns contain special characters\n",
    "    - There is a date column\n",
    ">## Actions\n",
    "    - Remove duplicates\n",
    "    - Drop Labels, Notes, and Original Description\n",
    "    - Remove special characters from Description\n",
    "    - Rename columns for readability\n",
    "    - Make Account Name and Description's content into lower case\n",
    "    - Set Date as INDEX"
   ]
  },
  {
   "cell_type": "markdown",
   "id": "5f580b9f",
   "metadata": {},
   "source": [
    ">## Cleaning"
   ]
  },
  {
   "cell_type": "code",
   "execution_count": 7,
   "id": "e6ca0599",
   "metadata": {
    "scrolled": true
   },
   "outputs": [
    {
     "name": "stdout",
     "output_type": "stream",
     "text": [
      "['Date', 'Description', 'Original Description', 'Amount', 'Transaction Type', 'Category', 'Account Name', 'Labels', 'Notes']\n"
     ]
    }
   ],
   "source": [
    "# Printing the column names into a list without a line break\n",
    "\n",
    "a = transactions.columns.tolist()\n",
    "print(a,)"
   ]
  },
  {
   "cell_type": "code",
   "execution_count": 8,
   "id": "6d1a8e24",
   "metadata": {},
   "outputs": [],
   "source": [
    "# Assigning the list of columns to a variable\n",
    "\n",
    "columns = ['Date', 'Description', 'Original Description', 'Amount', 'Transaction Type', 'Category', 'Account Name', 'Labels', 'Notes']"
   ]
  },
  {
   "cell_type": "code",
   "execution_count": 9,
   "id": "14f6b5f1",
   "metadata": {},
   "outputs": [
    {
     "data": {
      "text/html": [
       "<div>\n",
       "<style scoped>\n",
       "    .dataframe tbody tr th:only-of-type {\n",
       "        vertical-align: middle;\n",
       "    }\n",
       "\n",
       "    .dataframe tbody tr th {\n",
       "        vertical-align: top;\n",
       "    }\n",
       "\n",
       "    .dataframe thead th {\n",
       "        text-align: right;\n",
       "    }\n",
       "</style>\n",
       "<table border=\"1\" class=\"dataframe\">\n",
       "  <thead>\n",
       "    <tr style=\"text-align: right;\">\n",
       "      <th></th>\n",
       "      <th>num_rows_missing</th>\n",
       "      <th>pct_rows_missing</th>\n",
       "    </tr>\n",
       "  </thead>\n",
       "  <tbody>\n",
       "    <tr>\n",
       "      <th>Date</th>\n",
       "      <td>0</td>\n",
       "      <td>0.000000</td>\n",
       "    </tr>\n",
       "    <tr>\n",
       "      <th>Description</th>\n",
       "      <td>0</td>\n",
       "      <td>0.000000</td>\n",
       "    </tr>\n",
       "    <tr>\n",
       "      <th>Original Description</th>\n",
       "      <td>0</td>\n",
       "      <td>0.000000</td>\n",
       "    </tr>\n",
       "    <tr>\n",
       "      <th>Amount</th>\n",
       "      <td>0</td>\n",
       "      <td>0.000000</td>\n",
       "    </tr>\n",
       "    <tr>\n",
       "      <th>Transaction Type</th>\n",
       "      <td>0</td>\n",
       "      <td>0.000000</td>\n",
       "    </tr>\n",
       "    <tr>\n",
       "      <th>Category</th>\n",
       "      <td>3</td>\n",
       "      <td>0.038110</td>\n",
       "    </tr>\n",
       "    <tr>\n",
       "      <th>Account Name</th>\n",
       "      <td>0</td>\n",
       "      <td>0.000000</td>\n",
       "    </tr>\n",
       "    <tr>\n",
       "      <th>Labels</th>\n",
       "      <td>7870</td>\n",
       "      <td>99.974593</td>\n",
       "    </tr>\n",
       "    <tr>\n",
       "      <th>Notes</th>\n",
       "      <td>7862</td>\n",
       "      <td>99.872967</td>\n",
       "    </tr>\n",
       "  </tbody>\n",
       "</table>\n",
       "</div>"
      ],
      "text/plain": [
       "                      num_rows_missing  pct_rows_missing\n",
       "Date                                 0          0.000000\n",
       "Description                          0          0.000000\n",
       "Original Description                 0          0.000000\n",
       "Amount                               0          0.000000\n",
       "Transaction Type                     0          0.000000\n",
       "Category                             3          0.038110\n",
       "Account Name                         0          0.000000\n",
       "Labels                            7870         99.974593\n",
       "Notes                             7862         99.872967"
      ]
     },
     "execution_count": 9,
     "metadata": {},
     "output_type": "execute_result"
    }
   ],
   "source": [
    "# Displaying duplicate rows in count and percent\n",
    "\n",
    "prep.multi_frequency(transactions, columns)"
   ]
  },
  {
   "cell_type": "code",
   "execution_count": 10,
   "id": "f9305522",
   "metadata": {},
   "outputs": [],
   "source": [
    "# Dropping dupicates and keeping the entries detected and reassigning the df to a new variable\n",
    "\n",
    "transactions1 = transactions.drop_duplicates()"
   ]
  },
  {
   "cell_type": "code",
   "execution_count": 11,
   "id": "d483097f",
   "metadata": {},
   "outputs": [
    {
     "data": {
      "text/plain": [
       "(7797, 9)"
      ]
     },
     "execution_count": 11,
     "metadata": {},
     "output_type": "execute_result"
    }
   ],
   "source": [
    "transactions1.shape"
   ]
  },
  {
   "cell_type": "code",
   "execution_count": 12,
   "id": "a4099400",
   "metadata": {},
   "outputs": [],
   "source": [
    "# Dropping columns that are not useful\n",
    "\n",
    "transactions2 = transactions1.drop(['Labels', 'Notes', 'Original Description'], axis = 1)"
   ]
  },
  {
   "cell_type": "code",
   "execution_count": 13,
   "id": "ac664a8c",
   "metadata": {},
   "outputs": [
    {
     "data": {
      "text/html": [
       "<div>\n",
       "<style scoped>\n",
       "    .dataframe tbody tr th:only-of-type {\n",
       "        vertical-align: middle;\n",
       "    }\n",
       "\n",
       "    .dataframe tbody tr th {\n",
       "        vertical-align: top;\n",
       "    }\n",
       "\n",
       "    .dataframe thead th {\n",
       "        text-align: right;\n",
       "    }\n",
       "</style>\n",
       "<table border=\"1\" class=\"dataframe\">\n",
       "  <thead>\n",
       "    <tr style=\"text-align: right;\">\n",
       "      <th></th>\n",
       "      <th>Date</th>\n",
       "      <th>Description</th>\n",
       "      <th>Amount</th>\n",
       "      <th>Transaction Type</th>\n",
       "      <th>Category</th>\n",
       "      <th>Account Name</th>\n",
       "    </tr>\n",
       "  </thead>\n",
       "  <tbody>\n",
       "    <tr>\n",
       "      <th>0</th>\n",
       "      <td>6/29/2022</td>\n",
       "      <td>DEPOSIT@MOBILE</td>\n",
       "      <td>206.25</td>\n",
       "      <td>credit</td>\n",
       "      <td>Transfer</td>\n",
       "      <td>Checkarama</td>\n",
       "    </tr>\n",
       "    <tr>\n",
       "      <th>1</th>\n",
       "      <td>6/28/2022</td>\n",
       "      <td>MATTHEWS VET SERVICES, P</td>\n",
       "      <td>13.20</td>\n",
       "      <td>debit</td>\n",
       "      <td>Veterinary</td>\n",
       "      <td>CREDIT CARD</td>\n",
       "    </tr>\n",
       "    <tr>\n",
       "      <th>2</th>\n",
       "      <td>6/28/2022</td>\n",
       "      <td>STARBUCKS STORE 24306</td>\n",
       "      <td>5.57</td>\n",
       "      <td>debit</td>\n",
       "      <td>Coffee Shops</td>\n",
       "      <td>CREDIT CARD</td>\n",
       "    </tr>\n",
       "    <tr>\n",
       "      <th>3</th>\n",
       "      <td>6/28/2022</td>\n",
       "      <td>PAYPAL *HULU</td>\n",
       "      <td>14.16</td>\n",
       "      <td>debit</td>\n",
       "      <td>Television</td>\n",
       "      <td>CREDIT CARD</td>\n",
       "    </tr>\n",
       "    <tr>\n",
       "      <th>4</th>\n",
       "      <td>6/28/2022</td>\n",
       "      <td>H-E-B #618</td>\n",
       "      <td>20.56</td>\n",
       "      <td>debit</td>\n",
       "      <td>Groceries</td>\n",
       "      <td>CREDIT CARD</td>\n",
       "    </tr>\n",
       "  </tbody>\n",
       "</table>\n",
       "</div>"
      ],
      "text/plain": [
       "        Date               Description  Amount Transaction Type      Category  \\\n",
       "0  6/29/2022            DEPOSIT@MOBILE  206.25           credit      Transfer   \n",
       "1  6/28/2022  MATTHEWS VET SERVICES, P   13.20            debit    Veterinary   \n",
       "2  6/28/2022     STARBUCKS STORE 24306    5.57            debit  Coffee Shops   \n",
       "3  6/28/2022              PAYPAL *HULU   14.16            debit    Television   \n",
       "4  6/28/2022                H-E-B #618   20.56            debit     Groceries   \n",
       "\n",
       "  Account Name  \n",
       "0   Checkarama  \n",
       "1  CREDIT CARD  \n",
       "2  CREDIT CARD  \n",
       "3  CREDIT CARD  \n",
       "4  CREDIT CARD  "
      ]
     },
     "execution_count": 13,
     "metadata": {},
     "output_type": "execute_result"
    }
   ],
   "source": [
    "transactions2.head()"
   ]
  },
  {
   "cell_type": "code",
   "execution_count": 14,
   "id": "a5d1fbb3",
   "metadata": {},
   "outputs": [
    {
     "data": {
      "text/html": [
       "<div>\n",
       "<style scoped>\n",
       "    .dataframe tbody tr th:only-of-type {\n",
       "        vertical-align: middle;\n",
       "    }\n",
       "\n",
       "    .dataframe tbody tr th {\n",
       "        vertical-align: top;\n",
       "    }\n",
       "\n",
       "    .dataframe thead th {\n",
       "        text-align: right;\n",
       "    }\n",
       "</style>\n",
       "<table border=\"1\" class=\"dataframe\">\n",
       "  <thead>\n",
       "    <tr style=\"text-align: right;\">\n",
       "      <th></th>\n",
       "      <th>Date</th>\n",
       "      <th>Description</th>\n",
       "      <th>Amount</th>\n",
       "      <th>Transaction Type</th>\n",
       "      <th>Category</th>\n",
       "      <th>Account Name</th>\n",
       "    </tr>\n",
       "  </thead>\n",
       "  <tbody>\n",
       "    <tr>\n",
       "      <th>5996</th>\n",
       "      <td>3/02/2015</td>\n",
       "      <td>Payment</td>\n",
       "      <td>10.0</td>\n",
       "      <td>credit</td>\n",
       "      <td>NaN</td>\n",
       "      <td>Stafford Loans U.S. DEPARTMENT OF EDUCATION</td>\n",
       "    </tr>\n",
       "    <tr>\n",
       "      <th>5997</th>\n",
       "      <td>3/02/2015</td>\n",
       "      <td>Pending</td>\n",
       "      <td>10.0</td>\n",
       "      <td>credit</td>\n",
       "      <td>NaN</td>\n",
       "      <td>Stafford Loans U.S. DEPARTMENT OF EDUCATION</td>\n",
       "    </tr>\n",
       "    <tr>\n",
       "      <th>5998</th>\n",
       "      <td>2/28/2015</td>\n",
       "      <td>Payment</td>\n",
       "      <td>40.0</td>\n",
       "      <td>credit</td>\n",
       "      <td>NaN</td>\n",
       "      <td>Stafford Loans U.S. DEPARTMENT OF EDUCATION</td>\n",
       "    </tr>\n",
       "  </tbody>\n",
       "</table>\n",
       "</div>"
      ],
      "text/plain": [
       "           Date Description  Amount Transaction Type Category  \\\n",
       "5996  3/02/2015     Payment    10.0           credit      NaN   \n",
       "5997  3/02/2015     Pending    10.0           credit      NaN   \n",
       "5998  2/28/2015     Payment    40.0           credit      NaN   \n",
       "\n",
       "                                     Account Name  \n",
       "5996  Stafford Loans U.S. DEPARTMENT OF EDUCATION  \n",
       "5997  Stafford Loans U.S. DEPARTMENT OF EDUCATION  \n",
       "5998  Stafford Loans U.S. DEPARTMENT OF EDUCATION  "
      ]
     },
     "execution_count": 14,
     "metadata": {},
     "output_type": "execute_result"
    }
   ],
   "source": [
    "# Checking the nulls in the Category column\n",
    "\n",
    "transactions2[transactions2['Category'].isnull()]"
   ]
  },
  {
   "cell_type": "code",
   "execution_count": 15,
   "id": "050bbf17",
   "metadata": {},
   "outputs": [],
   "source": [
    "# Filling out the nulls with the category Education\n",
    "\n",
    "transactions3 = prep.handle_missing_values(transactions2)"
   ]
  },
  {
   "cell_type": "code",
   "execution_count": 17,
   "id": "c1ff3bd8",
   "metadata": {},
   "outputs": [
    {
     "name": "stdout",
     "output_type": "stream",
     "text": [
      "['Date', 'Description', 'Amount', 'Transaction Type', 'Category', 'Account Name']\n"
     ]
    }
   ],
   "source": [
    "a = transactions3.columns.tolist()\n",
    "print(a,)"
   ]
  },
  {
   "cell_type": "code",
   "execution_count": 20,
   "id": "b5157c65",
   "metadata": {},
   "outputs": [],
   "source": [
    "# Assigning columns to a variable\n",
    "\n",
    "columns3 = ['Date', 'Description', 'Amount', 'Transaction Type', 'Category', 'Account Name']"
   ]
  },
  {
   "cell_type": "code",
   "execution_count": 21,
   "id": "827cc372",
   "metadata": {},
   "outputs": [
    {
     "data": {
      "text/html": [
       "<div>\n",
       "<style scoped>\n",
       "    .dataframe tbody tr th:only-of-type {\n",
       "        vertical-align: middle;\n",
       "    }\n",
       "\n",
       "    .dataframe tbody tr th {\n",
       "        vertical-align: top;\n",
       "    }\n",
       "\n",
       "    .dataframe thead th {\n",
       "        text-align: right;\n",
       "    }\n",
       "</style>\n",
       "<table border=\"1\" class=\"dataframe\">\n",
       "  <thead>\n",
       "    <tr style=\"text-align: right;\">\n",
       "      <th></th>\n",
       "      <th>num_rows_missing</th>\n",
       "      <th>pct_rows_missing</th>\n",
       "    </tr>\n",
       "  </thead>\n",
       "  <tbody>\n",
       "    <tr>\n",
       "      <th>Date</th>\n",
       "      <td>0</td>\n",
       "      <td>0.0</td>\n",
       "    </tr>\n",
       "    <tr>\n",
       "      <th>Description</th>\n",
       "      <td>0</td>\n",
       "      <td>0.0</td>\n",
       "    </tr>\n",
       "    <tr>\n",
       "      <th>Amount</th>\n",
       "      <td>0</td>\n",
       "      <td>0.0</td>\n",
       "    </tr>\n",
       "    <tr>\n",
       "      <th>Transaction Type</th>\n",
       "      <td>0</td>\n",
       "      <td>0.0</td>\n",
       "    </tr>\n",
       "    <tr>\n",
       "      <th>Category</th>\n",
       "      <td>0</td>\n",
       "      <td>0.0</td>\n",
       "    </tr>\n",
       "    <tr>\n",
       "      <th>Account Name</th>\n",
       "      <td>0</td>\n",
       "      <td>0.0</td>\n",
       "    </tr>\n",
       "  </tbody>\n",
       "</table>\n",
       "</div>"
      ],
      "text/plain": [
       "                  num_rows_missing  pct_rows_missing\n",
       "Date                             0               0.0\n",
       "Description                      0               0.0\n",
       "Amount                           0               0.0\n",
       "Transaction Type                 0               0.0\n",
       "Category                         0               0.0\n",
       "Account Name                     0               0.0"
      ]
     },
     "execution_count": 21,
     "metadata": {},
     "output_type": "execute_result"
    }
   ],
   "source": [
    "# Checking nulls\n",
    "\n",
    "prep.multi_frequency(transactions3, columns3)"
   ]
  },
  {
   "cell_type": "code",
   "execution_count": null,
   "id": "f5b79041",
   "metadata": {},
   "outputs": [],
   "source": []
  }
 ],
 "metadata": {
  "kernelspec": {
   "display_name": "Python 3 (ipykernel)",
   "language": "python",
   "name": "python3"
  },
  "language_info": {
   "codemirror_mode": {
    "name": "ipython",
    "version": 3
   },
   "file_extension": ".py",
   "mimetype": "text/x-python",
   "name": "python",
   "nbconvert_exporter": "python",
   "pygments_lexer": "ipython3",
   "version": "3.9.7"
  }
 },
 "nbformat": 4,
 "nbformat_minor": 5
}
