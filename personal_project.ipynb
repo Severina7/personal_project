{
 "cells": [
  {
   "cell_type": "markdown",
   "id": "32da6d2a",
   "metadata": {},
   "source": [
    "# Personal Project main notebook"
   ]
  },
  {
   "cell_type": "code",
   "execution_count": 165,
   "id": "4f18b4e2",
   "metadata": {},
   "outputs": [],
   "source": [
    "# Ignoring warning messages from python\n",
    "import warnings\n",
    "warnings.filterwarnings('ignore')\n",
    "\n",
    "# General use imports\n",
    "import pandas as pd\n",
    "import numpy as np\n",
    "\n",
    "# Visualization imports\n",
    "import matplotlib.pyplot as plt\n",
    "import seaborn as sns\n",
    "import plotly.express as px\n",
    "\n",
    "# Modules and data\n",
    "import requests\n",
    "import acquire\n",
    "import prep\n",
    "from vega_datasets import data\n",
    "from datetime import datetime"
   ]
  },
  {
   "cell_type": "markdown",
   "id": "55976997",
   "metadata": {},
   "source": [
    "# I. Acquire"
   ]
  },
  {
   "cell_type": "code",
   "execution_count": 2,
   "id": "3596ff90",
   "metadata": {},
   "outputs": [
    {
     "data": {
      "text/html": [
       "<div>\n",
       "<style scoped>\n",
       "    .dataframe tbody tr th:only-of-type {\n",
       "        vertical-align: middle;\n",
       "    }\n",
       "\n",
       "    .dataframe tbody tr th {\n",
       "        vertical-align: top;\n",
       "    }\n",
       "\n",
       "    .dataframe thead th {\n",
       "        text-align: right;\n",
       "    }\n",
       "</style>\n",
       "<table border=\"1\" class=\"dataframe\">\n",
       "  <thead>\n",
       "    <tr style=\"text-align: right;\">\n",
       "      <th></th>\n",
       "      <th>Date</th>\n",
       "      <th>Description</th>\n",
       "      <th>Original Description</th>\n",
       "      <th>Amount</th>\n",
       "      <th>Transaction Type</th>\n",
       "      <th>Category</th>\n",
       "      <th>Account Name</th>\n",
       "      <th>Labels</th>\n",
       "      <th>Notes</th>\n",
       "    </tr>\n",
       "  </thead>\n",
       "  <tbody>\n",
       "    <tr>\n",
       "      <th>0</th>\n",
       "      <td>6/29/2022</td>\n",
       "      <td>DEPOSIT@MOBILE</td>\n",
       "      <td>DEPOSIT@MOBILE</td>\n",
       "      <td>206.25</td>\n",
       "      <td>credit</td>\n",
       "      <td>Transfer</td>\n",
       "      <td>Checkarama</td>\n",
       "      <td>NaN</td>\n",
       "      <td>NaN</td>\n",
       "    </tr>\n",
       "    <tr>\n",
       "      <th>1</th>\n",
       "      <td>6/28/2022</td>\n",
       "      <td>MATTHEWS VET SERVICES, P</td>\n",
       "      <td>MATTHEWS VET SERVICES, P</td>\n",
       "      <td>13.20</td>\n",
       "      <td>debit</td>\n",
       "      <td>Veterinary</td>\n",
       "      <td>CREDIT CARD</td>\n",
       "      <td>NaN</td>\n",
       "      <td>NaN</td>\n",
       "    </tr>\n",
       "    <tr>\n",
       "      <th>2</th>\n",
       "      <td>6/28/2022</td>\n",
       "      <td>STARBUCKS STORE 24306</td>\n",
       "      <td>STARBUCKS STORE 24306</td>\n",
       "      <td>5.57</td>\n",
       "      <td>debit</td>\n",
       "      <td>Coffee Shops</td>\n",
       "      <td>CREDIT CARD</td>\n",
       "      <td>NaN</td>\n",
       "      <td>NaN</td>\n",
       "    </tr>\n",
       "    <tr>\n",
       "      <th>3</th>\n",
       "      <td>6/28/2022</td>\n",
       "      <td>PAYPAL *HULU</td>\n",
       "      <td>PAYPAL *HULU</td>\n",
       "      <td>14.16</td>\n",
       "      <td>debit</td>\n",
       "      <td>Television</td>\n",
       "      <td>CREDIT CARD</td>\n",
       "      <td>NaN</td>\n",
       "      <td>NaN</td>\n",
       "    </tr>\n",
       "    <tr>\n",
       "      <th>4</th>\n",
       "      <td>6/28/2022</td>\n",
       "      <td>H-E-B #618</td>\n",
       "      <td>H-E-B #618</td>\n",
       "      <td>20.56</td>\n",
       "      <td>debit</td>\n",
       "      <td>Groceries</td>\n",
       "      <td>CREDIT CARD</td>\n",
       "      <td>NaN</td>\n",
       "      <td>NaN</td>\n",
       "    </tr>\n",
       "  </tbody>\n",
       "</table>\n",
       "</div>"
      ],
      "text/plain": [
       "        Date               Description      Original Description  Amount  \\\n",
       "0  6/29/2022            DEPOSIT@MOBILE            DEPOSIT@MOBILE  206.25   \n",
       "1  6/28/2022  MATTHEWS VET SERVICES, P  MATTHEWS VET SERVICES, P   13.20   \n",
       "2  6/28/2022     STARBUCKS STORE 24306     STARBUCKS STORE 24306    5.57   \n",
       "3  6/28/2022              PAYPAL *HULU              PAYPAL *HULU   14.16   \n",
       "4  6/28/2022                H-E-B #618                H-E-B #618   20.56   \n",
       "\n",
       "  Transaction Type      Category Account Name Labels Notes  \n",
       "0           credit      Transfer   Checkarama    NaN   NaN  \n",
       "1            debit    Veterinary  CREDIT CARD    NaN   NaN  \n",
       "2            debit  Coffee Shops  CREDIT CARD    NaN   NaN  \n",
       "3            debit    Television  CREDIT CARD    NaN   NaN  \n",
       "4            debit     Groceries  CREDIT CARD    NaN   NaN  "
      ]
     },
     "execution_count": 2,
     "metadata": {},
     "output_type": "execute_result"
    }
   ],
   "source": [
    "# Acquiring the data from the csv file and displaying first 5 rows\n",
    "\n",
    "transactions1 = acquire.get_local_transactions()\n",
    "transactions1.head()"
   ]
  },
  {
   "cell_type": "markdown",
   "id": "6cef91c5",
   "metadata": {},
   "source": [
    "# II. Clean & Prepare"
   ]
  },
  {
   "cell_type": "markdown",
   "id": "5857f669",
   "metadata": {},
   "source": [
    ">## High level exploration before Cleaning and preparation"
   ]
  },
  {
   "cell_type": "code",
   "execution_count": 3,
   "id": "5cb24fff",
   "metadata": {},
   "outputs": [
    {
     "data": {
      "text/plain": [
       "(7872, 9)"
      ]
     },
     "execution_count": 3,
     "metadata": {},
     "output_type": "execute_result"
    }
   ],
   "source": [
    "# Checking the number of rows and columns\n",
    "\n",
    "transactions1.shape"
   ]
  },
  {
   "cell_type": "code",
   "execution_count": 4,
   "id": "662e843d",
   "metadata": {
    "scrolled": false
   },
   "outputs": [
    {
     "data": {
      "text/html": [
       "<div>\n",
       "<style scoped>\n",
       "    .dataframe tbody tr th:only-of-type {\n",
       "        vertical-align: middle;\n",
       "    }\n",
       "\n",
       "    .dataframe tbody tr th {\n",
       "        vertical-align: top;\n",
       "    }\n",
       "\n",
       "    .dataframe thead th {\n",
       "        text-align: right;\n",
       "    }\n",
       "</style>\n",
       "<table border=\"1\" class=\"dataframe\">\n",
       "  <thead>\n",
       "    <tr style=\"text-align: right;\">\n",
       "      <th></th>\n",
       "      <th>Description</th>\n",
       "      <th>Original Description</th>\n",
       "    </tr>\n",
       "  </thead>\n",
       "  <tbody>\n",
       "    <tr>\n",
       "      <th>0</th>\n",
       "      <td>DEPOSIT@MOBILE</td>\n",
       "      <td>DEPOSIT@MOBILE</td>\n",
       "    </tr>\n",
       "    <tr>\n",
       "      <th>1</th>\n",
       "      <td>MATTHEWS VET SERVICES, P</td>\n",
       "      <td>MATTHEWS VET SERVICES, P</td>\n",
       "    </tr>\n",
       "    <tr>\n",
       "      <th>2</th>\n",
       "      <td>STARBUCKS STORE 24306</td>\n",
       "      <td>STARBUCKS STORE 24306</td>\n",
       "    </tr>\n",
       "    <tr>\n",
       "      <th>3</th>\n",
       "      <td>PAYPAL *HULU</td>\n",
       "      <td>PAYPAL *HULU</td>\n",
       "    </tr>\n",
       "    <tr>\n",
       "      <th>4</th>\n",
       "      <td>H-E-B #618</td>\n",
       "      <td>H-E-B #618</td>\n",
       "    </tr>\n",
       "    <tr>\n",
       "      <th>...</th>\n",
       "      <td>...</td>\n",
       "      <td>...</td>\n",
       "    </tr>\n",
       "    <tr>\n",
       "      <th>7867</th>\n",
       "      <td>Ultra Foods Qps</td>\n",
       "      <td>ULTRA FOODS #8761  QPS   LOMBARD</td>\n",
       "    </tr>\n",
       "    <tr>\n",
       "      <th>7868</th>\n",
       "      <td>Pennys Noodle Shop</td>\n",
       "      <td>PENNY'S NOODLE SHOPQPS   CHICAGO</td>\n",
       "    </tr>\n",
       "    <tr>\n",
       "      <th>7869</th>\n",
       "      <td>Amazon Music</td>\n",
       "      <td>MUSIC DWNLDS             866-216</td>\n",
       "    </tr>\n",
       "    <tr>\n",
       "      <th>7870</th>\n",
       "      <td>Calling Card</td>\n",
       "      <td>CALLINGCARDS/CONFERENC   (866)29</td>\n",
       "    </tr>\n",
       "    <tr>\n",
       "      <th>7871</th>\n",
       "      <td>Usaa Com Pmt</td>\n",
       "      <td>USAA.COM PMT-THANKS      SAN ANT</td>\n",
       "    </tr>\n",
       "  </tbody>\n",
       "</table>\n",
       "<p>7872 rows × 2 columns</p>\n",
       "</div>"
      ],
      "text/plain": [
       "                   Description              Original Description\n",
       "0               DEPOSIT@MOBILE                    DEPOSIT@MOBILE\n",
       "1     MATTHEWS VET SERVICES, P          MATTHEWS VET SERVICES, P\n",
       "2        STARBUCKS STORE 24306             STARBUCKS STORE 24306\n",
       "3                 PAYPAL *HULU                      PAYPAL *HULU\n",
       "4                   H-E-B #618                        H-E-B #618\n",
       "...                        ...                               ...\n",
       "7867           Ultra Foods Qps  ULTRA FOODS #8761  QPS   LOMBARD\n",
       "7868        Pennys Noodle Shop  PENNY'S NOODLE SHOPQPS   CHICAGO\n",
       "7869              Amazon Music  MUSIC DWNLDS             866-216\n",
       "7870              Calling Card  CALLINGCARDS/CONFERENC   (866)29\n",
       "7871              Usaa Com Pmt  USAA.COM PMT-THANKS      SAN ANT\n",
       "\n",
       "[7872 rows x 2 columns]"
      ]
     },
     "execution_count": 4,
     "metadata": {},
     "output_type": "execute_result"
    }
   ],
   "source": [
    "# Comparing the Description and the Original Description columns to see which is worth dropping\n",
    "\n",
    "transactions1[['Description', 'Original Description']]"
   ]
  },
  {
   "cell_type": "code",
   "execution_count": 5,
   "id": "9f3d6f78",
   "metadata": {},
   "outputs": [
    {
     "data": {
      "text/plain": [
       "Date                       0\n",
       "Description                0\n",
       "Original Description       0\n",
       "Amount                     0\n",
       "Transaction Type           0\n",
       "Category                   3\n",
       "Account Name               0\n",
       "Labels                  7870\n",
       "Notes                   7862\n",
       "dtype: int64"
      ]
     },
     "execution_count": 5,
     "metadata": {},
     "output_type": "execute_result"
    }
   ],
   "source": [
    "# Checking the df nulls\n",
    "\n",
    "transactions1.isnull().sum()"
   ]
  },
  {
   "cell_type": "code",
   "execution_count": 6,
   "id": "8a3a70b2",
   "metadata": {},
   "outputs": [
    {
     "data": {
      "text/html": [
       "<div>\n",
       "<style scoped>\n",
       "    .dataframe tbody tr th:only-of-type {\n",
       "        vertical-align: middle;\n",
       "    }\n",
       "\n",
       "    .dataframe tbody tr th {\n",
       "        vertical-align: top;\n",
       "    }\n",
       "\n",
       "    .dataframe thead th {\n",
       "        text-align: right;\n",
       "    }\n",
       "</style>\n",
       "<table border=\"1\" class=\"dataframe\">\n",
       "  <thead>\n",
       "    <tr style=\"text-align: right;\">\n",
       "      <th></th>\n",
       "      <th>Date</th>\n",
       "      <th>Description</th>\n",
       "      <th>Original Description</th>\n",
       "      <th>Amount</th>\n",
       "      <th>Transaction Type</th>\n",
       "      <th>Category</th>\n",
       "      <th>Account Name</th>\n",
       "      <th>Labels</th>\n",
       "      <th>Notes</th>\n",
       "    </tr>\n",
       "  </thead>\n",
       "  <tbody>\n",
       "    <tr>\n",
       "      <th>5996</th>\n",
       "      <td>3/02/2015</td>\n",
       "      <td>Payment</td>\n",
       "      <td>Payment</td>\n",
       "      <td>10.0</td>\n",
       "      <td>credit</td>\n",
       "      <td>NaN</td>\n",
       "      <td>Stafford Loans U.S. DEPARTMENT OF EDUCATION</td>\n",
       "      <td>NaN</td>\n",
       "      <td>NaN</td>\n",
       "    </tr>\n",
       "    <tr>\n",
       "      <th>5997</th>\n",
       "      <td>3/02/2015</td>\n",
       "      <td>Pending</td>\n",
       "      <td>Pending</td>\n",
       "      <td>10.0</td>\n",
       "      <td>credit</td>\n",
       "      <td>NaN</td>\n",
       "      <td>Stafford Loans U.S. DEPARTMENT OF EDUCATION</td>\n",
       "      <td>NaN</td>\n",
       "      <td>NaN</td>\n",
       "    </tr>\n",
       "    <tr>\n",
       "      <th>5998</th>\n",
       "      <td>2/28/2015</td>\n",
       "      <td>Payment</td>\n",
       "      <td>Payment</td>\n",
       "      <td>40.0</td>\n",
       "      <td>credit</td>\n",
       "      <td>NaN</td>\n",
       "      <td>Stafford Loans U.S. DEPARTMENT OF EDUCATION</td>\n",
       "      <td>NaN</td>\n",
       "      <td>NaN</td>\n",
       "    </tr>\n",
       "  </tbody>\n",
       "</table>\n",
       "</div>"
      ],
      "text/plain": [
       "           Date Description Original Description  Amount Transaction Type  \\\n",
       "5996  3/02/2015     Payment              Payment    10.0           credit   \n",
       "5997  3/02/2015     Pending              Pending    10.0           credit   \n",
       "5998  2/28/2015     Payment              Payment    40.0           credit   \n",
       "\n",
       "     Category                                 Account Name Labels Notes  \n",
       "5996      NaN  Stafford Loans U.S. DEPARTMENT OF EDUCATION    NaN   NaN  \n",
       "5997      NaN  Stafford Loans U.S. DEPARTMENT OF EDUCATION    NaN   NaN  \n",
       "5998      NaN  Stafford Loans U.S. DEPARTMENT OF EDUCATION    NaN   NaN  "
      ]
     },
     "execution_count": 6,
     "metadata": {},
     "output_type": "execute_result"
    }
   ],
   "source": [
    "# Checking the specific crows of the Category column\n",
    "\n",
    "transactions1[transactions1['Category'].isnull()]"
   ]
  },
  {
   "cell_type": "markdown",
   "id": "5d128382",
   "metadata": {},
   "source": [
    ">## Takeaways\n",
    "    - The df contains duplicates\n",
    "    - The df has nulls in great number in labels and Notes columns\n",
    "    - The df has much fewer nulls in the Category column\n",
    "    - The Description and the Original Description are duplicates\n",
    "    - These columns contain special characters\n",
    "    - There is a date column\n",
    ">## Actions\n",
    "    - Remove duplicates\n",
    "    - Drop Labels, Notes, and Original Description\n",
    "    - Remove special characters from Description\n",
    "    - Rename columns for readability\n",
    "    - Make Account Name and Description's content into lower case\n",
    "    - Set Date as INDEX"
   ]
  },
  {
   "cell_type": "markdown",
   "id": "f1294197",
   "metadata": {},
   "source": [
    ">## Cleaning"
   ]
  },
  {
   "cell_type": "code",
   "execution_count": 7,
   "id": "bc8b71e6",
   "metadata": {
    "scrolled": true
   },
   "outputs": [
    {
     "name": "stdout",
     "output_type": "stream",
     "text": [
      "['Date', 'Description', 'Original Description', 'Amount', 'Transaction Type', 'Category', 'Account Name', 'Labels', 'Notes']\n"
     ]
    }
   ],
   "source": [
    "# Printing the column names into a list without a line break\n",
    "\n",
    "a = transactions1.columns.tolist()\n",
    "print(a,)"
   ]
  },
  {
   "cell_type": "code",
   "execution_count": 8,
   "id": "7b6aa930",
   "metadata": {},
   "outputs": [],
   "source": [
    "# Assigning the list of columns to a variable\n",
    "\n",
    "columns = ['Date', 'Description', 'Original Description', 'Amount', 'Transaction Type', 'Category', 'Account Name', 'Labels', 'Notes']"
   ]
  },
  {
   "cell_type": "code",
   "execution_count": 10,
   "id": "77c20fd5",
   "metadata": {},
   "outputs": [
    {
     "data": {
      "text/html": [
       "<div>\n",
       "<style scoped>\n",
       "    .dataframe tbody tr th:only-of-type {\n",
       "        vertical-align: middle;\n",
       "    }\n",
       "\n",
       "    .dataframe tbody tr th {\n",
       "        vertical-align: top;\n",
       "    }\n",
       "\n",
       "    .dataframe thead th {\n",
       "        text-align: right;\n",
       "    }\n",
       "</style>\n",
       "<table border=\"1\" class=\"dataframe\">\n",
       "  <thead>\n",
       "    <tr style=\"text-align: right;\">\n",
       "      <th></th>\n",
       "      <th>num_rows_missing</th>\n",
       "      <th>pct_rows_missing</th>\n",
       "    </tr>\n",
       "  </thead>\n",
       "  <tbody>\n",
       "    <tr>\n",
       "      <th>Date</th>\n",
       "      <td>0</td>\n",
       "      <td>0.000000</td>\n",
       "    </tr>\n",
       "    <tr>\n",
       "      <th>Description</th>\n",
       "      <td>0</td>\n",
       "      <td>0.000000</td>\n",
       "    </tr>\n",
       "    <tr>\n",
       "      <th>Original Description</th>\n",
       "      <td>0</td>\n",
       "      <td>0.000000</td>\n",
       "    </tr>\n",
       "    <tr>\n",
       "      <th>Amount</th>\n",
       "      <td>0</td>\n",
       "      <td>0.000000</td>\n",
       "    </tr>\n",
       "    <tr>\n",
       "      <th>Transaction Type</th>\n",
       "      <td>0</td>\n",
       "      <td>0.000000</td>\n",
       "    </tr>\n",
       "    <tr>\n",
       "      <th>Category</th>\n",
       "      <td>3</td>\n",
       "      <td>0.038110</td>\n",
       "    </tr>\n",
       "    <tr>\n",
       "      <th>Account Name</th>\n",
       "      <td>0</td>\n",
       "      <td>0.000000</td>\n",
       "    </tr>\n",
       "    <tr>\n",
       "      <th>Labels</th>\n",
       "      <td>7870</td>\n",
       "      <td>99.974593</td>\n",
       "    </tr>\n",
       "    <tr>\n",
       "      <th>Notes</th>\n",
       "      <td>7862</td>\n",
       "      <td>99.872967</td>\n",
       "    </tr>\n",
       "  </tbody>\n",
       "</table>\n",
       "</div>"
      ],
      "text/plain": [
       "                      num_rows_missing  pct_rows_missing\n",
       "Date                                 0          0.000000\n",
       "Description                          0          0.000000\n",
       "Original Description                 0          0.000000\n",
       "Amount                               0          0.000000\n",
       "Transaction Type                     0          0.000000\n",
       "Category                             3          0.038110\n",
       "Account Name                         0          0.000000\n",
       "Labels                            7870         99.974593\n",
       "Notes                             7862         99.872967"
      ]
     },
     "execution_count": 10,
     "metadata": {},
     "output_type": "execute_result"
    }
   ],
   "source": [
    "# Displaying duplicate rows in count and percent\n",
    "\n",
    "prep.multi_frequency(transactions1, columns)"
   ]
  },
  {
   "cell_type": "code",
   "execution_count": 12,
   "id": "8226af55",
   "metadata": {},
   "outputs": [],
   "source": [
    "# Dropping dupicates and keeping the entries detected and reassigning the df to a new variable\n",
    "\n",
    "transactions2 = transactions1.drop_duplicates()"
   ]
  },
  {
   "cell_type": "code",
   "execution_count": 13,
   "id": "be8fe7ae",
   "metadata": {},
   "outputs": [
    {
     "data": {
      "text/plain": [
       "(7797, 9)"
      ]
     },
     "execution_count": 13,
     "metadata": {},
     "output_type": "execute_result"
    }
   ],
   "source": [
    "transactions2.shape"
   ]
  },
  {
   "cell_type": "code",
   "execution_count": 14,
   "id": "a57eb589",
   "metadata": {},
   "outputs": [],
   "source": [
    "# Dropping columns that are not useful\n",
    "\n",
    "transactions3 = transactions2.drop(['Account Name', 'Labels', 'Notes', 'Original Description'], axis = 1)"
   ]
  },
  {
   "cell_type": "code",
   "execution_count": 15,
   "id": "0bc0b339",
   "metadata": {},
   "outputs": [
    {
     "data": {
      "text/html": [
       "<div>\n",
       "<style scoped>\n",
       "    .dataframe tbody tr th:only-of-type {\n",
       "        vertical-align: middle;\n",
       "    }\n",
       "\n",
       "    .dataframe tbody tr th {\n",
       "        vertical-align: top;\n",
       "    }\n",
       "\n",
       "    .dataframe thead th {\n",
       "        text-align: right;\n",
       "    }\n",
       "</style>\n",
       "<table border=\"1\" class=\"dataframe\">\n",
       "  <thead>\n",
       "    <tr style=\"text-align: right;\">\n",
       "      <th></th>\n",
       "      <th>Date</th>\n",
       "      <th>Description</th>\n",
       "      <th>Amount</th>\n",
       "      <th>Transaction Type</th>\n",
       "      <th>Category</th>\n",
       "    </tr>\n",
       "  </thead>\n",
       "  <tbody>\n",
       "    <tr>\n",
       "      <th>0</th>\n",
       "      <td>6/29/2022</td>\n",
       "      <td>DEPOSIT@MOBILE</td>\n",
       "      <td>206.25</td>\n",
       "      <td>credit</td>\n",
       "      <td>Transfer</td>\n",
       "    </tr>\n",
       "    <tr>\n",
       "      <th>1</th>\n",
       "      <td>6/28/2022</td>\n",
       "      <td>MATTHEWS VET SERVICES, P</td>\n",
       "      <td>13.20</td>\n",
       "      <td>debit</td>\n",
       "      <td>Veterinary</td>\n",
       "    </tr>\n",
       "    <tr>\n",
       "      <th>2</th>\n",
       "      <td>6/28/2022</td>\n",
       "      <td>STARBUCKS STORE 24306</td>\n",
       "      <td>5.57</td>\n",
       "      <td>debit</td>\n",
       "      <td>Coffee Shops</td>\n",
       "    </tr>\n",
       "    <tr>\n",
       "      <th>3</th>\n",
       "      <td>6/28/2022</td>\n",
       "      <td>PAYPAL *HULU</td>\n",
       "      <td>14.16</td>\n",
       "      <td>debit</td>\n",
       "      <td>Television</td>\n",
       "    </tr>\n",
       "    <tr>\n",
       "      <th>4</th>\n",
       "      <td>6/28/2022</td>\n",
       "      <td>H-E-B #618</td>\n",
       "      <td>20.56</td>\n",
       "      <td>debit</td>\n",
       "      <td>Groceries</td>\n",
       "    </tr>\n",
       "  </tbody>\n",
       "</table>\n",
       "</div>"
      ],
      "text/plain": [
       "        Date               Description  Amount Transaction Type      Category\n",
       "0  6/29/2022            DEPOSIT@MOBILE  206.25           credit      Transfer\n",
       "1  6/28/2022  MATTHEWS VET SERVICES, P   13.20            debit    Veterinary\n",
       "2  6/28/2022     STARBUCKS STORE 24306    5.57            debit  Coffee Shops\n",
       "3  6/28/2022              PAYPAL *HULU   14.16            debit    Television\n",
       "4  6/28/2022                H-E-B #618   20.56            debit     Groceries"
      ]
     },
     "execution_count": 15,
     "metadata": {},
     "output_type": "execute_result"
    }
   ],
   "source": [
    "transactions3.head()"
   ]
  },
  {
   "cell_type": "code",
   "execution_count": 16,
   "id": "142dcaf7",
   "metadata": {},
   "outputs": [
    {
     "data": {
      "text/html": [
       "<div>\n",
       "<style scoped>\n",
       "    .dataframe tbody tr th:only-of-type {\n",
       "        vertical-align: middle;\n",
       "    }\n",
       "\n",
       "    .dataframe tbody tr th {\n",
       "        vertical-align: top;\n",
       "    }\n",
       "\n",
       "    .dataframe thead th {\n",
       "        text-align: right;\n",
       "    }\n",
       "</style>\n",
       "<table border=\"1\" class=\"dataframe\">\n",
       "  <thead>\n",
       "    <tr style=\"text-align: right;\">\n",
       "      <th></th>\n",
       "      <th>Date</th>\n",
       "      <th>Description</th>\n",
       "      <th>Amount</th>\n",
       "      <th>Transaction Type</th>\n",
       "      <th>Category</th>\n",
       "    </tr>\n",
       "  </thead>\n",
       "  <tbody>\n",
       "    <tr>\n",
       "      <th>5996</th>\n",
       "      <td>3/02/2015</td>\n",
       "      <td>Payment</td>\n",
       "      <td>10.0</td>\n",
       "      <td>credit</td>\n",
       "      <td>NaN</td>\n",
       "    </tr>\n",
       "    <tr>\n",
       "      <th>5997</th>\n",
       "      <td>3/02/2015</td>\n",
       "      <td>Pending</td>\n",
       "      <td>10.0</td>\n",
       "      <td>credit</td>\n",
       "      <td>NaN</td>\n",
       "    </tr>\n",
       "    <tr>\n",
       "      <th>5998</th>\n",
       "      <td>2/28/2015</td>\n",
       "      <td>Payment</td>\n",
       "      <td>40.0</td>\n",
       "      <td>credit</td>\n",
       "      <td>NaN</td>\n",
       "    </tr>\n",
       "  </tbody>\n",
       "</table>\n",
       "</div>"
      ],
      "text/plain": [
       "           Date Description  Amount Transaction Type Category\n",
       "5996  3/02/2015     Payment    10.0           credit      NaN\n",
       "5997  3/02/2015     Pending    10.0           credit      NaN\n",
       "5998  2/28/2015     Payment    40.0           credit      NaN"
      ]
     },
     "execution_count": 16,
     "metadata": {},
     "output_type": "execute_result"
    }
   ],
   "source": [
    "# Checking the nulls in the Category column\n",
    "\n",
    "transactions3[transactions3['Category'].isnull()]"
   ]
  },
  {
   "cell_type": "code",
   "execution_count": 17,
   "id": "a55198d9",
   "metadata": {},
   "outputs": [],
   "source": [
    "# Filling out the nulls with the category 'Education'\n",
    "\n",
    "transactions4 = prep.handle_missing_values(transactions3)"
   ]
  },
  {
   "cell_type": "code",
   "execution_count": 18,
   "id": "23c103e8",
   "metadata": {},
   "outputs": [
    {
     "name": "stdout",
     "output_type": "stream",
     "text": [
      "['Date', 'Description', 'Amount', 'Transaction Type', 'Category']\n"
     ]
    }
   ],
   "source": [
    "a = transactions4.columns.tolist()\n",
    "print(a,)"
   ]
  },
  {
   "cell_type": "code",
   "execution_count": 19,
   "id": "b1be1680",
   "metadata": {},
   "outputs": [],
   "source": [
    "# Assigning columns to a variable\n",
    "\n",
    "columns4 = ['Date', 'Description', 'Amount', 'Transaction Type', 'Category']"
   ]
  },
  {
   "cell_type": "code",
   "execution_count": 20,
   "id": "d135d41a",
   "metadata": {},
   "outputs": [
    {
     "data": {
      "text/html": [
       "<div>\n",
       "<style scoped>\n",
       "    .dataframe tbody tr th:only-of-type {\n",
       "        vertical-align: middle;\n",
       "    }\n",
       "\n",
       "    .dataframe tbody tr th {\n",
       "        vertical-align: top;\n",
       "    }\n",
       "\n",
       "    .dataframe thead th {\n",
       "        text-align: right;\n",
       "    }\n",
       "</style>\n",
       "<table border=\"1\" class=\"dataframe\">\n",
       "  <thead>\n",
       "    <tr style=\"text-align: right;\">\n",
       "      <th></th>\n",
       "      <th>num_rows_missing</th>\n",
       "      <th>pct_rows_missing</th>\n",
       "    </tr>\n",
       "  </thead>\n",
       "  <tbody>\n",
       "    <tr>\n",
       "      <th>Date</th>\n",
       "      <td>0</td>\n",
       "      <td>0.0</td>\n",
       "    </tr>\n",
       "    <tr>\n",
       "      <th>Description</th>\n",
       "      <td>0</td>\n",
       "      <td>0.0</td>\n",
       "    </tr>\n",
       "    <tr>\n",
       "      <th>Amount</th>\n",
       "      <td>0</td>\n",
       "      <td>0.0</td>\n",
       "    </tr>\n",
       "    <tr>\n",
       "      <th>Transaction Type</th>\n",
       "      <td>0</td>\n",
       "      <td>0.0</td>\n",
       "    </tr>\n",
       "    <tr>\n",
       "      <th>Category</th>\n",
       "      <td>0</td>\n",
       "      <td>0.0</td>\n",
       "    </tr>\n",
       "  </tbody>\n",
       "</table>\n",
       "</div>"
      ],
      "text/plain": [
       "                  num_rows_missing  pct_rows_missing\n",
       "Date                             0               0.0\n",
       "Description                      0               0.0\n",
       "Amount                           0               0.0\n",
       "Transaction Type                 0               0.0\n",
       "Category                         0               0.0"
      ]
     },
     "execution_count": 20,
     "metadata": {},
     "output_type": "execute_result"
    }
   ],
   "source": [
    "# Checking nulls\n",
    "\n",
    "prep.multi_frequency(transactions4, columns4)"
   ]
  },
  {
   "cell_type": "code",
   "execution_count": 22,
   "id": "eb98b507",
   "metadata": {},
   "outputs": [
    {
     "data": {
      "text/plain": [
       "1714"
      ]
     },
     "execution_count": 22,
     "metadata": {},
     "output_type": "execute_result"
    }
   ],
   "source": [
    "# Checking the number of unique entries in Description column\n",
    "\n",
    "transactions4['Description'].nunique()"
   ]
  },
  {
   "cell_type": "code",
   "execution_count": 23,
   "id": "3e8e7f1d",
   "metadata": {},
   "outputs": [
    {
     "data": {
      "text/plain": [
       "2"
      ]
     },
     "execution_count": 23,
     "metadata": {},
     "output_type": "execute_result"
    }
   ],
   "source": [
    "# Checking the number of unique entries in Transaction Type column (Debit and Credit)\n",
    "\n",
    "transactions4['Transaction Type'].nunique()"
   ]
  },
  {
   "cell_type": "code",
   "execution_count": 24,
   "id": "aff8fe9a",
   "metadata": {},
   "outputs": [
    {
     "data": {
      "text/plain": [
       "111"
      ]
     },
     "execution_count": 24,
     "metadata": {},
     "output_type": "execute_result"
    }
   ],
   "source": [
    "# Checking the number of unique entries in Category column\n",
    "\n",
    "transactions4['Category'].nunique()"
   ]
  },
  {
   "cell_type": "markdown",
   "id": "3783fbaa",
   "metadata": {},
   "source": [
    "### *Takeaways*\n",
    "\n",
    ">**Category and description can help define the type of purchases and their categories so I will keep them both**\n",
    "\n",
    ">**I will rename the columns and clean up Description. Then set date to a datetime type and an index column**"
   ]
  },
  {
   "cell_type": "code",
   "execution_count": 25,
   "id": "802b2a5b",
   "metadata": {},
   "outputs": [],
   "source": [
    "renamed = {\n",
    "    'Date': 'date',\n",
    "    'Description': 'description',\n",
    "    'Amount': 'amount',\n",
    "    'Transaction Type': 'transaction_type',\n",
    "    'Category': 'category'\n",
    "}"
   ]
  },
  {
   "cell_type": "code",
   "execution_count": 26,
   "id": "1d46e55d",
   "metadata": {
    "scrolled": false
   },
   "outputs": [
    {
     "data": {
      "text/html": [
       "<div>\n",
       "<style scoped>\n",
       "    .dataframe tbody tr th:only-of-type {\n",
       "        vertical-align: middle;\n",
       "    }\n",
       "\n",
       "    .dataframe tbody tr th {\n",
       "        vertical-align: top;\n",
       "    }\n",
       "\n",
       "    .dataframe thead th {\n",
       "        text-align: right;\n",
       "    }\n",
       "</style>\n",
       "<table border=\"1\" class=\"dataframe\">\n",
       "  <thead>\n",
       "    <tr style=\"text-align: right;\">\n",
       "      <th></th>\n",
       "      <th>date</th>\n",
       "      <th>description</th>\n",
       "      <th>amount</th>\n",
       "      <th>transaction_type</th>\n",
       "      <th>category</th>\n",
       "    </tr>\n",
       "  </thead>\n",
       "  <tbody>\n",
       "    <tr>\n",
       "      <th>0</th>\n",
       "      <td>6/29/2022</td>\n",
       "      <td>DEPOSIT@MOBILE</td>\n",
       "      <td>206.25</td>\n",
       "      <td>credit</td>\n",
       "      <td>Transfer</td>\n",
       "    </tr>\n",
       "    <tr>\n",
       "      <th>1</th>\n",
       "      <td>6/28/2022</td>\n",
       "      <td>MATTHEWS VET SERVICES, P</td>\n",
       "      <td>13.20</td>\n",
       "      <td>debit</td>\n",
       "      <td>Veterinary</td>\n",
       "    </tr>\n",
       "    <tr>\n",
       "      <th>2</th>\n",
       "      <td>6/28/2022</td>\n",
       "      <td>STARBUCKS STORE 24306</td>\n",
       "      <td>5.57</td>\n",
       "      <td>debit</td>\n",
       "      <td>Coffee Shops</td>\n",
       "    </tr>\n",
       "    <tr>\n",
       "      <th>3</th>\n",
       "      <td>6/28/2022</td>\n",
       "      <td>PAYPAL *HULU</td>\n",
       "      <td>14.16</td>\n",
       "      <td>debit</td>\n",
       "      <td>Television</td>\n",
       "    </tr>\n",
       "    <tr>\n",
       "      <th>4</th>\n",
       "      <td>6/28/2022</td>\n",
       "      <td>H-E-B #618</td>\n",
       "      <td>20.56</td>\n",
       "      <td>debit</td>\n",
       "      <td>Groceries</td>\n",
       "    </tr>\n",
       "  </tbody>\n",
       "</table>\n",
       "</div>"
      ],
      "text/plain": [
       "        date               description  amount transaction_type      category\n",
       "0  6/29/2022            DEPOSIT@MOBILE  206.25           credit      Transfer\n",
       "1  6/28/2022  MATTHEWS VET SERVICES, P   13.20            debit    Veterinary\n",
       "2  6/28/2022     STARBUCKS STORE 24306    5.57            debit  Coffee Shops\n",
       "3  6/28/2022              PAYPAL *HULU   14.16            debit    Television\n",
       "4  6/28/2022                H-E-B #618   20.56            debit     Groceries"
      ]
     },
     "execution_count": 26,
     "metadata": {},
     "output_type": "execute_result"
    }
   ],
   "source": [
    "transactions5 = transactions4.rename(columns=renamed)\n",
    "transactions5.head()"
   ]
  },
  {
   "cell_type": "code",
   "execution_count": 76,
   "id": "73996d6a",
   "metadata": {},
   "outputs": [
    {
     "data": {
      "text/html": [
       "<div>\n",
       "<style scoped>\n",
       "    .dataframe tbody tr th:only-of-type {\n",
       "        vertical-align: middle;\n",
       "    }\n",
       "\n",
       "    .dataframe tbody tr th {\n",
       "        vertical-align: top;\n",
       "    }\n",
       "\n",
       "    .dataframe thead th {\n",
       "        text-align: right;\n",
       "    }\n",
       "</style>\n",
       "<table border=\"1\" class=\"dataframe\">\n",
       "  <thead>\n",
       "    <tr style=\"text-align: right;\">\n",
       "      <th></th>\n",
       "      <th>date</th>\n",
       "      <th>description</th>\n",
       "      <th>amount</th>\n",
       "      <th>transaction_type</th>\n",
       "      <th>category</th>\n",
       "    </tr>\n",
       "  </thead>\n",
       "  <tbody>\n",
       "    <tr>\n",
       "      <th>21</th>\n",
       "      <td>6/23/2022</td>\n",
       "      <td>paypal_disney_plus</td>\n",
       "      <td>7.63</td>\n",
       "      <td>debit</td>\n",
       "      <td>Travel</td>\n",
       "    </tr>\n",
       "    <tr>\n",
       "      <th>121</th>\n",
       "      <td>5/23/2022</td>\n",
       "      <td>paypal_disney_plus</td>\n",
       "      <td>7.63</td>\n",
       "      <td>debit</td>\n",
       "      <td>Travel</td>\n",
       "    </tr>\n",
       "    <tr>\n",
       "      <th>205</th>\n",
       "      <td>4/24/2022</td>\n",
       "      <td>paypal_disney_plus</td>\n",
       "      <td>7.63</td>\n",
       "      <td>debit</td>\n",
       "      <td>Travel</td>\n",
       "    </tr>\n",
       "    <tr>\n",
       "      <th>233</th>\n",
       "      <td>4/11/2022</td>\n",
       "      <td>txtag_888_468_9824</td>\n",
       "      <td>10.00</td>\n",
       "      <td>debit</td>\n",
       "      <td>Travel</td>\n",
       "    </tr>\n",
       "    <tr>\n",
       "      <th>828</th>\n",
       "      <td>3/12/2020</td>\n",
       "      <td>merry_christmas__all</td>\n",
       "      <td>13.15</td>\n",
       "      <td>debit</td>\n",
       "      <td>Travel</td>\n",
       "    </tr>\n",
       "    <tr>\n",
       "      <th>889</th>\n",
       "      <td>2/23/2020</td>\n",
       "      <td>disney</td>\n",
       "      <td>7.63</td>\n",
       "      <td>debit</td>\n",
       "      <td>Travel</td>\n",
       "    </tr>\n",
       "    <tr>\n",
       "      <th>916</th>\n",
       "      <td>2/10/2020</td>\n",
       "      <td>princess</td>\n",
       "      <td>64.00</td>\n",
       "      <td>debit</td>\n",
       "      <td>Travel</td>\n",
       "    </tr>\n",
       "    <tr>\n",
       "      <th>960</th>\n",
       "      <td>1/23/2020</td>\n",
       "      <td>disney</td>\n",
       "      <td>7.63</td>\n",
       "      <td>debit</td>\n",
       "      <td>Travel</td>\n",
       "    </tr>\n",
       "    <tr>\n",
       "      <th>1067</th>\n",
       "      <td>12/23/2019</td>\n",
       "      <td>disney</td>\n",
       "      <td>7.63</td>\n",
       "      <td>debit</td>\n",
       "      <td>Travel</td>\n",
       "    </tr>\n",
       "    <tr>\n",
       "      <th>1161</th>\n",
       "      <td>11/19/2019</td>\n",
       "      <td>princess</td>\n",
       "      <td>72.00</td>\n",
       "      <td>debit</td>\n",
       "      <td>Travel</td>\n",
       "    </tr>\n",
       "    <tr>\n",
       "      <th>1750</th>\n",
       "      <td>2/18/2019</td>\n",
       "      <td>princess</td>\n",
       "      <td>42.00</td>\n",
       "      <td>debit</td>\n",
       "      <td>Travel</td>\n",
       "    </tr>\n",
       "    <tr>\n",
       "      <th>2827</th>\n",
       "      <td>1/21/2018</td>\n",
       "      <td>loves_travel</td>\n",
       "      <td>16.63</td>\n",
       "      <td>debit</td>\n",
       "      <td>Travel</td>\n",
       "    </tr>\n",
       "    <tr>\n",
       "      <th>3587</th>\n",
       "      <td>6/08/2017</td>\n",
       "      <td>itr_tolls</td>\n",
       "      <td>2.10</td>\n",
       "      <td>debit</td>\n",
       "      <td>Travel</td>\n",
       "    </tr>\n",
       "    <tr>\n",
       "      <th>3592</th>\n",
       "      <td>6/07/2017</td>\n",
       "      <td>itr_tolls</td>\n",
       "      <td>2.10</td>\n",
       "      <td>debit</td>\n",
       "      <td>Travel</td>\n",
       "    </tr>\n",
       "    <tr>\n",
       "      <th>3593</th>\n",
       "      <td>6/07/2017</td>\n",
       "      <td>itr_lake_station</td>\n",
       "      <td>0.90</td>\n",
       "      <td>debit</td>\n",
       "      <td>Travel</td>\n",
       "    </tr>\n",
       "    <tr>\n",
       "      <th>3779</th>\n",
       "      <td>4/14/2017</td>\n",
       "      <td>costa</td>\n",
       "      <td>33.55</td>\n",
       "      <td>debit</td>\n",
       "      <td>Travel</td>\n",
       "    </tr>\n",
       "    <tr>\n",
       "      <th>5640</th>\n",
       "      <td>9/30/2015</td>\n",
       "      <td>e-z_rent_a_car</td>\n",
       "      <td>67.87</td>\n",
       "      <td>debit</td>\n",
       "      <td>Travel</td>\n",
       "    </tr>\n",
       "    <tr>\n",
       "      <th>5646</th>\n",
       "      <td>9/29/2015</td>\n",
       "      <td>united_pacific_denver</td>\n",
       "      <td>29.05</td>\n",
       "      <td>debit</td>\n",
       "      <td>Travel</td>\n",
       "    </tr>\n",
       "    <tr>\n",
       "      <th>5693</th>\n",
       "      <td>9/09/2015</td>\n",
       "      <td>expedia</td>\n",
       "      <td>8.00</td>\n",
       "      <td>debit</td>\n",
       "      <td>Travel</td>\n",
       "    </tr>\n",
       "    <tr>\n",
       "      <th>5710</th>\n",
       "      <td>8/31/2015</td>\n",
       "      <td>inst_xfer_-emma's_wedding</td>\n",
       "      <td>65.00</td>\n",
       "      <td>debit</td>\n",
       "      <td>Travel</td>\n",
       "    </tr>\n",
       "    <tr>\n",
       "      <th>5820</th>\n",
       "      <td>7/20/2015</td>\n",
       "      <td>inst_xfer_com</td>\n",
       "      <td>124.00</td>\n",
       "      <td>debit</td>\n",
       "      <td>Travel</td>\n",
       "    </tr>\n",
       "    <tr>\n",
       "      <th>5838</th>\n",
       "      <td>7/10/2015</td>\n",
       "      <td>rental</td>\n",
       "      <td>55.31</td>\n",
       "      <td>debit</td>\n",
       "      <td>Travel</td>\n",
       "    </tr>\n",
       "    <tr>\n",
       "      <th>5856</th>\n",
       "      <td>5/27/2015</td>\n",
       "      <td>northside_college_prep</td>\n",
       "      <td>60.00</td>\n",
       "      <td>debit</td>\n",
       "      <td>Travel</td>\n",
       "    </tr>\n",
       "    <tr>\n",
       "      <th>5946</th>\n",
       "      <td>4/01/2015</td>\n",
       "      <td>coach</td>\n",
       "      <td>57.50</td>\n",
       "      <td>debit</td>\n",
       "      <td>Travel</td>\n",
       "    </tr>\n",
       "    <tr>\n",
       "      <th>6150</th>\n",
       "      <td>11/18/2014</td>\n",
       "      <td>ventra_website_il</td>\n",
       "      <td>5.00</td>\n",
       "      <td>debit</td>\n",
       "      <td>Travel</td>\n",
       "    </tr>\n",
       "    <tr>\n",
       "      <th>6262</th>\n",
       "      <td>10/07/2014</td>\n",
       "      <td>coachusa_megabus_nj</td>\n",
       "      <td>70.00</td>\n",
       "      <td>debit</td>\n",
       "      <td>Travel</td>\n",
       "    </tr>\n",
       "    <tr>\n",
       "      <th>6372</th>\n",
       "      <td>8/18/2014</td>\n",
       "      <td>sncf_goussainvillefra</td>\n",
       "      <td>26.36</td>\n",
       "      <td>debit</td>\n",
       "      <td>Travel</td>\n",
       "    </tr>\n",
       "    <tr>\n",
       "      <th>6449</th>\n",
       "      <td>7/11/2014</td>\n",
       "      <td>usps</td>\n",
       "      <td>2.32</td>\n",
       "      <td>debit</td>\n",
       "      <td>Travel</td>\n",
       "    </tr>\n",
       "    <tr>\n",
       "      <th>6452</th>\n",
       "      <td>7/11/2014</td>\n",
       "      <td>usps</td>\n",
       "      <td>11.20</td>\n",
       "      <td>debit</td>\n",
       "      <td>Travel</td>\n",
       "    </tr>\n",
       "    <tr>\n",
       "      <th>6456</th>\n",
       "      <td>7/11/2014</td>\n",
       "      <td>pai_iso-visa_cash</td>\n",
       "      <td>142.00</td>\n",
       "      <td>debit</td>\n",
       "      <td>Travel</td>\n",
       "    </tr>\n",
       "    <tr>\n",
       "      <th>6788</th>\n",
       "      <td>9/03/2013</td>\n",
       "      <td>bank</td>\n",
       "      <td>65.00</td>\n",
       "      <td>debit</td>\n",
       "      <td>Travel</td>\n",
       "    </tr>\n",
       "    <tr>\n",
       "      <th>7219</th>\n",
       "      <td>1/24/2013</td>\n",
       "      <td>passport</td>\n",
       "      <td>110.00</td>\n",
       "      <td>debit</td>\n",
       "      <td>Travel</td>\n",
       "    </tr>\n",
       "    <tr>\n",
       "      <th>7346</th>\n",
       "      <td>11/26/2012</td>\n",
       "      <td>check</td>\n",
       "      <td>75.00</td>\n",
       "      <td>debit</td>\n",
       "      <td>Travel</td>\n",
       "    </tr>\n",
       "    <tr>\n",
       "      <th>7452</th>\n",
       "      <td>10/06/2012</td>\n",
       "      <td>four_brothers</td>\n",
       "      <td>30.02</td>\n",
       "      <td>debit</td>\n",
       "      <td>Travel</td>\n",
       "    </tr>\n",
       "    <tr>\n",
       "      <th>7529</th>\n",
       "      <td>9/09/2012</td>\n",
       "      <td>american</td>\n",
       "      <td>181.60</td>\n",
       "      <td>debit</td>\n",
       "      <td>Travel</td>\n",
       "    </tr>\n",
       "    <tr>\n",
       "      <th>7671</th>\n",
       "      <td>6/13/2011</td>\n",
       "      <td>vanco_1798_robson_street</td>\n",
       "      <td>41.28</td>\n",
       "      <td>debit</td>\n",
       "      <td>Travel</td>\n",
       "    </tr>\n",
       "    <tr>\n",
       "      <th>7672</th>\n",
       "      <td>6/10/2011</td>\n",
       "      <td>cambie_hostel_gan</td>\n",
       "      <td>43.31</td>\n",
       "      <td>debit</td>\n",
       "      <td>Travel</td>\n",
       "    </tr>\n",
       "    <tr>\n",
       "      <th>7675</th>\n",
       "      <td>6/08/2011</td>\n",
       "      <td>sea_tac_baggage</td>\n",
       "      <td>42.00</td>\n",
       "      <td>debit</td>\n",
       "      <td>Travel</td>\n",
       "    </tr>\n",
       "  </tbody>\n",
       "</table>\n",
       "</div>"
      ],
      "text/plain": [
       "            date                description  amount transaction_type category\n",
       "21     6/23/2022         paypal_disney_plus    7.63            debit   Travel\n",
       "121    5/23/2022         paypal_disney_plus    7.63            debit   Travel\n",
       "205    4/24/2022         paypal_disney_plus    7.63            debit   Travel\n",
       "233    4/11/2022         txtag_888_468_9824   10.00            debit   Travel\n",
       "828    3/12/2020       merry_christmas__all   13.15            debit   Travel\n",
       "889    2/23/2020                     disney    7.63            debit   Travel\n",
       "916    2/10/2020                   princess   64.00            debit   Travel\n",
       "960    1/23/2020                     disney    7.63            debit   Travel\n",
       "1067  12/23/2019                     disney    7.63            debit   Travel\n",
       "1161  11/19/2019                   princess   72.00            debit   Travel\n",
       "1750   2/18/2019                   princess   42.00            debit   Travel\n",
       "2827   1/21/2018               loves_travel   16.63            debit   Travel\n",
       "3587   6/08/2017                  itr_tolls    2.10            debit   Travel\n",
       "3592   6/07/2017                  itr_tolls    2.10            debit   Travel\n",
       "3593   6/07/2017           itr_lake_station    0.90            debit   Travel\n",
       "3779   4/14/2017                      costa   33.55            debit   Travel\n",
       "5640   9/30/2015             e-z_rent_a_car   67.87            debit   Travel\n",
       "5646   9/29/2015      united_pacific_denver   29.05            debit   Travel\n",
       "5693   9/09/2015                    expedia    8.00            debit   Travel\n",
       "5710   8/31/2015  inst_xfer_-emma's_wedding   65.00            debit   Travel\n",
       "5820   7/20/2015              inst_xfer_com  124.00            debit   Travel\n",
       "5838   7/10/2015                     rental   55.31            debit   Travel\n",
       "5856   5/27/2015     northside_college_prep   60.00            debit   Travel\n",
       "5946   4/01/2015                      coach   57.50            debit   Travel\n",
       "6150  11/18/2014          ventra_website_il    5.00            debit   Travel\n",
       "6262  10/07/2014        coachusa_megabus_nj   70.00            debit   Travel\n",
       "6372   8/18/2014      sncf_goussainvillefra   26.36            debit   Travel\n",
       "6449   7/11/2014                       usps    2.32            debit   Travel\n",
       "6452   7/11/2014                       usps   11.20            debit   Travel\n",
       "6456   7/11/2014          pai_iso-visa_cash  142.00            debit   Travel\n",
       "6788   9/03/2013                       bank   65.00            debit   Travel\n",
       "7219   1/24/2013                   passport  110.00            debit   Travel\n",
       "7346  11/26/2012                      check   75.00            debit   Travel\n",
       "7452  10/06/2012              four_brothers   30.02            debit   Travel\n",
       "7529   9/09/2012                   american  181.60            debit   Travel\n",
       "7671   6/13/2011   vanco_1798_robson_street   41.28            debit   Travel\n",
       "7672   6/10/2011          cambie_hostel_gan   43.31            debit   Travel\n",
       "7675   6/08/2011            sea_tac_baggage   42.00            debit   Travel"
      ]
     },
     "execution_count": 76,
     "metadata": {},
     "output_type": "execute_result"
    }
   ],
   "source": [
    "transactions5[transactions5.category == 'Travel']"
   ]
  },
  {
   "cell_type": "code",
   "execution_count": 31,
   "id": "a153a5e0",
   "metadata": {},
   "outputs": [],
   "source": [
    "transactions5['description'] = transactions5['description'].str.strip()"
   ]
  },
  {
   "cell_type": "code",
   "execution_count": 36,
   "id": "044c43ce",
   "metadata": {
    "scrolled": false
   },
   "outputs": [],
   "source": [
    "transactions5['description'] = transactions5['description'].str.replace('[#,@,&,*, ,]', '_').str.lower()"
   ]
  },
  {
   "cell_type": "code",
   "execution_count": 37,
   "id": "720cfec8",
   "metadata": {},
   "outputs": [
    {
     "data": {
      "text/html": [
       "<div>\n",
       "<style scoped>\n",
       "    .dataframe tbody tr th:only-of-type {\n",
       "        vertical-align: middle;\n",
       "    }\n",
       "\n",
       "    .dataframe tbody tr th {\n",
       "        vertical-align: top;\n",
       "    }\n",
       "\n",
       "    .dataframe thead th {\n",
       "        text-align: right;\n",
       "    }\n",
       "</style>\n",
       "<table border=\"1\" class=\"dataframe\">\n",
       "  <thead>\n",
       "    <tr style=\"text-align: right;\">\n",
       "      <th></th>\n",
       "      <th>date</th>\n",
       "      <th>description</th>\n",
       "      <th>amount</th>\n",
       "      <th>transaction_type</th>\n",
       "      <th>category</th>\n",
       "    </tr>\n",
       "  </thead>\n",
       "  <tbody>\n",
       "    <tr>\n",
       "      <th>0</th>\n",
       "      <td>6/29/2022</td>\n",
       "      <td>deposit_mobile</td>\n",
       "      <td>206.25</td>\n",
       "      <td>credit</td>\n",
       "      <td>Transfer</td>\n",
       "    </tr>\n",
       "    <tr>\n",
       "      <th>1</th>\n",
       "      <td>6/28/2022</td>\n",
       "      <td>matthews_vet_services__p</td>\n",
       "      <td>13.20</td>\n",
       "      <td>debit</td>\n",
       "      <td>Veterinary</td>\n",
       "    </tr>\n",
       "    <tr>\n",
       "      <th>2</th>\n",
       "      <td>6/28/2022</td>\n",
       "      <td>starbucks_store_24306</td>\n",
       "      <td>5.57</td>\n",
       "      <td>debit</td>\n",
       "      <td>Coffee Shops</td>\n",
       "    </tr>\n",
       "    <tr>\n",
       "      <th>3</th>\n",
       "      <td>6/28/2022</td>\n",
       "      <td>paypal__hulu</td>\n",
       "      <td>14.16</td>\n",
       "      <td>debit</td>\n",
       "      <td>Television</td>\n",
       "    </tr>\n",
       "    <tr>\n",
       "      <th>4</th>\n",
       "      <td>6/28/2022</td>\n",
       "      <td>h-e-b__618</td>\n",
       "      <td>20.56</td>\n",
       "      <td>debit</td>\n",
       "      <td>Groceries</td>\n",
       "    </tr>\n",
       "    <tr>\n",
       "      <th>...</th>\n",
       "      <td>...</td>\n",
       "      <td>...</td>\n",
       "      <td>...</td>\n",
       "      <td>...</td>\n",
       "      <td>...</td>\n",
       "    </tr>\n",
       "    <tr>\n",
       "      <th>7867</th>\n",
       "      <td>8/07/2010</td>\n",
       "      <td>ultra_foods_qps</td>\n",
       "      <td>17.84</td>\n",
       "      <td>debit</td>\n",
       "      <td>Food &amp; Dining</td>\n",
       "    </tr>\n",
       "    <tr>\n",
       "      <th>7868</th>\n",
       "      <td>8/07/2010</td>\n",
       "      <td>pennys_noodle_shop</td>\n",
       "      <td>26.42</td>\n",
       "      <td>debit</td>\n",
       "      <td>Restaurants</td>\n",
       "    </tr>\n",
       "    <tr>\n",
       "      <th>7869</th>\n",
       "      <td>8/05/2010</td>\n",
       "      <td>amazon_music</td>\n",
       "      <td>5.00</td>\n",
       "      <td>debit</td>\n",
       "      <td>Music</td>\n",
       "    </tr>\n",
       "    <tr>\n",
       "      <th>7870</th>\n",
       "      <td>8/05/2010</td>\n",
       "      <td>calling_card</td>\n",
       "      <td>20.00</td>\n",
       "      <td>debit</td>\n",
       "      <td>Gift</td>\n",
       "    </tr>\n",
       "    <tr>\n",
       "      <th>7871</th>\n",
       "      <td>7/31/2010</td>\n",
       "      <td>usaa_com_pmt</td>\n",
       "      <td>241.81</td>\n",
       "      <td>credit</td>\n",
       "      <td>Credit Card Payment</td>\n",
       "    </tr>\n",
       "  </tbody>\n",
       "</table>\n",
       "<p>7797 rows × 5 columns</p>\n",
       "</div>"
      ],
      "text/plain": [
       "           date               description  amount transaction_type  \\\n",
       "0     6/29/2022            deposit_mobile  206.25           credit   \n",
       "1     6/28/2022  matthews_vet_services__p   13.20            debit   \n",
       "2     6/28/2022     starbucks_store_24306    5.57            debit   \n",
       "3     6/28/2022              paypal__hulu   14.16            debit   \n",
       "4     6/28/2022                h-e-b__618   20.56            debit   \n",
       "...         ...                       ...     ...              ...   \n",
       "7867  8/07/2010           ultra_foods_qps   17.84            debit   \n",
       "7868  8/07/2010        pennys_noodle_shop   26.42            debit   \n",
       "7869  8/05/2010              amazon_music    5.00            debit   \n",
       "7870  8/05/2010              calling_card   20.00            debit   \n",
       "7871  7/31/2010              usaa_com_pmt  241.81           credit   \n",
       "\n",
       "                 category  \n",
       "0                Transfer  \n",
       "1              Veterinary  \n",
       "2            Coffee Shops  \n",
       "3              Television  \n",
       "4               Groceries  \n",
       "...                   ...  \n",
       "7867        Food & Dining  \n",
       "7868          Restaurants  \n",
       "7869                Music  \n",
       "7870                 Gift  \n",
       "7871  Credit Card Payment  \n",
       "\n",
       "[7797 rows x 5 columns]"
      ]
     },
     "execution_count": 37,
     "metadata": {},
     "output_type": "execute_result"
    }
   ],
   "source": [
    "transactions5"
   ]
  },
  {
   "cell_type": "code",
   "execution_count": 38,
   "id": "d0f130eb",
   "metadata": {},
   "outputs": [],
   "source": [
    "transactions5['description'] = transactions5['description'].str.replace('__', '_')"
   ]
  },
  {
   "cell_type": "code",
   "execution_count": 39,
   "id": "b3df935c",
   "metadata": {},
   "outputs": [
    {
     "data": {
      "text/html": [
       "<div>\n",
       "<style scoped>\n",
       "    .dataframe tbody tr th:only-of-type {\n",
       "        vertical-align: middle;\n",
       "    }\n",
       "\n",
       "    .dataframe tbody tr th {\n",
       "        vertical-align: top;\n",
       "    }\n",
       "\n",
       "    .dataframe thead th {\n",
       "        text-align: right;\n",
       "    }\n",
       "</style>\n",
       "<table border=\"1\" class=\"dataframe\">\n",
       "  <thead>\n",
       "    <tr style=\"text-align: right;\">\n",
       "      <th></th>\n",
       "      <th>date</th>\n",
       "      <th>description</th>\n",
       "      <th>amount</th>\n",
       "      <th>transaction_type</th>\n",
       "      <th>category</th>\n",
       "    </tr>\n",
       "  </thead>\n",
       "  <tbody>\n",
       "    <tr>\n",
       "      <th>0</th>\n",
       "      <td>6/29/2022</td>\n",
       "      <td>deposit_mobile</td>\n",
       "      <td>206.25</td>\n",
       "      <td>credit</td>\n",
       "      <td>Transfer</td>\n",
       "    </tr>\n",
       "    <tr>\n",
       "      <th>1</th>\n",
       "      <td>6/28/2022</td>\n",
       "      <td>matthews_vet_services_p</td>\n",
       "      <td>13.20</td>\n",
       "      <td>debit</td>\n",
       "      <td>Veterinary</td>\n",
       "    </tr>\n",
       "    <tr>\n",
       "      <th>2</th>\n",
       "      <td>6/28/2022</td>\n",
       "      <td>starbucks_store_24306</td>\n",
       "      <td>5.57</td>\n",
       "      <td>debit</td>\n",
       "      <td>Coffee Shops</td>\n",
       "    </tr>\n",
       "    <tr>\n",
       "      <th>3</th>\n",
       "      <td>6/28/2022</td>\n",
       "      <td>paypal_hulu</td>\n",
       "      <td>14.16</td>\n",
       "      <td>debit</td>\n",
       "      <td>Television</td>\n",
       "    </tr>\n",
       "    <tr>\n",
       "      <th>4</th>\n",
       "      <td>6/28/2022</td>\n",
       "      <td>h-e-b_618</td>\n",
       "      <td>20.56</td>\n",
       "      <td>debit</td>\n",
       "      <td>Groceries</td>\n",
       "    </tr>\n",
       "    <tr>\n",
       "      <th>...</th>\n",
       "      <td>...</td>\n",
       "      <td>...</td>\n",
       "      <td>...</td>\n",
       "      <td>...</td>\n",
       "      <td>...</td>\n",
       "    </tr>\n",
       "    <tr>\n",
       "      <th>7867</th>\n",
       "      <td>8/07/2010</td>\n",
       "      <td>ultra_foods_qps</td>\n",
       "      <td>17.84</td>\n",
       "      <td>debit</td>\n",
       "      <td>Food &amp; Dining</td>\n",
       "    </tr>\n",
       "    <tr>\n",
       "      <th>7868</th>\n",
       "      <td>8/07/2010</td>\n",
       "      <td>pennys_noodle_shop</td>\n",
       "      <td>26.42</td>\n",
       "      <td>debit</td>\n",
       "      <td>Restaurants</td>\n",
       "    </tr>\n",
       "    <tr>\n",
       "      <th>7869</th>\n",
       "      <td>8/05/2010</td>\n",
       "      <td>amazon_music</td>\n",
       "      <td>5.00</td>\n",
       "      <td>debit</td>\n",
       "      <td>Music</td>\n",
       "    </tr>\n",
       "    <tr>\n",
       "      <th>7870</th>\n",
       "      <td>8/05/2010</td>\n",
       "      <td>calling_card</td>\n",
       "      <td>20.00</td>\n",
       "      <td>debit</td>\n",
       "      <td>Gift</td>\n",
       "    </tr>\n",
       "    <tr>\n",
       "      <th>7871</th>\n",
       "      <td>7/31/2010</td>\n",
       "      <td>usaa_com_pmt</td>\n",
       "      <td>241.81</td>\n",
       "      <td>credit</td>\n",
       "      <td>Credit Card Payment</td>\n",
       "    </tr>\n",
       "  </tbody>\n",
       "</table>\n",
       "<p>7797 rows × 5 columns</p>\n",
       "</div>"
      ],
      "text/plain": [
       "           date              description  amount transaction_type  \\\n",
       "0     6/29/2022           deposit_mobile  206.25           credit   \n",
       "1     6/28/2022  matthews_vet_services_p   13.20            debit   \n",
       "2     6/28/2022    starbucks_store_24306    5.57            debit   \n",
       "3     6/28/2022              paypal_hulu   14.16            debit   \n",
       "4     6/28/2022                h-e-b_618   20.56            debit   \n",
       "...         ...                      ...     ...              ...   \n",
       "7867  8/07/2010          ultra_foods_qps   17.84            debit   \n",
       "7868  8/07/2010       pennys_noodle_shop   26.42            debit   \n",
       "7869  8/05/2010             amazon_music    5.00            debit   \n",
       "7870  8/05/2010             calling_card   20.00            debit   \n",
       "7871  7/31/2010             usaa_com_pmt  241.81           credit   \n",
       "\n",
       "                 category  \n",
       "0                Transfer  \n",
       "1              Veterinary  \n",
       "2            Coffee Shops  \n",
       "3              Television  \n",
       "4               Groceries  \n",
       "...                   ...  \n",
       "7867        Food & Dining  \n",
       "7868          Restaurants  \n",
       "7869                Music  \n",
       "7870                 Gift  \n",
       "7871  Credit Card Payment  \n",
       "\n",
       "[7797 rows x 5 columns]"
      ]
     },
     "execution_count": 39,
     "metadata": {},
     "output_type": "execute_result"
    }
   ],
   "source": [
    "transactions5"
   ]
  },
  {
   "cell_type": "code",
   "execution_count": 50,
   "id": "507c2b3c",
   "metadata": {
    "scrolled": false
   },
   "outputs": [
    {
     "data": {
      "text/plain": [
       "array(['Transfer', 'Veterinary', 'Coffee Shops', 'Television',\n",
       "       'Groceries', 'Shipping', 'Entertainment', 'Interest Income',\n",
       "       'Restaurants', 'Gas & Fuel', 'Vacation', 'Shopping', 'Fast Food',\n",
       "       'Charity', 'Travel', 'Business Services', 'Income',\n",
       "       'Auto Insurance', 'Utilities', 'Alcohol & Bars',\n",
       "       'Credit Card Payment', 'Newspapers & Magazines', 'Paycheck',\n",
       "       'Parking', 'Internet', 'Clothing', 'Cash & ATM',\n",
       "       'Electronics & Software', 'Air Travel', 'Pharmacy', 'Doctor',\n",
       "       'Mortgage & Rent', 'Health & Fitness', 'Check',\n",
       "       'Pet Food & Supplies', 'Books & Supplies', 'Uncategorized',\n",
       "       'Furnishings', 'Gifts & Donations', 'Life Insurance',\n",
       "       'Auto Payment', 'Rental Car & Taxi', 'Books', 'Laundry', 'Gift',\n",
       "       'Ride Share', 'Service & Parts', 'Mobile Phone', 'Federal Tax',\n",
       "       'Taxes', 'Education', 'Misc Expenses', 'Hotel',\n",
       "       'Bills & Utilities', 'Service Fee', 'ATM Fee', 'Fees & Charges',\n",
       "       'Tuition', 'Personal Care', 'Hobbies', 'Food & Dining', 'Gym',\n",
       "       'Financial', 'Hair', 'Loan Payment', 'Movies & DVDs', 'Dentist',\n",
       "       'Kids Activities', 'Loans', 'Spa & Massage',\n",
       "       'Public Transportation', 'Home Improvement', 'Home Phone',\n",
       "       'Office Supplies', 'Home Supplies', 'Investments', 'Bank Fee',\n",
       "       'Auto & Transport', 'Music', 'Legal', 'Arts', 'Loan Interest',\n",
       "       'Loan Principal', 'Sports', 'Lawn & Garden',\n",
       "       'Babysitter & Daycare', 'Reimbursement', 'State Tax',\n",
       "       'Sporting Goods', 'Student Loan', 'Wedding', 'Counseling',\n",
       "       'Taxi/Uber', 'Printing', 'Hide from Budgets & Trends', 'Amusement',\n",
       "       'Calling Card', 'CSA Membership', 'Arsene Allowance',\n",
       "       'Piano Lessons', 'Emily Allowance', 'Transfer for Cash Spending',\n",
       "       'Home Services', 'Home', 'Arsene', 'Finance Charge',\n",
       "       'Health Insurance', 'Beatrice', 'Spilt with Roommates', 'Deposit',\n",
       "       'Late Fee'], dtype=object)"
      ]
     },
     "execution_count": 50,
     "metadata": {},
     "output_type": "execute_result"
    }
   ],
   "source": [
    "# Displaying the list of unique values of category\n",
    "\n",
    "transactions5['category'].unique()"
   ]
  },
  {
   "cell_type": "markdown",
   "id": "34487868",
   "metadata": {},
   "source": [
    ">**Many categories can be grouped into one**\n",
    "\n",
    "        - Income and paycheck\n",
    "        - Rental Car & Taxi and Ride Share and Taxi/Uber\n",
    "        - Food & Dining and Restaurants\n",
    "        - Arsene Allowance and Emily Allowance and Uncategorized and Misc Expenses \n",
    "        - Cash & ATM and Transfer for Cash Spending and Transfer\n",
    "        - Late Fee and Fees & Charges and ATM Fee and Service Fee and Spilt with Roommates \n",
    "        - Federal Tax and Taxes\n",
    "        - Health & Fitness and Gym"
   ]
  },
  {
   "cell_type": "code",
   "execution_count": 51,
   "id": "cb1d6e6b",
   "metadata": {},
   "outputs": [],
   "source": [
    "transactions5.replace(to_replace=['Paycheck'], value='Income', inplace=True)\n",
    "transactions5.replace(to_replace=['Rental Car & Taxi', 'Ride Share', 'Taxi/Uber'], value='Taxi', inplace=True)\n",
    "transactions5.replace(to_replace=['Food & Dining'], value='Restaurants', inplace=True)\n",
    "transactions5.replace(to_replace=['Arsene Allowance',\n",
    "                                  'Emily Allowance',\n",
    "                                  'Uncategorized'], value='Miscellaneous', inplace=True)\n",
    "transactions5.replace(to_replace=['Cash & ATM',\n",
    "                                  'Transfer for Cash Spending', 'Transfer'], value='Cash', inplace=True)\n",
    "transactions5.replace(to_replace=['Late Fee',\n",
    "                                  'Fees & Charges',\n",
    "                                  'ATM Fee', 'Service Fee', 'Spilt with Roommates'], value='Fees', inplace=True)\n",
    "transactions5.replace(to_replace=['Federal Tax'], value='Taxes', inplace=True)\n",
    "transactions5.replace(to_replace=['Health & Fitness', 'Gym'], value='Health_and_Fitness', inplace=True)"
   ]
  },
  {
   "cell_type": "code",
   "execution_count": 62,
   "id": "d4cf0e51",
   "metadata": {},
   "outputs": [
    {
     "data": {
      "text/plain": [
       "97"
      ]
     },
     "execution_count": 62,
     "metadata": {},
     "output_type": "execute_result"
    }
   ],
   "source": [
    "transactions5['category'].nunique()"
   ]
  },
  {
   "cell_type": "code",
   "execution_count": 61,
   "id": "0418dfe3",
   "metadata": {},
   "outputs": [
    {
     "data": {
      "text/plain": [
       "array(['Cash', 'Veterinary', 'Coffee Shops', 'Television', 'Groceries',\n",
       "       'Shipping', 'Entertainment', 'Interest Income', 'Restaurants',\n",
       "       'Gas & Fuel', 'Vacation', 'Shopping', 'Fast Food', 'Charity',\n",
       "       'Travel', 'Business Services', 'Income', 'Auto Insurance',\n",
       "       'Utilities', 'Alcohol & Bars', 'Credit Card Payment',\n",
       "       'Newspapers & Magazines', 'Parking', 'Internet', 'Clothing',\n",
       "       'Electronics & Software', 'Air Travel', 'Pharmacy', 'Doctor',\n",
       "       'Mortgage & Rent', 'Health_and_Fitness', 'Check',\n",
       "       'Pet Food & Supplies', 'Books & Supplies', 'Miscellaneous',\n",
       "       'Furnishings', 'Gifts & Donations', 'Life Insurance',\n",
       "       'Auto Payment', 'Taxi', 'Books', 'Laundry', 'Gift',\n",
       "       'Service & Parts', 'Mobile Phone', 'Taxes', 'Education',\n",
       "       'Misc Expenses', 'Hotel', 'Bills & Utilities', 'Fees', 'Tuition',\n",
       "       'Personal Care', 'Hobbies', 'Financial', 'Hair', 'Loan Payment',\n",
       "       'Movies & DVDs', 'Dentist', 'Kids Activities', 'Loans',\n",
       "       'Spa & Massage', 'Public Transportation', 'Home Improvement',\n",
       "       'Home Phone', 'Office Supplies', 'Home Supplies', 'Investments',\n",
       "       'Bank Fee', 'Auto & Transport', 'Music', 'Legal', 'Arts',\n",
       "       'Loan Interest', 'Loan Principal', 'Sports', 'Lawn & Garden',\n",
       "       'Babysitter & Daycare', 'Reimbursement', 'State Tax',\n",
       "       'Sporting Goods', 'Student Loan', 'Wedding', 'Counseling',\n",
       "       'Printing', 'Hide from Budgets & Trends', 'Amusement',\n",
       "       'Calling Card', 'CSA Membership', 'Piano Lessons', 'Home Services',\n",
       "       'Home', 'Arsene', 'Finance Charge', 'Health Insurance', 'Beatrice',\n",
       "       'Deposit'], dtype=object)"
      ]
     },
     "execution_count": 61,
     "metadata": {},
     "output_type": "execute_result"
    }
   ],
   "source": [
    "transactions5['category'].unique()"
   ]
  },
  {
   "cell_type": "markdown",
   "id": "75ff59da",
   "metadata": {},
   "source": [
    ">**More groupings are possible**\n",
    "\n",
    "        - Entertainment and Hobbies and Movies & DVDs and Amusement and Music and Art and CSA Membership and Piano Lessons and Sports and Television and Sporting Goods\n",
    "        - Kids Activities and Babysitter & Daycare and Gifts & Donations and Charity and Arsene and Gift and Beatrice\n",
    "        - Hide from Budgets & Trends and Fees and Business Services and Bank Fee and Finance Charge and Financial and Check and Shipping and Printing and Electronics & Software\n",
    "        - Air Travel and Vacation and Hotel\n",
    "        - Pharmacy and Dentist and Doctor and Counseling and Health Insurance\n",
    "        - Auto & Transport and Service & Parts and Parking\n",
    "        - Lawn & Garden and Home Improvement and Home Supplies and Home Services and Home and Furnishings\n",
    "        - Alcohol & Bars and Restaurants and Coffee Shops and Fast Food\n",
    "        - Books and Newspapers & Magazines and Books & Supplies\n",
    "        - Bills & Utilities and Utilities and Calling Card and Mobile Phone and Home Phone and Internet\n",
    "        - Pet Food & Supplies and Veterinary\n",
    "        - Clothing and Shopping and Hair and Personal Care and Laundry\n",
    "        - Tuition and Education\n",
    "        - Misc Expenses and Miscellaneous\n",
    "        - Loan Payment and Loans and Loan Interest and Loan Principal and Student Loan"
   ]
  },
  {
   "cell_type": "code",
   "execution_count": 72,
   "id": "b36700d3",
   "metadata": {},
   "outputs": [],
   "source": [
    "transactions5.replace(to_replace=['Entertainment',\n",
    "                                  'Hobbies',\n",
    "                                  'Movies & DVDs',\n",
    "                                  'Amusement',\n",
    "                                  'Music',\n",
    "                                  'Art',\n",
    "                                  'CSA Membership',\n",
    "                                  'Piano Lessons',\n",
    "                                  'Sports',\n",
    "                                  'Television', 'Sporting Goods'],\n",
    "                                  value='Entertainment_and_Sports', inplace=True)\n",
    "transactions5.replace(to_replace=['Kids Activities',\n",
    "                                  'Babysitter & Daycare',\n",
    "                                  'Gifts & Donations',\n",
    "                                  'Charity',\n",
    "                                  'Arsene',\n",
    "                                  'Gift', 'Beatrice'], value='Donations_and_Gifts', inplace=True)\n",
    "transactions5.replace(to_replace=['Hide from Budgets & Trends',\n",
    "                                  'Business Services',\n",
    "                                  'Bank Fee',\n",
    "                                  'Legal',\n",
    "                                  'Finance Charge',\n",
    "                                  'Financial', 'Check',\n",
    "                                  'Electronics & Software',\n",
    "                                  'Printing', 'Shipping'], value='Services_Fees', inplace=True)\n",
    "transactions5.replace(to_replace=['Air Travel', 'Hotel'], value='Vacation', inplace=True)\n",
    "transactions5.replace(to_replace=['Pharmacy',\n",
    "                                  'Dentist',\n",
    "                                  'Doctor',\n",
    "                                  'Counseling',\n",
    "                                  'Health Insurance'], value='Health', inplace=True)\n",
    "transactions5.replace(to_replace=['Auto & Transport',\n",
    "                                  'Service & Parts', 'Parking'], value='Auto_Fees', inplace=True)\n",
    "transactions5.replace(to_replace=['Lawn & Garden',\n",
    "                                  'Home Improvement',\n",
    "                                  'Home Supplies',\n",
    "                                  'Home Services',\n",
    "                                  'Home', 'Furnishings'], value='Home_Improvement', inplace=True)\n",
    "transactions5.replace(to_replace=['Alcohol & Bars',\n",
    "                                  'Restaurants',\n",
    "                                  'Coffee Shops', 'Fast Food'], value='Outings', inplace=True)\n",
    "transactions5.replace(to_replace=['Books',\n",
    "                                  'Newspapers & Magazines',\n",
    "                                  'Books & Supplies'], value='Books_and_Newspapers', inplace=True)\n",
    "transactions5.replace(to_replace=['Bills & Utilities',\n",
    "                                  'Utilities',\n",
    "                                  'Calling Card',\n",
    "                                  'Mobile Phone',\n",
    "                                  'Home Phone', 'Internet'], value='Bills_and_Utilities', inplace=True)\n",
    "transactions5.replace(to_replace=['Pet Food & Supplies',\n",
    "                                  'Veterinary'], value='Pet', inplace=True)\n",
    "transactions5.replace(to_replace=['Clothing',\n",
    "                                  'Shopping',\n",
    "                                  'Hair',\n",
    "                                  'Personal Care',\n",
    "                                  'Laundry'], value='Care_and_Shopping', inplace=True)\n",
    "transactions5.replace(to_replace=['Tuition'], value='Education', inplace=True)\n",
    "transactions5.replace(to_replace=['Misc Expenses'], value='Miscellaneous', inplace=True)\n",
    "transactions5.replace(to_replace=['Loan Payment',\n",
    "                                  'Loan Interest',\n",
    "                                  'Loan Principal',\n",
    "                                  'Student Loan'], value='Loans', inplace=True)"
   ]
  },
  {
   "cell_type": "code",
   "execution_count": 73,
   "id": "a436ce11",
   "metadata": {},
   "outputs": [
    {
     "data": {
      "text/plain": [
       "39"
      ]
     },
     "execution_count": 73,
     "metadata": {},
     "output_type": "execute_result"
    }
   ],
   "source": [
    "transactions5['category'].nunique()"
   ]
  },
  {
   "cell_type": "code",
   "execution_count": 74,
   "id": "4011a1b2",
   "metadata": {},
   "outputs": [
    {
     "data": {
      "text/plain": [
       "array(['Cash', 'Pet', 'Outings', 'Entertainment_and_Sports', 'Groceries',\n",
       "       'Services_Fees', 'Interest Income', 'Gas & Fuel', 'Vacation',\n",
       "       'Care_and_Shopping', 'Donations_and_Gifts', 'Travel', 'Income',\n",
       "       'Auto Insurance', 'Bills_and_Utilities', 'Credit Card Payment',\n",
       "       'Books_and_Newspapers', 'Auto_Fees', 'Health', 'Mortgage & Rent',\n",
       "       'Health_and_Fitness', 'Miscellaneous', 'Home_Improvement',\n",
       "       'Life Insurance', 'Auto Payment', 'Taxi', 'Taxes', 'Education',\n",
       "       'Fees', 'Loans', 'Spa & Massage', 'Public Transportation',\n",
       "       'Office Supplies', 'Investments', 'Arts', 'Reimbursement',\n",
       "       'State Tax', 'Wedding', 'Deposit'], dtype=object)"
      ]
     },
     "execution_count": 74,
     "metadata": {},
     "output_type": "execute_result"
    }
   ],
   "source": [
    "transactions5['category'].unique()"
   ]
  },
  {
   "cell_type": "code",
   "execution_count": 80,
   "id": "61bf427f",
   "metadata": {},
   "outputs": [],
   "source": [
    "transactions5.replace(to_replace=['Auto Insurance', 'Auto Payment'], value='Auto_Payments', inplace=True)\n",
    "transactions5.replace(to_replace=['Spa & Massage'], value='Care_and_Shopping', inplace=True)\n",
    "transactions5.replace(to_replace=['Office Supplies',\n",
    "                                  'Books_and_Newspapers'], value='Books_and_Supplies', inplace=True)\n",
    "transactions5.replace(to_replace=['Arts'], value='Entertainment_and_Sports', inplace=True)\n",
    "transactions5.replace(to_replace=['State Tax'], value='Taxes', inplace=True)\n",
    "transactions5.replace(to_replace=['Vacation'], value='Travel', inplace=True)\n",
    "transactions5.replace(to_replace=['Gas & Fuel'], value='Gas', inplace=True)"
   ]
  },
  {
   "cell_type": "code",
   "execution_count": 81,
   "id": "48f31069",
   "metadata": {},
   "outputs": [
    {
     "data": {
      "text/plain": [
       "33"
      ]
     },
     "execution_count": 81,
     "metadata": {},
     "output_type": "execute_result"
    }
   ],
   "source": [
    "transactions5['category'].nunique()"
   ]
  },
  {
   "cell_type": "code",
   "execution_count": 82,
   "id": "544b02c4",
   "metadata": {},
   "outputs": [
    {
     "data": {
      "text/plain": [
       "array(['Cash', 'Pet', 'Outings', 'Entertainment_and_Sports', 'Groceries',\n",
       "       'Services_Fees', 'Interest Income', 'Gas', 'Travel',\n",
       "       'Care_and_Shopping', 'Donations_and_Gifts', 'Income',\n",
       "       'Auto_Payments', 'Bills_and_Utilities', 'Credit Card Payment',\n",
       "       'Books_and_Supplies', 'Auto_Fees', 'Health', 'Mortgage & Rent',\n",
       "       'Health_and_Fitness', 'Miscellaneous', 'Home_Improvement',\n",
       "       'Life Insurance', 'Taxi', 'Taxes', 'Education', 'Fees', 'Loans',\n",
       "       'Public Transportation', 'Investments', 'Reimbursement', 'Wedding',\n",
       "       'Deposit'], dtype=object)"
      ]
     },
     "execution_count": 82,
     "metadata": {},
     "output_type": "execute_result"
    }
   ],
   "source": [
    "transactions5['category'].unique()"
   ]
  },
  {
   "cell_type": "code",
   "execution_count": 83,
   "id": "ef3f4ce5",
   "metadata": {},
   "outputs": [
    {
     "data": {
      "text/html": [
       "<div>\n",
       "<style scoped>\n",
       "    .dataframe tbody tr th:only-of-type {\n",
       "        vertical-align: middle;\n",
       "    }\n",
       "\n",
       "    .dataframe tbody tr th {\n",
       "        vertical-align: top;\n",
       "    }\n",
       "\n",
       "    .dataframe thead th {\n",
       "        text-align: right;\n",
       "    }\n",
       "</style>\n",
       "<table border=\"1\" class=\"dataframe\">\n",
       "  <thead>\n",
       "    <tr style=\"text-align: right;\">\n",
       "      <th></th>\n",
       "      <th>date</th>\n",
       "      <th>description</th>\n",
       "      <th>amount</th>\n",
       "      <th>transaction_type</th>\n",
       "      <th>category</th>\n",
       "    </tr>\n",
       "  </thead>\n",
       "  <tbody>\n",
       "    <tr>\n",
       "      <th>0</th>\n",
       "      <td>6/29/2022</td>\n",
       "      <td>deposit_mobile</td>\n",
       "      <td>206.25</td>\n",
       "      <td>credit</td>\n",
       "      <td>Cash</td>\n",
       "    </tr>\n",
       "    <tr>\n",
       "      <th>1</th>\n",
       "      <td>6/28/2022</td>\n",
       "      <td>matthews_vet_services_p</td>\n",
       "      <td>13.20</td>\n",
       "      <td>debit</td>\n",
       "      <td>Pet</td>\n",
       "    </tr>\n",
       "    <tr>\n",
       "      <th>2</th>\n",
       "      <td>6/28/2022</td>\n",
       "      <td>starbucks_store_24306</td>\n",
       "      <td>5.57</td>\n",
       "      <td>debit</td>\n",
       "      <td>Outings</td>\n",
       "    </tr>\n",
       "    <tr>\n",
       "      <th>3</th>\n",
       "      <td>6/28/2022</td>\n",
       "      <td>paypal_hulu</td>\n",
       "      <td>14.16</td>\n",
       "      <td>debit</td>\n",
       "      <td>Entertainment_and_Sports</td>\n",
       "    </tr>\n",
       "    <tr>\n",
       "      <th>4</th>\n",
       "      <td>6/28/2022</td>\n",
       "      <td>h-e-b_618</td>\n",
       "      <td>20.56</td>\n",
       "      <td>debit</td>\n",
       "      <td>Groceries</td>\n",
       "    </tr>\n",
       "  </tbody>\n",
       "</table>\n",
       "</div>"
      ],
      "text/plain": [
       "        date              description  amount transaction_type  \\\n",
       "0  6/29/2022           deposit_mobile  206.25           credit   \n",
       "1  6/28/2022  matthews_vet_services_p   13.20            debit   \n",
       "2  6/28/2022    starbucks_store_24306    5.57            debit   \n",
       "3  6/28/2022              paypal_hulu   14.16            debit   \n",
       "4  6/28/2022                h-e-b_618   20.56            debit   \n",
       "\n",
       "                   category  \n",
       "0                      Cash  \n",
       "1                       Pet  \n",
       "2                   Outings  \n",
       "3  Entertainment_and_Sports  \n",
       "4                 Groceries  "
      ]
     },
     "execution_count": 83,
     "metadata": {},
     "output_type": "execute_result"
    }
   ],
   "source": [
    "transactions5.head()"
   ]
  },
  {
   "cell_type": "code",
   "execution_count": 85,
   "id": "70b49780",
   "metadata": {},
   "outputs": [],
   "source": [
    "# Setting the date column to a datetime type\n",
    "\n",
    "transactions5.date = pd.to_datetime(transactions5.date)"
   ]
  },
  {
   "cell_type": "code",
   "execution_count": 86,
   "id": "1473ed2a",
   "metadata": {},
   "outputs": [],
   "source": [
    "transactions = transactions5.set_index('date').sort_index()"
   ]
  },
  {
   "cell_type": "code",
   "execution_count": 87,
   "id": "186b9544",
   "metadata": {},
   "outputs": [
    {
     "data": {
      "text/html": [
       "<div>\n",
       "<style scoped>\n",
       "    .dataframe tbody tr th:only-of-type {\n",
       "        vertical-align: middle;\n",
       "    }\n",
       "\n",
       "    .dataframe tbody tr th {\n",
       "        vertical-align: top;\n",
       "    }\n",
       "\n",
       "    .dataframe thead th {\n",
       "        text-align: right;\n",
       "    }\n",
       "</style>\n",
       "<table border=\"1\" class=\"dataframe\">\n",
       "  <thead>\n",
       "    <tr style=\"text-align: right;\">\n",
       "      <th></th>\n",
       "      <th>description</th>\n",
       "      <th>amount</th>\n",
       "      <th>transaction_type</th>\n",
       "      <th>category</th>\n",
       "    </tr>\n",
       "    <tr>\n",
       "      <th>date</th>\n",
       "      <th></th>\n",
       "      <th></th>\n",
       "      <th></th>\n",
       "      <th></th>\n",
       "    </tr>\n",
       "  </thead>\n",
       "  <tbody>\n",
       "    <tr>\n",
       "      <th>2010-07-31</th>\n",
       "      <td>usaa_com_pmt</td>\n",
       "      <td>241.81</td>\n",
       "      <td>credit</td>\n",
       "      <td>Credit Card Payment</td>\n",
       "    </tr>\n",
       "    <tr>\n",
       "      <th>2010-08-05</th>\n",
       "      <td>calling_card</td>\n",
       "      <td>20.00</td>\n",
       "      <td>debit</td>\n",
       "      <td>Donations_and_Gifts</td>\n",
       "    </tr>\n",
       "    <tr>\n",
       "      <th>2010-08-05</th>\n",
       "      <td>amazon_music</td>\n",
       "      <td>5.00</td>\n",
       "      <td>debit</td>\n",
       "      <td>Entertainment_and_Sports</td>\n",
       "    </tr>\n",
       "    <tr>\n",
       "      <th>2010-08-07</th>\n",
       "      <td>marathon</td>\n",
       "      <td>12.01</td>\n",
       "      <td>debit</td>\n",
       "      <td>Gas</td>\n",
       "    </tr>\n",
       "    <tr>\n",
       "      <th>2010-08-07</th>\n",
       "      <td>pennys_noodle_shop</td>\n",
       "      <td>26.42</td>\n",
       "      <td>debit</td>\n",
       "      <td>Outings</td>\n",
       "    </tr>\n",
       "  </tbody>\n",
       "</table>\n",
       "</div>"
      ],
      "text/plain": [
       "                   description  amount transaction_type  \\\n",
       "date                                                      \n",
       "2010-07-31        usaa_com_pmt  241.81           credit   \n",
       "2010-08-05        calling_card   20.00            debit   \n",
       "2010-08-05        amazon_music    5.00            debit   \n",
       "2010-08-07            marathon   12.01            debit   \n",
       "2010-08-07  pennys_noodle_shop   26.42            debit   \n",
       "\n",
       "                            category  \n",
       "date                                  \n",
       "2010-07-31       Credit Card Payment  \n",
       "2010-08-05       Donations_and_Gifts  \n",
       "2010-08-05  Entertainment_and_Sports  \n",
       "2010-08-07                       Gas  \n",
       "2010-08-07                   Outings  "
      ]
     },
     "execution_count": 87,
     "metadata": {},
     "output_type": "execute_result"
    }
   ],
   "source": [
    "transactions.head()"
   ]
  },
  {
   "cell_type": "markdown",
   "id": "f4a9b569",
   "metadata": {},
   "source": [
    "# Explore"
   ]
  },
  {
   "cell_type": "markdown",
   "id": "df508b0b",
   "metadata": {},
   "source": [
    "**Because I am not going to model I will not split my data yet**"
   ]
  },
  {
   "cell_type": "code",
   "execution_count": null,
   "id": "029f3b04",
   "metadata": {},
   "outputs": [],
   "source": [
    "plt.rcParams[\"figure.figsize\"] = [17, 7]\n",
    "plt.rcParams[\"figure.autolayout\"] = True\n",
    "\n",
    "monthsFmt = mdates.DateFormatter('%B')\n",
    "yearsFmt = mdates.DateFormatter('\\n%Y')"
   ]
  },
  {
   "cell_type": "code",
   "execution_count": 163,
   "id": "af2fbcc6",
   "metadata": {},
   "outputs": [
    {
     "data": {
      "text/plain": [
       "<AxesSubplot:xlabel='date'>"
      ]
     },
     "execution_count": 163,
     "metadata": {},
     "output_type": "execute_result"
    },
    {
     "data": {
      "image/png": "[encoded data removed]",
      "text/plain": [
       "<Figure size 1224x504 with 1 Axes>"
      ]
     },
     "metadata": {},
     "output_type": "display_data"
    }
   ],
   "source": [
    "# Plotting expenses overtime by month\n",
    "\n",
    "transactions.resample('M').sum().plot(figsize=(17,7))"
   ]
  },
  {
   "cell_type": "code",
   "execution_count": 175,
   "id": "6af9c1c3",
   "metadata": {},
   "outputs": [
    {
     "data": {
      "application/vnd.plotly.v1+json": {
       "config": {
        "plotlyServerURL": "https://plot.ly"
       },
       "data": [
        {
         "hovertemplate": "date=%{x}<br>amount=%{y}<extra></extra>",
         "legendgroup": "",
         "line": {
          "color": "#636efa",
          "dash": "solid"
         },
         "marker": {
          "symbol": "circle"
         },
         "mode": "lines",
         "name": "",
         "orientation": "v",
         "showlegend": false,
         "type": "scatter",
         "x": [
          "2010-07-31T00:00:00",
          "2010-08-31T00:00:00",
          "2010-09-30T00:00:00",
          "2010-10-31T00:00:00",
          "2010-11-30T00:00:00",
          "2010-12-31T00:00:00",
          "2011-01-31T00:00:00",
          "2011-02-28T00:00:00",
          "2011-03-31T00:00:00",
          "2011-04-30T00:00:00",
          "2011-05-31T00:00:00",
          "2011-06-30T00:00:00",
          "2011-07-31T00:00:00",
          "2011-08-31T00:00:00",
          "2011-09-30T00:00:00",
          "2011-10-31T00:00:00",
          "2011-11-30T00:00:00",
          "2011-12-31T00:00:00",
          "2012-01-31T00:00:00",
          "2012-02-29T00:00:00",
          "2012-03-31T00:00:00",
          "2012-04-30T00:00:00",
          "2012-05-31T00:00:00",
          "2012-06-30T00:00:00",
          "2012-07-31T00:00:00",
          "2012-08-31T00:00:00",
          "2012-09-30T00:00:00",
          "2012-10-31T00:00:00",
          "2012-11-30T00:00:00",
          "2012-12-31T00:00:00",
          "2013-01-31T00:00:00",
          "2013-02-28T00:00:00",
          "2013-03-31T00:00:00",
          "2013-04-30T00:00:00",
          "2013-05-31T00:00:00",
          "2013-06-30T00:00:00",
          "2013-07-31T00:00:00",
          "2013-08-31T00:00:00",
          "2013-09-30T00:00:00",
          "2013-10-31T00:00:00",
          "2013-11-30T00:00:00",
          "2013-12-31T00:00:00",
          "2014-01-31T00:00:00",
          "2014-02-28T00:00:00",
          "2014-03-31T00:00:00",
          "2014-04-30T00:00:00",
          "2014-05-31T00:00:00",
          "2014-06-30T00:00:00",
          "2014-07-31T00:00:00",
          "2014-08-31T00:00:00",
          "2014-09-30T00:00:00",
          "2014-10-31T00:00:00",
          "2014-11-30T00:00:00",
          "2014-12-31T00:00:00",
          "2015-01-31T00:00:00",
          "2015-02-28T00:00:00",
          "2015-03-31T00:00:00",
          "2015-04-30T00:00:00",
          "2015-05-31T00:00:00",
          "2015-06-30T00:00:00",
          "2015-07-31T00:00:00",
          "2015-08-31T00:00:00",
          "2015-09-30T00:00:00",
          "2015-10-31T00:00:00",
          "2015-11-30T00:00:00",
          "2015-12-31T00:00:00",
          "2016-01-31T00:00:00",
          "2016-02-29T00:00:00",
          "2016-03-31T00:00:00",
          "2016-04-30T00:00:00",
          "2016-05-31T00:00:00",
          "2016-06-30T00:00:00",
          "2016-07-31T00:00:00",
          "2016-08-31T00:00:00",
          "2016-09-30T00:00:00",
          "2016-10-31T00:00:00",
          "2016-11-30T00:00:00",
          "2016-12-31T00:00:00",
          "2017-01-31T00:00:00",
          "2017-02-28T00:00:00",
          "2017-03-31T00:00:00",
          "2017-04-30T00:00:00",
          "2017-05-31T00:00:00",
          "2017-06-30T00:00:00",
          "2017-07-31T00:00:00",
          "2017-08-31T00:00:00",
          "2017-09-30T00:00:00",
          "2017-10-31T00:00:00",
          "2017-11-30T00:00:00",
          "2017-12-31T00:00:00",
          "2018-01-31T00:00:00",
          "2018-02-28T00:00:00",
          "2018-03-31T00:00:00",
          "2018-04-30T00:00:00",
          "2018-05-31T00:00:00",
          "2018-06-30T00:00:00",
          "2018-07-31T00:00:00",
          "2018-08-31T00:00:00",
          "2018-09-30T00:00:00",
          "2018-10-31T00:00:00",
          "2018-11-30T00:00:00",
          "2018-12-31T00:00:00",
          "2019-01-31T00:00:00",
          "2019-02-28T00:00:00",
          "2019-03-31T00:00:00",
          "2019-04-30T00:00:00",
          "2019-05-31T00:00:00",
          "2019-06-30T00:00:00",
          "2019-07-31T00:00:00",
          "2019-08-31T00:00:00",
          "2019-09-30T00:00:00",
          "2019-10-31T00:00:00",
          "2019-11-30T00:00:00",
          "2019-12-31T00:00:00",
          "2020-01-31T00:00:00",
          "2020-02-29T00:00:00",
          "2020-03-31T00:00:00",
          "2020-04-30T00:00:00",
          "2020-05-31T00:00:00",
          "2020-06-30T00:00:00",
          "2020-07-31T00:00:00",
          "2020-08-31T00:00:00",
          "2020-09-30T00:00:00",
          "2020-10-31T00:00:00",
          "2020-11-30T00:00:00",
          "2020-12-31T00:00:00",
          "2021-01-31T00:00:00",
          "2021-02-28T00:00:00",
          "2021-03-31T00:00:00",
          "2021-04-30T00:00:00",
          "2021-05-31T00:00:00",
          "2021-06-30T00:00:00",
          "2021-07-31T00:00:00",
          "2021-08-31T00:00:00",
          "2021-09-30T00:00:00",
          "2021-10-31T00:00:00",
          "2021-11-30T00:00:00",
          "2021-12-31T00:00:00",
          "2022-01-31T00:00:00",
          "2022-02-28T00:00:00",
          "2022-03-31T00:00:00",
          "2022-04-30T00:00:00",
          "2022-05-31T00:00:00",
          "2022-06-30T00:00:00"
         ],
         "xaxis": "x",
         "y": [
          241.81,
          309.99,
          1165.73,
          3395.32,
          2240.7799999999997,
          2975.19,
          2087.7,
          3321.29,
          2892.78,
          1184.77,
          4857.42,
          4653.23,
          2739.85,
          0,
          0,
          0,
          0,
          0,
          0,
          0,
          0,
          0,
          0,
          4.07,
          317.59000000000003,
          2352.9100000000003,
          12480.45,
          7102.67,
          7592.53,
          3850.95,
          6034.91,
          10258.289999999999,
          5251.85,
          5768.4400000000005,
          7605.650000000001,
          5307.75,
          5856.78,
          7150.3,
          4696.56,
          7517.93,
          7298.87,
          6195.06,
          5512.45,
          7849.379999999999,
          9658.17,
          2788.45,
          5476.39,
          12934.15,
          13457.88,
          3182.32,
          9638.4,
          13178.12,
          4155.99,
          3524.31,
          8054.3,
          8024.29,
          3083.46,
          3752.37,
          809.39,
          195.46,
          7614.14,
          8619.48,
          7745.61,
          4775.4400000000005,
          6791.92,
          14502.33,
          12689.08,
          14876.19,
          11763.07,
          9331.78,
          11332.2,
          10584.39,
          12421.84,
          12062.9,
          14791.83,
          13190.189999999999,
          18108.07,
          12947.12,
          21903.16,
          16371.050000000001,
          16809.59,
          13760.14,
          14627.82,
          17493.05,
          12138.82,
          30013.36,
          13358.54,
          16891.129999999997,
          15387.33,
          15966.08,
          7516.01,
          16716.63,
          18777.6,
          21599.63,
          24458.07,
          13772.85,
          13787.439999999999,
          9786.72,
          4740.33,
          6903.360000000001,
          2988.14,
          4547.6,
          1339.86,
          4624.8,
          3438.85,
          4124.78,
          3247.79,
          382.81,
          4157.25,
          4732.49,
          4388.820000000001,
          5643.87,
          4672.63,
          9189.22,
          6692.96,
          5306.7699999999995,
          5963.8099999999995,
          0,
          0,
          0,
          0,
          0,
          10394.06,
          15110.43,
          7057.4800000000005,
          56817.93,
          9345.45,
          12135.84,
          27389.86,
          11007.41,
          19730.18,
          8468.22,
          9280.14,
          14776.79,
          23280.21,
          35499.35,
          15509.15,
          10900.2,
          6208.5199999999995,
          2.68,
          11707.380000000001,
          30614.11,
          38120.96,
          15510.23
         ],
         "yaxis": "y"
        }
       ],
       "layout": {
        "legend": {
         "tracegroupgap": 0
        },
        "margin": {
         "t": 60
        },
        "template": {
         "data": {
          "bar": [
           {
            "error_x": {
             "color": "#2a3f5f"
            },
            "error_y": {
             "color": "#2a3f5f"
            },
            "marker": {
             "line": {
              "color": "#E5ECF6",
              "width": 0.5
             },
             "pattern": {
              "fillmode": "overlay",
              "size": 10,
              "solidity": 0.2
             }
            },
            "type": "bar"
           }
          ],
          "barpolar": [
           {
            "marker": {
             "line": {
              "color": "#E5ECF6",
              "width": 0.5
             },
             "pattern": {
              "fillmode": "overlay",
              "size": 10,
              "solidity": 0.2
             }
            },
            "type": "barpolar"
           }
          ],
          "carpet": [
           {
            "aaxis": {
             "endlinecolor": "#2a3f5f",
             "gridcolor": "white",
             "linecolor": "white",
             "minorgridcolor": "white",
             "startlinecolor": "#2a3f5f"
            },
            "baxis": {
             "endlinecolor": "#2a3f5f",
             "gridcolor": "white",
             "linecolor": "white",
             "minorgridcolor": "white",
             "startlinecolor": "#2a3f5f"
            },
            "type": "carpet"
           }
          ],
          "choropleth": [
           {
            "colorbar": {
             "outlinewidth": 0,
             "ticks": ""
            },
            "type": "choropleth"
           }
          ],
          "contour": [
           {
            "colorbar": {
             "outlinewidth": 0,
             "ticks": ""
            },
            "colorscale": [
             [
              0,
              "#0d0887"
             ],
             [
              0.1111111111111111,
              "#46039f"
             ],
             [
              0.2222222222222222,
              "#7201a8"
             ],
             [
              0.3333333333333333,
              "#9c179e"
             ],
             [
              0.4444444444444444,
              "#bd3786"
             ],
             [
              0.5555555555555556,
              "#d8576b"
             ],
             [
              0.6666666666666666,
              "#ed7953"
             ],
             [
              0.7777777777777778,
              "#fb9f3a"
             ],
             [
              0.8888888888888888,
              "#fdca26"
             ],
             [
              1,
              "#f0f921"
             ]
            ],
            "type": "contour"
           }
          ],
          "contourcarpet": [
           {
            "colorbar": {
             "outlinewidth": 0,
             "ticks": ""
            },
            "type": "contourcarpet"
           }
          ],
          "heatmap": [
           {
            "colorbar": {
             "outlinewidth": 0,
             "ticks": ""
            },
            "colorscale": [
             [
              0,
              "#0d0887"
             ],
             [
              0.1111111111111111,
              "#46039f"
             ],
             [
              0.2222222222222222,
              "#7201a8"
             ],
             [
              0.3333333333333333,
              "#9c179e"
             ],
             [
              0.4444444444444444,
              "#bd3786"
             ],
             [
              0.5555555555555556,
              "#d8576b"
             ],
             [
              0.6666666666666666,
              "#ed7953"
             ],
             [
              0.7777777777777778,
              "#fb9f3a"
             ],
             [
              0.8888888888888888,
              "#fdca26"
             ],
             [
              1,
              "#f0f921"
             ]
            ],
            "type": "heatmap"
           }
          ],
          "heatmapgl": [
           {
            "colorbar": {
             "outlinewidth": 0,
             "ticks": ""
            },
            "colorscale": [
             [
              0,
              "#0d0887"
             ],
             [
              0.1111111111111111,
              "#46039f"
             ],
             [
              0.2222222222222222,
              "#7201a8"
             ],
             [
              0.3333333333333333,
              "#9c179e"
             ],
             [
              0.4444444444444444,
              "#bd3786"
             ],
             [
              0.5555555555555556,
              "#d8576b"
             ],
             [
              0.6666666666666666,
              "#ed7953"
             ],
             [
              0.7777777777777778,
              "#fb9f3a"
             ],
             [
              0.8888888888888888,
              "#fdca26"
             ],
             [
              1,
              "#f0f921"
             ]
            ],
            "type": "heatmapgl"
           }
          ],
          "histogram": [
           {
            "marker": {
             "pattern": {
              "fillmode": "overlay",
              "size": 10,
              "solidity": 0.2
             }
            },
            "type": "histogram"
           }
          ],
          "histogram2d": [
           {
            "colorbar": {
             "outlinewidth": 0,
             "ticks": ""
            },
            "colorscale": [
             [
              0,
              "#0d0887"
             ],
             [
              0.1111111111111111,
              "#46039f"
             ],
             [
              0.2222222222222222,
              "#7201a8"
             ],
             [
              0.3333333333333333,
              "#9c179e"
             ],
             [
              0.4444444444444444,
              "#bd3786"
             ],
             [
              0.5555555555555556,
              "#d8576b"
             ],
             [
              0.6666666666666666,
              "#ed7953"
             ],
             [
              0.7777777777777778,
              "#fb9f3a"
             ],
             [
              0.8888888888888888,
              "#fdca26"
             ],
             [
              1,
              "#f0f921"
             ]
            ],
            "type": "histogram2d"
           }
          ],
          "histogram2dcontour": [
           {
            "colorbar": {
             "outlinewidth": 0,
             "ticks": ""
            },
            "colorscale": [
             [
              0,
              "#0d0887"
             ],
             [
              0.1111111111111111,
              "#46039f"
             ],
             [
              0.2222222222222222,
              "#7201a8"
             ],
             [
              0.3333333333333333,
              "#9c179e"
             ],
             [
              0.4444444444444444,
              "#bd3786"
             ],
             [
              0.5555555555555556,
              "#d8576b"
             ],
             [
              0.6666666666666666,
              "#ed7953"
             ],
             [
              0.7777777777777778,
              "#fb9f3a"
             ],
             [
              0.8888888888888888,
              "#fdca26"
             ],
             [
              1,
              "#f0f921"
             ]
            ],
            "type": "histogram2dcontour"
           }
          ],
          "mesh3d": [
           {
            "colorbar": {
             "outlinewidth": 0,
             "ticks": ""
            },
            "type": "mesh3d"
           }
          ],
          "parcoords": [
           {
            "line": {
             "colorbar": {
              "outlinewidth": 0,
              "ticks": ""
             }
            },
            "type": "parcoords"
           }
          ],
          "pie": [
           {
            "automargin": true,
            "type": "pie"
           }
          ],
          "scatter": [
           {
            "fillpattern": {
             "fillmode": "overlay",
             "size": 10,
             "solidity": 0.2
            },
            "type": "scatter"
           }
          ],
          "scatter3d": [
           {
            "line": {
             "colorbar": {
              "outlinewidth": 0,
              "ticks": ""
             }
            },
            "marker": {
             "colorbar": {
              "outlinewidth": 0,
              "ticks": ""
             }
            },
            "type": "scatter3d"
           }
          ],
          "scattercarpet": [
           {
            "marker": {
             "colorbar": {
              "outlinewidth": 0,
              "ticks": ""
             }
            },
            "type": "scattercarpet"
           }
          ],
          "scattergeo": [
           {
            "marker": {
             "colorbar": {
              "outlinewidth": 0,
              "ticks": ""
             }
            },
            "type": "scattergeo"
           }
          ],
          "scattergl": [
           {
            "marker": {
             "colorbar": {
              "outlinewidth": 0,
              "ticks": ""
             }
            },
            "type": "scattergl"
           }
          ],
          "scattermapbox": [
           {
            "marker": {
             "colorbar": {
              "outlinewidth": 0,
              "ticks": ""
             }
            },
            "type": "scattermapbox"
           }
          ],
          "scatterpolar": [
           {
            "marker": {
             "colorbar": {
              "outlinewidth": 0,
              "ticks": ""
             }
            },
            "type": "scatterpolar"
           }
          ],
          "scatterpolargl": [
           {
            "marker": {
             "colorbar": {
              "outlinewidth": 0,
              "ticks": ""
             }
            },
            "type": "scatterpolargl"
           }
          ],
          "scatterternary": [
           {
            "marker": {
             "colorbar": {
              "outlinewidth": 0,
              "ticks": ""
             }
            },
            "type": "scatterternary"
           }
          ],
          "surface": [
           {
            "colorbar": {
             "outlinewidth": 0,
             "ticks": ""
            },
            "colorscale": [
             [
              0,
              "#0d0887"
             ],
             [
              0.1111111111111111,
              "#46039f"
             ],
             [
              0.2222222222222222,
              "#7201a8"
             ],
             [
              0.3333333333333333,
              "#9c179e"
             ],
             [
              0.4444444444444444,
              "#bd3786"
             ],
             [
              0.5555555555555556,
              "#d8576b"
             ],
             [
              0.6666666666666666,
              "#ed7953"
             ],
             [
              0.7777777777777778,
              "#fb9f3a"
             ],
             [
              0.8888888888888888,
              "#fdca26"
             ],
             [
              1,
              "#f0f921"
             ]
            ],
            "type": "surface"
           }
          ],
          "table": [
           {
            "cells": {
             "fill": {
              "color": "#EBF0F8"
             },
             "line": {
              "color": "white"
             }
            },
            "header": {
             "fill": {
              "color": "#C8D4E3"
             },
             "line": {
              "color": "white"
             }
            },
            "type": "table"
           }
          ]
         },
         "layout": {
          "annotationdefaults": {
           "arrowcolor": "#2a3f5f",
           "arrowhead": 0,
           "arrowwidth": 1
          },
          "autotypenumbers": "strict",
          "coloraxis": {
           "colorbar": {
            "outlinewidth": 0,
            "ticks": ""
           }
          },
          "colorscale": {
           "diverging": [
            [
             0,
             "#8e0152"
            ],
            [
             0.1,
             "#c51b7d"
            ],
            [
             0.2,
             "#de77ae"
            ],
            [
             0.3,
             "#f1b6da"
            ],
            [
             0.4,
             "#fde0ef"
            ],
            [
             0.5,
             "#f7f7f7"
            ],
            [
             0.6,
             "#e6f5d0"
            ],
            [
             0.7,
             "#b8e186"
            ],
            [
             0.8,
             "#7fbc41"
            ],
            [
             0.9,
             "#4d9221"
            ],
            [
             1,
             "#276419"
            ]
           ],
           "sequential": [
            [
             0,
             "#0d0887"
            ],
            [
             0.1111111111111111,
             "#46039f"
            ],
            [
             0.2222222222222222,
             "#7201a8"
            ],
            [
             0.3333333333333333,
             "#9c179e"
            ],
            [
             0.4444444444444444,
             "#bd3786"
            ],
            [
             0.5555555555555556,
             "#d8576b"
            ],
            [
             0.6666666666666666,
             "#ed7953"
            ],
            [
             0.7777777777777778,
             "#fb9f3a"
            ],
            [
             0.8888888888888888,
             "#fdca26"
            ],
            [
             1,
             "#f0f921"
            ]
           ],
           "sequentialminus": [
            [
             0,
             "#0d0887"
            ],
            [
             0.1111111111111111,
             "#46039f"
            ],
            [
             0.2222222222222222,
             "#7201a8"
            ],
            [
             0.3333333333333333,
             "#9c179e"
            ],
            [
             0.4444444444444444,
             "#bd3786"
            ],
            [
             0.5555555555555556,
             "#d8576b"
            ],
            [
             0.6666666666666666,
             "#ed7953"
            ],
            [
             0.7777777777777778,
             "#fb9f3a"
            ],
            [
             0.8888888888888888,
             "#fdca26"
            ],
            [
             1,
             "#f0f921"
            ]
           ]
          },
          "colorway": [
           "#636efa",
           "#EF553B",
           "#00cc96",
           "#ab63fa",
           "#FFA15A",
           "#19d3f3",
           "#FF6692",
           "#B6E880",
           "#FF97FF",
           "#FECB52"
          ],
          "font": {
           "color": "#2a3f5f"
          },
          "geo": {
           "bgcolor": "white",
           "lakecolor": "white",
           "landcolor": "#E5ECF6",
           "showlakes": true,
           "showland": true,
           "subunitcolor": "white"
          },
          "hoverlabel": {
           "align": "left"
          },
          "hovermode": "closest",
          "mapbox": {
           "style": "light"
          },
          "paper_bgcolor": "white",
          "plot_bgcolor": "#E5ECF6",
          "polar": {
           "angularaxis": {
            "gridcolor": "white",
            "linecolor": "white",
            "ticks": ""
           },
           "bgcolor": "#E5ECF6",
           "radialaxis": {
            "gridcolor": "white",
            "linecolor": "white",
            "ticks": ""
           }
          },
          "scene": {
           "xaxis": {
            "backgroundcolor": "#E5ECF6",
            "gridcolor": "white",
            "gridwidth": 2,
            "linecolor": "white",
            "showbackground": true,
            "ticks": "",
            "zerolinecolor": "white"
           },
           "yaxis": {
            "backgroundcolor": "#E5ECF6",
            "gridcolor": "white",
            "gridwidth": 2,
            "linecolor": "white",
            "showbackground": true,
            "ticks": "",
            "zerolinecolor": "white"
           },
           "zaxis": {
            "backgroundcolor": "#E5ECF6",
            "gridcolor": "white",
            "gridwidth": 2,
            "linecolor": "white",
            "showbackground": true,
            "ticks": "",
            "zerolinecolor": "white"
           }
          },
          "shapedefaults": {
           "line": {
            "color": "#2a3f5f"
           }
          },
          "ternary": {
           "aaxis": {
            "gridcolor": "white",
            "linecolor": "white",
            "ticks": ""
           },
           "baxis": {
            "gridcolor": "white",
            "linecolor": "white",
            "ticks": ""
           },
           "bgcolor": "#E5ECF6",
           "caxis": {
            "gridcolor": "white",
            "linecolor": "white",
            "ticks": ""
           }
          },
          "title": {
           "x": 0.05
          },
          "xaxis": {
           "automargin": true,
           "gridcolor": "white",
           "linecolor": "white",
           "ticks": "",
           "title": {
            "standoff": 15
           },
           "zerolinecolor": "white",
           "zerolinewidth": 2
          },
          "yaxis": {
           "automargin": true,
           "gridcolor": "white",
           "linecolor": "white",
           "ticks": "",
           "title": {
            "standoff": 15
           },
           "zerolinecolor": "white",
           "zerolinewidth": 2
          }
         }
        },
        "xaxis": {
         "anchor": "y",
         "domain": [
          0,
          1
         ],
         "dtick": "M1",
         "tickformat": "%b\n%Y",
         "title": {
          "text": "date"
         }
        },
        "yaxis": {
         "anchor": "x",
         "domain": [
          0,
          1
         ],
         "title": {
          "text": "amount"
         }
        }
       }
      },
      "text/html": [
       "<div>                            <div id=\"2057ee91-013a-4e31-8481-f6ad57c6b969\" class=\"plotly-graph-div\" style=\"height:525px; width:100%;\"></div>            <script type=\"text/javascript\">                require([\"plotly\"], function(Plotly) {                    window.PLOTLYENV=window.PLOTLYENV || {};                                    if (document.getElementById(\"2057ee91-013a-4e31-8481-f6ad57c6b969\")) {                    Plotly.newPlot(                        \"2057ee91-013a-4e31-8481-f6ad57c6b969\",                        [{\"hovertemplate\":\"date=%{x}<br>amount=%{y}<extra></extra>\",\"legendgroup\":\"\",\"line\":{\"color\":\"#636efa\",\"dash\":\"solid\"},\"marker\":{\"symbol\":\"circle\"},\"mode\":\"lines\",\"name\":\"\",\"orientation\":\"v\",\"showlegend\":false,\"x\":[\"2010-07-31T00:00:00\",\"2010-08-31T00:00:00\",\"2010-09-30T00:00:00\",\"2010-10-31T00:00:00\",\"2010-11-30T00:00:00\",\"2010-12-31T00:00:00\",\"2011-01-31T00:00:00\",\"2011-02-28T00:00:00\",\"2011-03-31T00:00:00\",\"2011-04-30T00:00:00\",\"2011-05-31T00:00:00\",\"2011-06-30T00:00:00\",\"2011-07-31T00:00:00\",\"2011-08-31T00:00:00\",\"2011-09-30T00:00:00\",\"2011-10-31T00:00:00\",\"2011-11-30T00:00:00\",\"2011-12-31T00:00:00\",\"2012-01-31T00:00:00\",\"2012-02-29T00:00:00\",\"2012-03-31T00:00:00\",\"2012-04-30T00:00:00\",\"2012-05-31T00:00:00\",\"2012-06-30T00:00:00\",\"2012-07-31T00:00:00\",\"2012-08-31T00:00:00\",\"2012-09-30T00:00:00\",\"2012-10-31T00:00:00\",\"2012-11-30T00:00:00\",\"2012-12-31T00:00:00\",\"2013-01-31T00:00:00\",\"2013-02-28T00:00:00\",\"2013-03-31T00:00:00\",\"2013-04-30T00:00:00\",\"2013-05-31T00:00:00\",\"2013-06-30T00:00:00\",\"2013-07-31T00:00:00\",\"2013-08-31T00:00:00\",\"2013-09-30T00:00:00\",\"2013-10-31T00:00:00\",\"2013-11-30T00:00:00\",\"2013-12-31T00:00:00\",\"2014-01-31T00:00:00\",\"2014-02-28T00:00:00\",\"2014-03-31T00:00:00\",\"2014-04-30T00:00:00\",\"2014-05-31T00:00:00\",\"2014-06-30T00:00:00\",\"2014-07-31T00:00:00\",\"2014-08-31T00:00:00\",\"2014-09-30T00:00:00\",\"2014-10-31T00:00:00\",\"2014-11-30T00:00:00\",\"2014-12-31T00:00:00\",\"2015-01-31T00:00:00\",\"2015-02-28T00:00:00\",\"2015-03-31T00:00:00\",\"2015-04-30T00:00:00\",\"2015-05-31T00:00:00\",\"2015-06-30T00:00:00\",\"2015-07-31T00:00:00\",\"2015-08-31T00:00:00\",\"2015-09-30T00:00:00\",\"2015-10-31T00:00:00\",\"2015-11-30T00:00:00\",\"2015-12-31T00:00:00\",\"2016-01-31T00:00:00\",\"2016-02-29T00:00:00\",\"2016-03-31T00:00:00\",\"2016-04-30T00:00:00\",\"2016-05-31T00:00:00\",\"2016-06-30T00:00:00\",\"2016-07-31T00:00:00\",\"2016-08-31T00:00:00\",\"2016-09-30T00:00:00\",\"2016-10-31T00:00:00\",\"2016-11-30T00:00:00\",\"2016-12-31T00:00:00\",\"2017-01-31T00:00:00\",\"2017-02-28T00:00:00\",\"2017-03-31T00:00:00\",\"2017-04-30T00:00:00\",\"2017-05-31T00:00:00\",\"2017-06-30T00:00:00\",\"2017-07-31T00:00:00\",\"2017-08-31T00:00:00\",\"2017-09-30T00:00:00\",\"2017-10-31T00:00:00\",\"2017-11-30T00:00:00\",\"2017-12-31T00:00:00\",\"2018-01-31T00:00:00\",\"2018-02-28T00:00:00\",\"2018-03-31T00:00:00\",\"2018-04-30T00:00:00\",\"2018-05-31T00:00:00\",\"2018-06-30T00:00:00\",\"2018-07-31T00:00:00\",\"2018-08-31T00:00:00\",\"2018-09-30T00:00:00\",\"2018-10-31T00:00:00\",\"2018-11-30T00:00:00\",\"2018-12-31T00:00:00\",\"2019-01-31T00:00:00\",\"2019-02-28T00:00:00\",\"2019-03-31T00:00:00\",\"2019-04-30T00:00:00\",\"2019-05-31T00:00:00\",\"2019-06-30T00:00:00\",\"2019-07-31T00:00:00\",\"2019-08-31T00:00:00\",\"2019-09-30T00:00:00\",\"2019-10-31T00:00:00\",\"2019-11-30T00:00:00\",\"2019-12-31T00:00:00\",\"2020-01-31T00:00:00\",\"2020-02-29T00:00:00\",\"2020-03-31T00:00:00\",\"2020-04-30T00:00:00\",\"2020-05-31T00:00:00\",\"2020-06-30T00:00:00\",\"2020-07-31T00:00:00\",\"2020-08-31T00:00:00\",\"2020-09-30T00:00:00\",\"2020-10-31T00:00:00\",\"2020-11-30T00:00:00\",\"2020-12-31T00:00:00\",\"2021-01-31T00:00:00\",\"2021-02-28T00:00:00\",\"2021-03-31T00:00:00\",\"2021-04-30T00:00:00\",\"2021-05-31T00:00:00\",\"2021-06-30T00:00:00\",\"2021-07-31T00:00:00\",\"2021-08-31T00:00:00\",\"2021-09-30T00:00:00\",\"2021-10-31T00:00:00\",\"2021-11-30T00:00:00\",\"2021-12-31T00:00:00\",\"2022-01-31T00:00:00\",\"2022-02-28T00:00:00\",\"2022-03-31T00:00:00\",\"2022-04-30T00:00:00\",\"2022-05-31T00:00:00\",\"2022-06-30T00:00:00\"],\"xaxis\":\"x\",\"y\":[241.81,309.99,1165.73,3395.32,2240.7799999999997,2975.19,2087.7,3321.29,2892.78,1184.77,4857.42,4653.23,2739.85,0.0,0.0,0.0,0.0,0.0,0.0,0.0,0.0,0.0,0.0,4.07,317.59000000000003,2352.9100000000003,12480.45,7102.67,7592.53,3850.95,6034.91,10258.289999999999,5251.85,5768.4400000000005,7605.650000000001,5307.75,5856.78,7150.3,4696.56,7517.93,7298.87,6195.06,5512.45,7849.379999999999,9658.17,2788.45,5476.39,12934.15,13457.88,3182.32,9638.4,13178.12,4155.99,3524.31,8054.3,8024.29,3083.46,3752.37,809.39,195.46,7614.14,8619.48,7745.61,4775.4400000000005,6791.92,14502.33,12689.08,14876.19,11763.07,9331.78,11332.2,10584.39,12421.84,12062.9,14791.83,13190.189999999999,18108.07,12947.12,21903.16,16371.050000000001,16809.59,13760.14,14627.82,17493.05,12138.82,30013.36,13358.54,16891.129999999997,15387.33,15966.08,7516.01,16716.63,18777.6,21599.63,24458.07,13772.85,13787.439999999999,9786.72,4740.33,6903.360000000001,2988.14,4547.6,1339.86,4624.8,3438.85,4124.78,3247.79,382.81,4157.25,4732.49,4388.820000000001,5643.87,4672.63,9189.22,6692.96,5306.7699999999995,5963.8099999999995,0.0,0.0,0.0,0.0,0.0,10394.06,15110.43,7057.4800000000005,56817.93,9345.45,12135.84,27389.86,11007.41,19730.18,8468.22,9280.14,14776.79,23280.21,35499.35,15509.15,10900.2,6208.5199999999995,2.68,11707.380000000001,30614.11,38120.96,15510.23],\"yaxis\":\"y\",\"type\":\"scatter\"}],                        {\"template\":{\"data\":{\"histogram2dcontour\":[{\"type\":\"histogram2dcontour\",\"colorbar\":{\"outlinewidth\":0,\"ticks\":\"\"},\"colorscale\":[[0.0,\"#0d0887\"],[0.1111111111111111,\"#46039f\"],[0.2222222222222222,\"#7201a8\"],[0.3333333333333333,\"#9c179e\"],[0.4444444444444444,\"#bd3786\"],[0.5555555555555556,\"#d8576b\"],[0.6666666666666666,\"#ed7953\"],[0.7777777777777778,\"#fb9f3a\"],[0.8888888888888888,\"#fdca26\"],[1.0,\"#f0f921\"]]}],\"choropleth\":[{\"type\":\"choropleth\",\"colorbar\":{\"outlinewidth\":0,\"ticks\":\"\"}}],\"histogram2d\":[{\"type\":\"histogram2d\",\"colorbar\":{\"outlinewidth\":0,\"ticks\":\"\"},\"colorscale\":[[0.0,\"#0d0887\"],[0.1111111111111111,\"#46039f\"],[0.2222222222222222,\"#7201a8\"],[0.3333333333333333,\"#9c179e\"],[0.4444444444444444,\"#bd3786\"],[0.5555555555555556,\"#d8576b\"],[0.6666666666666666,\"#ed7953\"],[0.7777777777777778,\"#fb9f3a\"],[0.8888888888888888,\"#fdca26\"],[1.0,\"#f0f921\"]]}],\"heatmap\":[{\"type\":\"heatmap\",\"colorbar\":{\"outlinewidth\":0,\"ticks\":\"\"},\"colorscale\":[[0.0,\"#0d0887\"],[0.1111111111111111,\"#46039f\"],[0.2222222222222222,\"#7201a8\"],[0.3333333333333333,\"#9c179e\"],[0.4444444444444444,\"#bd3786\"],[0.5555555555555556,\"#d8576b\"],[0.6666666666666666,\"#ed7953\"],[0.7777777777777778,\"#fb9f3a\"],[0.8888888888888888,\"#fdca26\"],[1.0,\"#f0f921\"]]}],\"heatmapgl\":[{\"type\":\"heatmapgl\",\"colorbar\":{\"outlinewidth\":0,\"ticks\":\"\"},\"colorscale\":[[0.0,\"#0d0887\"],[0.1111111111111111,\"#46039f\"],[0.2222222222222222,\"#7201a8\"],[0.3333333333333333,\"#9c179e\"],[0.4444444444444444,\"#bd3786\"],[0.5555555555555556,\"#d8576b\"],[0.6666666666666666,\"#ed7953\"],[0.7777777777777778,\"#fb9f3a\"],[0.8888888888888888,\"#fdca26\"],[1.0,\"#f0f921\"]]}],\"contourcarpet\":[{\"type\":\"contourcarpet\",\"colorbar\":{\"outlinewidth\":0,\"ticks\":\"\"}}],\"contour\":[{\"type\":\"contour\",\"colorbar\":{\"outlinewidth\":0,\"ticks\":\"\"},\"colorscale\":[[0.0,\"#0d0887\"],[0.1111111111111111,\"#46039f\"],[0.2222222222222222,\"#7201a8\"],[0.3333333333333333,\"#9c179e\"],[0.4444444444444444,\"#bd3786\"],[0.5555555555555556,\"#d8576b\"],[0.6666666666666666,\"#ed7953\"],[0.7777777777777778,\"#fb9f3a\"],[0.8888888888888888,\"#fdca26\"],[1.0,\"#f0f921\"]]}],\"surface\":[{\"type\":\"surface\",\"colorbar\":{\"outlinewidth\":0,\"ticks\":\"\"},\"colorscale\":[[0.0,\"#0d0887\"],[0.1111111111111111,\"#46039f\"],[0.2222222222222222,\"#7201a8\"],[0.3333333333333333,\"#9c179e\"],[0.4444444444444444,\"#bd3786\"],[0.5555555555555556,\"#d8576b\"],[0.6666666666666666,\"#ed7953\"],[0.7777777777777778,\"#fb9f3a\"],[0.8888888888888888,\"#fdca26\"],[1.0,\"#f0f921\"]]}],\"mesh3d\":[{\"type\":\"mesh3d\",\"colorbar\":{\"outlinewidth\":0,\"ticks\":\"\"}}],\"scatter\":[{\"fillpattern\":{\"fillmode\":\"overlay\",\"size\":10,\"solidity\":0.2},\"type\":\"scatter\"}],\"parcoords\":[{\"type\":\"parcoords\",\"line\":{\"colorbar\":{\"outlinewidth\":0,\"ticks\":\"\"}}}],\"scatterpolargl\":[{\"type\":\"scatterpolargl\",\"marker\":{\"colorbar\":{\"outlinewidth\":0,\"ticks\":\"\"}}}],\"bar\":[{\"error_x\":{\"color\":\"#2a3f5f\"},\"error_y\":{\"color\":\"#2a3f5f\"},\"marker\":{\"line\":{\"color\":\"#E5ECF6\",\"width\":0.5},\"pattern\":{\"fillmode\":\"overlay\",\"size\":10,\"solidity\":0.2}},\"type\":\"bar\"}],\"scattergeo\":[{\"type\":\"scattergeo\",\"marker\":{\"colorbar\":{\"outlinewidth\":0,\"ticks\":\"\"}}}],\"scatterpolar\":[{\"type\":\"scatterpolar\",\"marker\":{\"colorbar\":{\"outlinewidth\":0,\"ticks\":\"\"}}}],\"histogram\":[{\"marker\":{\"pattern\":{\"fillmode\":\"overlay\",\"size\":10,\"solidity\":0.2}},\"type\":\"histogram\"}],\"scattergl\":[{\"type\":\"scattergl\",\"marker\":{\"colorbar\":{\"outlinewidth\":0,\"ticks\":\"\"}}}],\"scatter3d\":[{\"type\":\"scatter3d\",\"line\":{\"colorbar\":{\"outlinewidth\":0,\"ticks\":\"\"}},\"marker\":{\"colorbar\":{\"outlinewidth\":0,\"ticks\":\"\"}}}],\"scattermapbox\":[{\"type\":\"scattermapbox\",\"marker\":{\"colorbar\":{\"outlinewidth\":0,\"ticks\":\"\"}}}],\"scatterternary\":[{\"type\":\"scatterternary\",\"marker\":{\"colorbar\":{\"outlinewidth\":0,\"ticks\":\"\"}}}],\"scattercarpet\":[{\"type\":\"scattercarpet\",\"marker\":{\"colorbar\":{\"outlinewidth\":0,\"ticks\":\"\"}}}],\"carpet\":[{\"aaxis\":{\"endlinecolor\":\"#2a3f5f\",\"gridcolor\":\"white\",\"linecolor\":\"white\",\"minorgridcolor\":\"white\",\"startlinecolor\":\"#2a3f5f\"},\"baxis\":{\"endlinecolor\":\"#2a3f5f\",\"gridcolor\":\"white\",\"linecolor\":\"white\",\"minorgridcolor\":\"white\",\"startlinecolor\":\"#2a3f5f\"},\"type\":\"carpet\"}],\"table\":[{\"cells\":{\"fill\":{\"color\":\"#EBF0F8\"},\"line\":{\"color\":\"white\"}},\"header\":{\"fill\":{\"color\":\"#C8D4E3\"},\"line\":{\"color\":\"white\"}},\"type\":\"table\"}],\"barpolar\":[{\"marker\":{\"line\":{\"color\":\"#E5ECF6\",\"width\":0.5},\"pattern\":{\"fillmode\":\"overlay\",\"size\":10,\"solidity\":0.2}},\"type\":\"barpolar\"}],\"pie\":[{\"automargin\":true,\"type\":\"pie\"}]},\"layout\":{\"autotypenumbers\":\"strict\",\"colorway\":[\"#636efa\",\"#EF553B\",\"#00cc96\",\"#ab63fa\",\"#FFA15A\",\"#19d3f3\",\"#FF6692\",\"#B6E880\",\"#FF97FF\",\"#FECB52\"],\"font\":{\"color\":\"#2a3f5f\"},\"hovermode\":\"closest\",\"hoverlabel\":{\"align\":\"left\"},\"paper_bgcolor\":\"white\",\"plot_bgcolor\":\"#E5ECF6\",\"polar\":{\"bgcolor\":\"#E5ECF6\",\"angularaxis\":{\"gridcolor\":\"white\",\"linecolor\":\"white\",\"ticks\":\"\"},\"radialaxis\":{\"gridcolor\":\"white\",\"linecolor\":\"white\",\"ticks\":\"\"}},\"ternary\":{\"bgcolor\":\"#E5ECF6\",\"aaxis\":{\"gridcolor\":\"white\",\"linecolor\":\"white\",\"ticks\":\"\"},\"baxis\":{\"gridcolor\":\"white\",\"linecolor\":\"white\",\"ticks\":\"\"},\"caxis\":{\"gridcolor\":\"white\",\"linecolor\":\"white\",\"ticks\":\"\"}},\"coloraxis\":{\"colorbar\":{\"outlinewidth\":0,\"ticks\":\"\"}},\"colorscale\":{\"sequential\":[[0.0,\"#0d0887\"],[0.1111111111111111,\"#46039f\"],[0.2222222222222222,\"#7201a8\"],[0.3333333333333333,\"#9c179e\"],[0.4444444444444444,\"#bd3786\"],[0.5555555555555556,\"#d8576b\"],[0.6666666666666666,\"#ed7953\"],[0.7777777777777778,\"#fb9f3a\"],[0.8888888888888888,\"#fdca26\"],[1.0,\"#f0f921\"]],\"sequentialminus\":[[0.0,\"#0d0887\"],[0.1111111111111111,\"#46039f\"],[0.2222222222222222,\"#7201a8\"],[0.3333333333333333,\"#9c179e\"],[0.4444444444444444,\"#bd3786\"],[0.5555555555555556,\"#d8576b\"],[0.6666666666666666,\"#ed7953\"],[0.7777777777777778,\"#fb9f3a\"],[0.8888888888888888,\"#fdca26\"],[1.0,\"#f0f921\"]],\"diverging\":[[0,\"#8e0152\"],[0.1,\"#c51b7d\"],[0.2,\"#de77ae\"],[0.3,\"#f1b6da\"],[0.4,\"#fde0ef\"],[0.5,\"#f7f7f7\"],[0.6,\"#e6f5d0\"],[0.7,\"#b8e186\"],[0.8,\"#7fbc41\"],[0.9,\"#4d9221\"],[1,\"#276419\"]]},\"xaxis\":{\"gridcolor\":\"white\",\"linecolor\":\"white\",\"ticks\":\"\",\"title\":{\"standoff\":15},\"zerolinecolor\":\"white\",\"automargin\":true,\"zerolinewidth\":2},\"yaxis\":{\"gridcolor\":\"white\",\"linecolor\":\"white\",\"ticks\":\"\",\"title\":{\"standoff\":15},\"zerolinecolor\":\"white\",\"automargin\":true,\"zerolinewidth\":2},\"scene\":{\"xaxis\":{\"backgroundcolor\":\"#E5ECF6\",\"gridcolor\":\"white\",\"linecolor\":\"white\",\"showbackground\":true,\"ticks\":\"\",\"zerolinecolor\":\"white\",\"gridwidth\":2},\"yaxis\":{\"backgroundcolor\":\"#E5ECF6\",\"gridcolor\":\"white\",\"linecolor\":\"white\",\"showbackground\":true,\"ticks\":\"\",\"zerolinecolor\":\"white\",\"gridwidth\":2},\"zaxis\":{\"backgroundcolor\":\"#E5ECF6\",\"gridcolor\":\"white\",\"linecolor\":\"white\",\"showbackground\":true,\"ticks\":\"\",\"zerolinecolor\":\"white\",\"gridwidth\":2}},\"shapedefaults\":{\"line\":{\"color\":\"#2a3f5f\"}},\"annotationdefaults\":{\"arrowcolor\":\"#2a3f5f\",\"arrowhead\":0,\"arrowwidth\":1},\"geo\":{\"bgcolor\":\"white\",\"landcolor\":\"#E5ECF6\",\"subunitcolor\":\"white\",\"showland\":true,\"showlakes\":true,\"lakecolor\":\"white\"},\"title\":{\"x\":0.05},\"mapbox\":{\"style\":\"light\"}}},\"xaxis\":{\"anchor\":\"y\",\"domain\":[0.0,1.0],\"title\":{\"text\":\"date\"},\"dtick\":\"M1\",\"tickformat\":\"%b\\n%Y\"},\"yaxis\":{\"anchor\":\"x\",\"domain\":[0.0,1.0],\"title\":{\"text\":\"amount\"}},\"legend\":{\"tracegroupgap\":0},\"margin\":{\"t\":60}},                        {\"responsive\": true}                    ).then(function(){\n",
       "                            \n",
       "var gd = document.getElementById('2057ee91-013a-4e31-8481-f6ad57c6b969');\n",
       "var x = new MutationObserver(function (mutations, observer) {{\n",
       "        var display = window.getComputedStyle(gd).display;\n",
       "        if (!display || display === 'none') {{\n",
       "            console.log([gd, 'removed!']);\n",
       "            Plotly.purge(gd);\n",
       "            observer.disconnect();\n",
       "        }}\n",
       "}});\n",
       "\n",
       "// Listen for the removal of the full notebook cells\n",
       "var notebookContainer = gd.closest('#notebook-container');\n",
       "if (notebookContainer) {{\n",
       "    x.observe(notebookContainer, {childList: true});\n",
       "}}\n",
       "\n",
       "// Listen for the clearing of the current output cell\n",
       "var outputEl = gd.closest('.output');\n",
       "if (outputEl) {{\n",
       "    x.observe(outputEl, {childList: true});\n",
       "}}\n",
       "\n",
       "                        })                };                });            </script>        </div>"
      ]
     },
     "metadata": {},
     "output_type": "display_data"
    }
   ],
   "source": [
    "# Using plotly.express to display data per month\n",
    "a=transactions.resample('M').sum()\n",
    "fig = px.line(a, x=a.index, y='amount')\n",
    "\n",
    "fig.update_xaxes(\n",
    "    dtick=\"M1\",\n",
    "    tickformat=\"%b\\n%Y\")\n",
    "fig.show()"
   ]
  },
  {
   "cell_type": "code",
   "execution_count": 134,
   "id": "1e3bdba3",
   "metadata": {},
   "outputs": [
    {
     "data": {
      "text/plain": [
       "<AxesSubplot:xlabel='amount', ylabel='category'>"
      ]
     },
     "execution_count": 134,
     "metadata": {},
     "output_type": "execute_result"
    },
    {
     "data": {
      "image/png": "[encoded data removed]",
      "text/plain": [
       "<Figure size 1224x1440 with 1 Axes>"
      ]
     },
     "metadata": {},
     "output_type": "display_data"
    }
   ],
   "source": [
    "# Plotting categories and their occurence in the dataset\n",
    "plt.figure(figsize=(17, 20))\n",
    "\n",
    "sns.set_style(\"whitegrid\") \n",
    "sns.barplot(x='amount', y='category', data=transactions, orient= \"h\")"
   ]
  },
  {
   "cell_type": "code",
   "execution_count": 177,
   "id": "bff5d020",
   "metadata": {},
   "outputs": [
    {
     "data": {
      "text/html": [
       "<div>\n",
       "<style scoped>\n",
       "    .dataframe tbody tr th:only-of-type {\n",
       "        vertical-align: middle;\n",
       "    }\n",
       "\n",
       "    .dataframe tbody tr th {\n",
       "        vertical-align: top;\n",
       "    }\n",
       "\n",
       "    .dataframe thead th {\n",
       "        text-align: right;\n",
       "    }\n",
       "</style>\n",
       "<table border=\"1\" class=\"dataframe\">\n",
       "  <thead>\n",
       "    <tr style=\"text-align: right;\">\n",
       "      <th></th>\n",
       "      <th>min</th>\n",
       "      <th>max</th>\n",
       "      <th>sum</th>\n",
       "    </tr>\n",
       "    <tr>\n",
       "      <th>date</th>\n",
       "      <th></th>\n",
       "      <th></th>\n",
       "      <th></th>\n",
       "    </tr>\n",
       "  </thead>\n",
       "  <tbody>\n",
       "    <tr>\n",
       "      <th>2010-07-31</th>\n",
       "      <td>241.81</td>\n",
       "      <td>241.81</td>\n",
       "      <td>241.81</td>\n",
       "    </tr>\n",
       "    <tr>\n",
       "      <th>2010-08-31</th>\n",
       "      <td>5.00</td>\n",
       "      <td>43.79</td>\n",
       "      <td>309.99</td>\n",
       "    </tr>\n",
       "    <tr>\n",
       "      <th>2010-09-30</th>\n",
       "      <td>0.33</td>\n",
       "      <td>309.99</td>\n",
       "      <td>1165.73</td>\n",
       "    </tr>\n",
       "    <tr>\n",
       "      <th>2010-10-31</th>\n",
       "      <td>0.21</td>\n",
       "      <td>600.00</td>\n",
       "      <td>3395.32</td>\n",
       "    </tr>\n",
       "    <tr>\n",
       "      <th>2010-11-30</th>\n",
       "      <td>0.01</td>\n",
       "      <td>805.17</td>\n",
       "      <td>2240.78</td>\n",
       "    </tr>\n",
       "    <tr>\n",
       "      <th>...</th>\n",
       "      <td>...</td>\n",
       "      <td>...</td>\n",
       "      <td>...</td>\n",
       "    </tr>\n",
       "    <tr>\n",
       "      <th>2022-02-28</th>\n",
       "      <td>2.68</td>\n",
       "      <td>2.68</td>\n",
       "      <td>2.68</td>\n",
       "    </tr>\n",
       "    <tr>\n",
       "      <th>2022-03-31</th>\n",
       "      <td>0.06</td>\n",
       "      <td>2568.78</td>\n",
       "      <td>11707.38</td>\n",
       "    </tr>\n",
       "    <tr>\n",
       "      <th>2022-04-30</th>\n",
       "      <td>0.07</td>\n",
       "      <td>7323.80</td>\n",
       "      <td>30614.11</td>\n",
       "    </tr>\n",
       "    <tr>\n",
       "      <th>2022-05-31</th>\n",
       "      <td>0.08</td>\n",
       "      <td>7000.00</td>\n",
       "      <td>38120.96</td>\n",
       "    </tr>\n",
       "    <tr>\n",
       "      <th>2022-06-30</th>\n",
       "      <td>0.07</td>\n",
       "      <td>2887.99</td>\n",
       "      <td>15510.23</td>\n",
       "    </tr>\n",
       "  </tbody>\n",
       "</table>\n",
       "<p>144 rows × 3 columns</p>\n",
       "</div>"
      ],
      "text/plain": [
       "               min      max       sum\n",
       "date                                 \n",
       "2010-07-31  241.81   241.81    241.81\n",
       "2010-08-31    5.00    43.79    309.99\n",
       "2010-09-30    0.33   309.99   1165.73\n",
       "2010-10-31    0.21   600.00   3395.32\n",
       "2010-11-30    0.01   805.17   2240.78\n",
       "...            ...      ...       ...\n",
       "2022-02-28    2.68     2.68      2.68\n",
       "2022-03-31    0.06  2568.78  11707.38\n",
       "2022-04-30    0.07  7323.80  30614.11\n",
       "2022-05-31    0.08  7000.00  38120.96\n",
       "2022-06-30    0.07  2887.99  15510.23\n",
       "\n",
       "[144 rows x 3 columns]"
      ]
     },
     "execution_count": 177,
     "metadata": {},
     "output_type": "execute_result"
    }
   ],
   "source": [
    "transactions['amount'].resample('M').agg(['min','max', 'sum'])"
   ]
  },
  {
   "cell_type": "code",
   "execution_count": 180,
   "id": "a33b36a5",
   "metadata": {},
   "outputs": [
    {
     "data": {
      "text/plain": [
       "<AxesSubplot:xlabel='date'>"
      ]
     },
     "execution_count": 180,
     "metadata": {},
     "output_type": "execute_result"
    },
    {
     "data": {
      "image/png": "[encoded data removed]",
      "text/plain": [
       "<Figure size 1224x504 with 1 Axes>"
      ]
     },
     "metadata": {},
     "output_type": "display_data"
    }
   ],
   "source": [
    "# Plotting categories and their occurence in the dataset\n",
    "a=transactions['amount'].resample('M').agg(['min','max', 'sum'])\n",
    "\n",
    "a.plot(figsize=(17, 7))"
   ]
  },
  {
   "cell_type": "code",
   "execution_count": 181,
   "id": "1725f681",
   "metadata": {},
   "outputs": [
    {
     "data": {
      "text/plain": [
       "<AxesSubplot:xlabel='date'>"
      ]
     },
     "execution_count": 181,
     "metadata": {},
     "output_type": "execute_result"
    },
    {
     "data": {
      "image/png": "[encoded data removed]",
      "text/plain": [
       "<Figure size 1224x504 with 1 Axes>"
      ]
     },
     "metadata": {},
     "output_type": "display_data"
    }
   ],
   "source": [
    "# Plotting categories and their occurence in the dataset\n",
    "a=transactions['amount'].resample('Y').agg(['min','max', 'sum'])\n",
    "\n",
    "a.plot(figsize=(17, 7))"
   ]
  },
  {
   "cell_type": "code",
   "execution_count": 182,
   "id": "9783c9ed",
   "metadata": {},
   "outputs": [
    {
     "data": {
      "text/html": [
       "<div>\n",
       "<style scoped>\n",
       "    .dataframe tbody tr th:only-of-type {\n",
       "        vertical-align: middle;\n",
       "    }\n",
       "\n",
       "    .dataframe tbody tr th {\n",
       "        vertical-align: top;\n",
       "    }\n",
       "\n",
       "    .dataframe thead th {\n",
       "        text-align: right;\n",
       "    }\n",
       "</style>\n",
       "<table border=\"1\" class=\"dataframe\">\n",
       "  <thead>\n",
       "    <tr style=\"text-align: right;\">\n",
       "      <th></th>\n",
       "      <th>description</th>\n",
       "      <th>amount</th>\n",
       "      <th>transaction_type</th>\n",
       "      <th>category</th>\n",
       "    </tr>\n",
       "    <tr>\n",
       "      <th>date</th>\n",
       "      <th></th>\n",
       "      <th></th>\n",
       "      <th></th>\n",
       "      <th></th>\n",
       "    </tr>\n",
       "  </thead>\n",
       "  <tbody>\n",
       "    <tr>\n",
       "      <th>2010-07-31</th>\n",
       "      <td>usaa_com_pmt</td>\n",
       "      <td>241.81</td>\n",
       "      <td>credit</td>\n",
       "      <td>Credit Card Payment</td>\n",
       "    </tr>\n",
       "    <tr>\n",
       "      <th>2010-08-05</th>\n",
       "      <td>calling_card</td>\n",
       "      <td>20.00</td>\n",
       "      <td>debit</td>\n",
       "      <td>Donations_and_Gifts</td>\n",
       "    </tr>\n",
       "    <tr>\n",
       "      <th>2010-08-05</th>\n",
       "      <td>amazon_music</td>\n",
       "      <td>5.00</td>\n",
       "      <td>debit</td>\n",
       "      <td>Entertainment_and_Sports</td>\n",
       "    </tr>\n",
       "    <tr>\n",
       "      <th>2010-08-07</th>\n",
       "      <td>marathon</td>\n",
       "      <td>12.01</td>\n",
       "      <td>debit</td>\n",
       "      <td>Gas</td>\n",
       "    </tr>\n",
       "    <tr>\n",
       "      <th>2010-08-07</th>\n",
       "      <td>pennys_noodle_shop</td>\n",
       "      <td>26.42</td>\n",
       "      <td>debit</td>\n",
       "      <td>Outings</td>\n",
       "    </tr>\n",
       "  </tbody>\n",
       "</table>\n",
       "</div>"
      ],
      "text/plain": [
       "                   description  amount transaction_type  \\\n",
       "date                                                      \n",
       "2010-07-31        usaa_com_pmt  241.81           credit   \n",
       "2010-08-05        calling_card   20.00            debit   \n",
       "2010-08-05        amazon_music    5.00            debit   \n",
       "2010-08-07            marathon   12.01            debit   \n",
       "2010-08-07  pennys_noodle_shop   26.42            debit   \n",
       "\n",
       "                            category  \n",
       "date                                  \n",
       "2010-07-31       Credit Card Payment  \n",
       "2010-08-05       Donations_and_Gifts  \n",
       "2010-08-05  Entertainment_and_Sports  \n",
       "2010-08-07                       Gas  \n",
       "2010-08-07                   Outings  "
      ]
     },
     "execution_count": 182,
     "metadata": {},
     "output_type": "execute_result"
    }
   ],
   "source": [
    "transactions.head()"
   ]
  },
  {
   "cell_type": "code",
   "execution_count": 188,
   "id": "f44c8032",
   "metadata": {},
   "outputs": [
    {
     "data": {
      "text/html": [
       "<div>\n",
       "<style scoped>\n",
       "    .dataframe tbody tr th:only-of-type {\n",
       "        vertical-align: middle;\n",
       "    }\n",
       "\n",
       "    .dataframe tbody tr th {\n",
       "        vertical-align: top;\n",
       "    }\n",
       "\n",
       "    .dataframe thead th {\n",
       "        text-align: right;\n",
       "    }\n",
       "</style>\n",
       "<table border=\"1\" class=\"dataframe\">\n",
       "  <thead>\n",
       "    <tr style=\"text-align: right;\">\n",
       "      <th></th>\n",
       "      <th></th>\n",
       "      <th>amount</th>\n",
       "    </tr>\n",
       "    <tr>\n",
       "      <th>month</th>\n",
       "      <th>category</th>\n",
       "      <th></th>\n",
       "    </tr>\n",
       "  </thead>\n",
       "  <tbody>\n",
       "    <tr>\n",
       "      <th rowspan=\"5\" valign=\"top\">1</th>\n",
       "      <th>Auto_Fees</th>\n",
       "      <td>251.92</td>\n",
       "    </tr>\n",
       "    <tr>\n",
       "      <th>Auto_Payments</th>\n",
       "      <td>229.78</td>\n",
       "    </tr>\n",
       "    <tr>\n",
       "      <th>Bills_and_Utilities</th>\n",
       "      <td>1254.66</td>\n",
       "    </tr>\n",
       "    <tr>\n",
       "      <th>Books_and_Supplies</th>\n",
       "      <td>71.73</td>\n",
       "    </tr>\n",
       "    <tr>\n",
       "      <th>Care_and_Shopping</th>\n",
       "      <td>1738.96</td>\n",
       "    </tr>\n",
       "    <tr>\n",
       "      <th>...</th>\n",
       "      <th>...</th>\n",
       "      <td>...</td>\n",
       "    </tr>\n",
       "    <tr>\n",
       "      <th rowspan=\"5\" valign=\"top\">12</th>\n",
       "      <th>Services_Fees</th>\n",
       "      <td>5690.82</td>\n",
       "    </tr>\n",
       "    <tr>\n",
       "      <th>Taxes</th>\n",
       "      <td>1200.00</td>\n",
       "    </tr>\n",
       "    <tr>\n",
       "      <th>Taxi</th>\n",
       "      <td>84.30</td>\n",
       "    </tr>\n",
       "    <tr>\n",
       "      <th>Travel</th>\n",
       "      <td>1064.49</td>\n",
       "    </tr>\n",
       "    <tr>\n",
       "      <th>Wedding</th>\n",
       "      <td>3100.23</td>\n",
       "    </tr>\n",
       "  </tbody>\n",
       "</table>\n",
       "<p>352 rows × 1 columns</p>\n",
       "</div>"
      ],
      "text/plain": [
       "                            amount\n",
       "month category                    \n",
       "1     Auto_Fees             251.92\n",
       "      Auto_Payments         229.78\n",
       "      Bills_and_Utilities  1254.66\n",
       "      Books_and_Supplies     71.73\n",
       "      Care_and_Shopping    1738.96\n",
       "...                            ...\n",
       "12    Services_Fees        5690.82\n",
       "      Taxes                1200.00\n",
       "      Taxi                   84.30\n",
       "      Travel               1064.49\n",
       "      Wedding              3100.23\n",
       "\n",
       "[352 rows x 1 columns]"
      ]
     },
     "execution_count": 188,
     "metadata": {},
     "output_type": "execute_result"
    }
   ],
   "source": [
    "transactions.reset_index(inplace=True)\n",
    "transactions['month'] = transactions.date.dt.month\n",
    "transactions.groupby(['month','category']).agg('sum')"
   ]
  },
  {
   "cell_type": "code",
   "execution_count": null,
   "id": "c76c037b",
   "metadata": {},
   "outputs": [],
   "source": [
    "transactions.reset_index(inplace=True)\n",
    "transactions['month'] = transactions.date.dt.month\n",
    "transactions.groupby(['month','category']).agg('sum')"
   ]
  }
 ],
 "metadata": {
  "kernelspec": {
   "display_name": "Python 3 (ipykernel)",
   "language": "python",
   "name": "python3"
  },
  "language_info": {
   "codemirror_mode": {
    "name": "ipython",
    "version": 3
   },
   "file_extension": ".py",
   "mimetype": "text/x-python",
   "name": "python",
   "nbconvert_exporter": "python",
   "pygments_lexer": "ipython3",
   "version": "3.9.7"
  }
 },
 "nbformat": 4,
 "nbformat_minor": 5
}
