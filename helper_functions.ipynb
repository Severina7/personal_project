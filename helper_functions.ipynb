{
 "cells": [
  {
   "cell_type": "code",
   "execution_count": 4,
   "id": "1fc20502",
   "metadata": {},
   "outputs": [],
   "source": [
    "import pandas as pd\n",
    "import numpy as np\n",
    "import matplotlib.pyplot as plt\n",
    "import seaborn as sns"
   ]
  },
  {
   "cell_type": "code",
   "execution_count": 2,
   "id": "32d94396",
   "metadata": {},
   "outputs": [],
   "source": [
    "def get_info_and_stats(df):\n",
    "    '''\n",
    "    get_info_stats takes a DataFrame and returns information\n",
    "    about the content of the DataFrame, the number of null\n",
    "    values and a statistical description of the DataFrame\n",
    "    '''\n",
    "    print(df.info(), df.isna().mean(), df.describe(), sep='\\n#############################################\\n')\n",
    "\n",
    "def multi_frequency(df,vars):\n",
    "    '''\n",
    "    multi_frequency takes a dataframe and a list of columns,\n",
    "    return a dataframe with the count and the frequency of the missing data\n",
    "    '''\n",
    "    frequency=df[vars].isnull().sum()\n",
    "    percentage=df[vars].isnull().sum()*100/(len(df))\n",
    "    df=pd.concat([frequency,percentage], axis=1, keys=['num_rows_missing', 'pct_rows_missing'])\n",
    "    return df\n",
    "\n",
    "def value_counts(df):\n",
    "    cat_cols = df.columns[[df[col].dtype == 'O' for col in df.columns]]\n",
    "    for col in cat_cols:\n",
    "        print(df[col].value_counts())\n",
    "        print(df[col].value_counts(normalize=True, dropna=False))\n",
    "        print('\\n###################################\\n')"
   ]
  },
  {
   "cell_type": "code",
   "execution_count": 5,
   "id": "7673696c",
   "metadata": {},
   "outputs": [],
   "source": [
    "def plot_continuous_distribution(data: pd.DataFrame = None, column: str = None, height: int = 12):\n",
    "  _ = sns.displot(data, x=column, kde=True, height=height, aspect=height/5, palette='colorblind').set(title=f'Distribution of {column}');\n",
    "\n",
    "def get_unique_values(data, column):\n",
    "  num_unique_values = len(data[column].unique())\n",
    "  value_counts = data[column].value_counts()\n",
    "  print(f\"Column: {column} has {num_unique_values} unique values\\n\")\n",
    "  print(value_counts, '\\n')\n",
    "\n",
    "def plot_categorical_distribution(data: pd.DataFrame = None, column: str = None, height: int = 8, aspect: int = 2):\n",
    "  plot = sns.catplot(\n",
    "      data=data,\n",
    "      x=column, \n",
    "      kind='count', \n",
    "      height=height, aspect=aspect, palette='colorblind').set(title=f'Distribution of {column}')\n",
    "  plot.set_xticklabels(rotation=90)\n",
    "\n",
    "\n",
    "def correlation_plot(data: pd.DataFrame = None):\n",
    "  corr = df.corr()\n",
    "  corr.style.background_gradient(cmap='coolwarm')"
   ]
  },
  {
   "cell_type": "code",
   "execution_count": 6,
   "id": "6cbe4b41",
   "metadata": {},
   "outputs": [],
   "source": [
    "# # Plotting with seaborn and rotating the x axis\n",
    "\n",
    "# sns.set(rc={'figure.figsize':(17,10)})\n",
    "# chart = sns.histplot(\n",
    "#     data=df,\n",
    "#     x='category',\n",
    "#     palette='colorblind',\n",
    "#     hue='category',\n",
    "# )\n",
    "# var = chart.set_xticklabels(chart.get_xticklabels(), rotation=45)"
   ]
  }
 ],
 "metadata": {
  "kernelspec": {
   "display_name": "Python 3 (ipykernel)",
   "language": "python",
   "name": "python3"
  },
  "language_info": {
   "codemirror_mode": {
    "name": "ipython",
    "version": 3
   },
   "file_extension": ".py",
   "mimetype": "text/x-python",
   "name": "python",
   "nbconvert_exporter": "python",
   "pygments_lexer": "ipython3",
   "version": "3.9.7"
  }
 },
 "nbformat": 4,
 "nbformat_minor": 5
}
