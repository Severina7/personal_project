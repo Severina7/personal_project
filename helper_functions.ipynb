{
 "cells": [
  {
   "cell_type": "code",
   "execution_count": 1,
   "id": "7bd2e88d",
   "metadata": {},
   "outputs": [],
   "source": [
    "import pandas as pd\n",
    "import numpy as np\n",
    "import matplotlib as plt\n",
    "import seaborn as sns"
   ]
  },
  {
   "cell_type": "code",
   "execution_count": 2,
   "id": "1ff74957",
   "metadata": {},
   "outputs": [],
   "source": [
    "def get_info_and_stats(df):\n",
    "    '''\n",
    "    get_info_stats takes a DataFrame and returns information\n",
    "    about the content of the DataFrame, the number of null\n",
    "    values and a statistical description of the DataFrame\n",
    "    '''\n",
    "    print(df.info(), df.isna().mean(), df.describe(), sep='\\n#############################################\\n')\n",
    "\n",
    "def multi_frequency(df,vars):\n",
    "    '''\n",
    "    multi_frequency takes a dataframe and a list of columns,\n",
    "    return a dataframe with the count and the frequency of the missing data\n",
    "    '''\n",
    "    frequency=df[vars].isnull().sum()\n",
    "    percentage=df[vars].isnull().sum()*100/(len(df))\n",
    "    df=pd.concat([frequency,percentage], axis=1, keys=['num_rows_missing', 'pct_rows_missing'])\n",
    "    return df\n",
    "\n",
    "def value_counts(df):\n",
    "    cat_cols = df.columns[[df[col].dtype == 'O' for col in df.columns]]\n",
    "    for col in cat_cols:\n",
    "        print(df[col].value_counts())\n",
    "        print(df[col].value_counts(normalize=True, dropna=False))\n",
    "        print('\\n###################################\\n')"
   ]
  },
  {
   "cell_type": "code",
   "execution_count": null,
   "id": "26292f57",
   "metadata": {},
   "outputs": [],
   "source": []
  }
 ],
 "metadata": {
  "kernelspec": {
   "display_name": "Python 3 (ipykernel)",
   "language": "python",
   "name": "python3"
  },
  "language_info": {
   "codemirror_mode": {
    "name": "ipython",
    "version": 3
   },
   "file_extension": ".py",
   "mimetype": "text/x-python",
   "name": "python",
   "nbconvert_exporter": "python",
   "pygments_lexer": "ipython3",
   "version": "3.9.7"
  }
 },
 "nbformat": 4,
 "nbformat_minor": 5
}
